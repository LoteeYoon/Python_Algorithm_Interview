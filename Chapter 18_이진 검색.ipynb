{
 "cells": [
  {
   "cell_type": "markdown",
   "metadata": {},
   "source": [
    "- 이진 검색(Binary Search)이란 정렬된 배열에서 타겟을 찾는 검색 알고리즘이다."
   ]
  },
  {
   "cell_type": "code",
   "execution_count": 1,
   "metadata": {},
   "outputs": [],
   "source": [
    "## '이진 검색'은 값을 찾아내는 시간 복잡도가 O(logn)이라는 점에서 대표적인 로그 시간 알고리즘이며,\n",
    "## '이진 탐색 트리'(BST)와도 유사한 점이 많다.\n",
    "## 그러나 이진 탐색 트리가 정렬된 자료구조를 저장하고 탐색하는 '자료구조'라면\n",
    "## 이진 검색은 정렬된 배열에서 값을 찾아내는 '알고리즘' 자체를 지칭한다."
   ]
  },
  {
   "cell_type": "markdown",
   "metadata": {},
   "source": [
    "# 65. 이진 검색"
   ]
  },
  {
   "cell_type": "markdown",
   "metadata": {},
   "source": [
    "### LeetCode 704. Binary Search"
   ]
  },
  {
   "cell_type": "markdown",
   "metadata": {},
   "source": [
    "##### 정렬된 nums를 입력받아 이진 검색으로 target에 해당하는 인덱스를 찾아라"
   ]
  },
  {
   "cell_type": "code",
   "execution_count": 2,
   "metadata": {},
   "outputs": [],
   "source": [
    "## 예제 1\n",
    "    ## input: nums = [-1, 0, 3, 5, 9, 12], target = 9\n",
    "    ## output: 4"
   ]
  },
  {
   "cell_type": "markdown",
   "metadata": {},
   "source": [
    "##### 풀이 1 재귀 풀이"
   ]
  },
  {
   "cell_type": "code",
   "execution_count": 3,
   "metadata": {},
   "outputs": [],
   "source": [
    "## 먼저 간단히 재귀로 이진 검색을 구현할 수 있다."
   ]
  },
  {
   "cell_type": "code",
   "execution_count": 4,
   "metadata": {},
   "outputs": [],
   "source": [
    "from typing import *\n",
    "\n",
    "def search(nums: List[int], target: int) -> int:\n",
    "    def binary_search(left, right):\n",
    "        if left <= right:\n",
    "            mid = (left + right) // 2\n",
    "            \n",
    "            if nums[mid] < target:\n",
    "                return binary_search(mid + 1, right)\n",
    "            elif nums[mid] > target:\n",
    "                return binary_search(left, mid - 1)\n",
    "            else:\n",
    "                return mid\n",
    "            \n",
    "        else:\n",
    "            return -1\n",
    "        \n",
    "    return binary_search(0, len(nums) - 1)"
   ]
  },
  {
   "cell_type": "code",
   "execution_count": 5,
   "metadata": {},
   "outputs": [
    {
     "data": {
      "text/plain": [
       "4"
      ]
     },
     "execution_count": 5,
     "metadata": {},
     "output_type": "execute_result"
    }
   ],
   "source": [
    "nums = [-1, 0, 3, 5, 9, 12]\n",
    "target = 9\n",
    "\n",
    "search(nums, target)"
   ]
  },
  {
   "cell_type": "code",
   "execution_count": 6,
   "metadata": {},
   "outputs": [],
   "source": [
    "## **** 파이썬 ****\n",
    "\n",
    "    ## 재귀 제한\n",
    "        \n",
    "        ## 파이썬에는 재귀 호출에 대한 호출 횟수 제한이 있으며 기본 값은 1,000으로 설정되어 있다."
   ]
  },
  {
   "cell_type": "code",
   "execution_count": 7,
   "metadata": {},
   "outputs": [
    {
     "data": {
      "text/plain": [
       "3000"
      ]
     },
     "execution_count": 7,
     "metadata": {},
     "output_type": "execute_result"
    }
   ],
   "source": [
    "import sys\n",
    "\n",
    "sys.getrecursionlimit()"
   ]
  },
  {
   "cell_type": "markdown",
   "metadata": {},
   "source": [
    "     ??? 책에서는 1,000이라고 했으나 실제로는 3,000이 나옴"
   ]
  },
  {
   "cell_type": "code",
   "execution_count": 8,
   "metadata": {},
   "outputs": [],
   "source": [
    "        ## 이 값은 변경할 수 있으나 일반적으로 코딩 테스트 플랫폼에서는 sys 모듈을 이용한 설정 변경을 허용하지 않기 때문에\n",
    "        ## 가급적 모든 재귀 풀이는 1,000회 반복 이내에 풀이가 가능하도록 구현해야 한다.\n",
    "        ## 앞서 풀이의 경우 별도로 횟수를 제한하지 않았으나 2^1000 은 매우 큰 수이기 때문에 \n",
    "        ## 이보다 큰 테스트 케이스로 인해 에러를 발생하는 일은 아마 없을 것이다.\n",
    "        ## 하지만 파이썬은 재귀 횟수의 제한이 있기 때문에 이 부분은 항상 유의해야 한다."
   ]
  },
  {
   "cell_type": "markdown",
   "metadata": {},
   "source": [
    "##### 풀이 2 반복 풀이"
   ]
  },
  {
   "cell_type": "code",
   "execution_count": 9,
   "metadata": {},
   "outputs": [],
   "source": [
    "def search(nums: List[int], target: int) -> int:\n",
    "    left, right = 0, len(nums) - 1\n",
    "    \n",
    "    while left <= right:\n",
    "        mid = (left + right) // 2\n",
    "        \n",
    "        if nums[mid] < target:\n",
    "            left = mid + 1\n",
    "        elif nums[mid] > target:\n",
    "            right = mid - 1\n",
    "        else:\n",
    "            return mid\n",
    "        \n",
    "    return -1"
   ]
  },
  {
   "cell_type": "code",
   "execution_count": null,
   "metadata": {},
   "outputs": [],
   "source": []
  },
  {
   "cell_type": "markdown",
   "metadata": {},
   "source": [
    "##### 풀이 3 이진 검색 모듈"
   ]
  },
  {
   "cell_type": "code",
   "execution_count": 10,
   "metadata": {},
   "outputs": [],
   "source": [
    "## 앞서 풀이 1과 2에서 이진 검색을 직접 구현했지만 사실 파이썬에서는 이진 검색을 직접 구현할 필요가 없다.\n",
    "## 이진 검색 알고리즘을 지원하는 bisect 모듈을 기본으로 제공하기 떄문이다. \n",
    "## 여러 가지 예외 처리를 포함한 이진 검색 알고리즘이 깔끔하게 모듈 형태로 구현되어 있다."
   ]
  },
  {
   "cell_type": "markdown",
   "metadata": {},
   "source": [
    "```\n",
    "bisect_left(a, x)<br/>\n",
    "     --> 오름차순 정렬된 a에 x를 삽입할 위치를 리턴해준다. x가 이미 a에 있으면 x가 들어갈 가장 왼쪽 인덱스 반환\n",
    "     \n",
    "\n",
    "bisect_right(a, x)<br/>\n",
    "     --> 오름차순 정렬된 a에 x를 삽입할 위치를 리턴해준다. x가 이미 a에 있으면 x가 들어갈 가장 오른쪽 인덱스 반환\n",
    "``` "
   ]
  },
  {
   "cell_type": "code",
   "execution_count": 11,
   "metadata": {},
   "outputs": [
    {
     "name": "stdout",
     "output_type": "stream",
     "text": [
      "3\n",
      "5\n"
     ]
    }
   ],
   "source": [
    "from bisect import bisect_right, bisect_left\n",
    "\n",
    "a = [1,2,3,4,4,8]\n",
    "x = 4\n",
    "\n",
    "print(bisect_left(a,x))\n",
    "print(bisect_right(a,x))"
   ]
  },
  {
   "cell_type": "code",
   "execution_count": 12,
   "metadata": {},
   "outputs": [],
   "source": [
    "import bisect\n",
    "\n",
    "def search(nums: List[int], target: int) -> int:\n",
    "    index = bisect.bisect_left(nums, target)\n",
    "    \n",
    "    if index < len(nums) and nums[index] == target:\n",
    "        return index\n",
    "    else:\n",
    "        return -1"
   ]
  },
  {
   "cell_type": "code",
   "execution_count": null,
   "metadata": {},
   "outputs": [],
   "source": []
  },
  {
   "cell_type": "markdown",
   "metadata": {},
   "source": [
    "##### 풀이 4 이진 검색을 사용하지 않는 index 풀이"
   ]
  },
  {
   "cell_type": "code",
   "execution_count": 13,
   "metadata": {},
   "outputs": [],
   "source": [
    "## 앞서 풀이 1에서 3까지는 이진 검색을 사용하는 풀이였지만, 이번에는 이진 검색을 사용하지 않고 한 번 풀어보자\n",
    "## 파이썬에서 제공하는 해당 값의 인덱스를 찾아내는 index() 메소드를 활용하는 방법이다.\n",
    "## 이 경우 존재하지 않는 값이라면 에러가 발생하므로, 에러인 ValueError를 예외 처리하여 -1을 리턴하도록 처리하면 된다."
   ]
  },
  {
   "cell_type": "code",
   "execution_count": 14,
   "metadata": {},
   "outputs": [],
   "source": [
    "def search(nums: List[int], target: int) -> int:\n",
    "    try:\n",
    "        return nums.index(target)\n",
    "    except ValueError:\n",
    "        return -1"
   ]
  },
  {
   "cell_type": "code",
   "execution_count": 15,
   "metadata": {},
   "outputs": [],
   "source": [
    "## 이 방식은 이진 검색이 아니며, 이진 검색을 요구하는데 이렇게 풀이해선 안 된다.\n",
    "## 오프라인 코딩 테스트에서는 이 같은 방식으로 풀이할 일은 없을 것이고, \n",
    "## 온라인 테스트 시에는 시도해볼 만하지만 썩 좋은 방법은 아니다.\n",
    "## 경우에 따라 페널티를 받을 수 있으므로 유의해야 한다."
   ]
  },
  {
   "cell_type": "code",
   "execution_count": 16,
   "metadata": {},
   "outputs": [],
   "source": [
    "## 모든 풀이 방식은 속도 차이가 거의 없으며, 재귀를 이용한 풀이가 가장 느린 편이다.\n",
    "## 실제로 코딩 테스트 시에는 가급적 재귀나 반복으로 직접 이진 검색을 풀이하는 편이 나중에 \n",
    "## 코드 리뷰를 하게 되는 경우 더 좋은 평가를 받을 수 있다."
   ]
  },
  {
   "cell_type": "code",
   "execution_count": 17,
   "metadata": {},
   "outputs": [],
   "source": [
    "## 그런데 과연 이진 검색을 사용하지 않는 index()를 이용한 풀이는 이진 검색 풀이와 속도 차이가 없을까?\n",
    "\n",
    "## 예제값 [-1, 0, 3, 5, 9, 12]을 기준으로 속도 테스트를 해본 결과는 다음과 같다.\n",
    "    ## >>> timeit -n 10000 bisect.bisect_left(a, 5)\n",
    "    ## 273 ns ± 10.3 ns per loop\n",
    "    \n",
    "    ## >>> timeit -n 10000 a.index(5)\n",
    "    ## 179 ns ± 8.52 ns per loop\n",
    "    \n",
    "## index() 쪽은 179 나노초인 데 반해 bisect 모듈은 273 나노초로 오히려 inde()가 30% 이상 빠르다.\n",
    "\n",
    "## 이번에는 입력값을 좀 더 크게 해보자\n",
    "\n",
    "## >>> a = [i for i in range(1, 100000, 3)]\n",
    "## 모두 33,333개가 될 것이다.\n",
    "    ## >>> timeit -n 10000 bisect.bisect_left(a, 7)\n",
    "    ## 561 ns ± 36 ns per loop\n",
    "    \n",
    "    ## >>> timeit -n 10000 a.index(7)\n",
    "    ## 201 ns ± 26.6 ns per loop\n",
    "    \n",
    "## 이번에도 index()가 2배 이상 빠르다.\n",
    "## 그럼 이번엔 좀 더 먼 곳에 위치한 값을 찾아보자\n",
    "    ## >>> timeit -n 10000 bisect.bisect_left(a, 77500)\n",
    "    ## 618 ns ± 26 ns per loop\n",
    "    \n",
    "    ## >>> timeit -n 10000 a.index(77500)\n",
    "    ## 331000 ns ± 26.6 ns per loop\n",
    "\n",
    "## 앞에서부터 차례대로 찾는 index() 함수는 최악의 경우 O(n)으로 뒤에 위치한 값일수록 점점 찾는 속도가 느려지며\n",
    "## 이처럼 1000배나 가까이 차이가 나는 경우도 생길 수 있다.\n",
    "## 반면 이진 검색은 항상 일정한 속도를 보인다. 이진 검색은 O(logn)으로, 아무리 큰 값이라도 속도 차이가 거의 없다.\n",
    "## 따라서 배열의 크기가 크고, 찾아야 하는 값이 항상 앞에만 있는 게 아니라면, bisect를 적극 활용해야 한다."
   ]
  },
  {
   "cell_type": "code",
   "execution_count": 18,
   "metadata": {},
   "outputs": [],
   "source": [
    "## **** 참고 ****\n",
    "\n",
    "    ## 이진 검색 알고리즘 버그\n",
    "    \n",
    "        ## 사실 이진 검색 알고리즘에는 오랫동안 아무도 발견하지 못한 버그가 있었다.\n",
    "        ## 앞서 65번 문제의 풀이에서, 중앙의 위치를 구하는 풀이 1의 코드 4행과 풀이 2의 4행을 자세히 보자"
   ]
  },
  {
   "cell_type": "markdown",
   "metadata": {},
   "source": [
    "```python\n",
    "mid = (left + right) // 2\n",
    "```"
   ]
  },
  {
   "cell_type": "code",
   "execution_count": 19,
   "metadata": {},
   "outputs": [],
   "source": [
    "        ## 수학적으로는 잘못된 점은 전혀 없다.\n",
    "        ## 그러나 컴퓨터과학에서는 문제를 일으킬 만한 소지가 있는 코드다.\n",
    "        ## 두 수를 더하면 항상 각각의 수보다 큰 수가 된다. 그러나 자료형에는 최댓값이 있다.\n",
    "        ## 만약 left + right가 자료형의 최댓값을 넘어선다면,\n",
    "        ## 구체적으로 int형일 때, 2^32 - 1을 넘어선다면, Overflow가 발생한다.\n",
    "        \n",
    "        ## 그렇다면 어떻게 구현하면 될까?\n",
    "        ## left + (right - left) / 2를 계산하면 Overflow를 피하면서 정확히 mid값을 구할 수 있다.\n",
    "        ## 두 수의 차를 반으로 나누고 낮은 수에 더하는 것이다.\n",
    "        ## 나눗셈의 결과가 실수형일 경우, 정수형으로 내림하는 부분을 포함해 다음과 같이 정리할 수 있다.\n",
    "        "
   ]
  },
  {
   "cell_type": "markdown",
   "metadata": {},
   "source": [
    "```python\n",
    "mid = left + (right - left) // 2\n",
    "```"
   ]
  },
  {
   "cell_type": "code",
   "execution_count": null,
   "metadata": {},
   "outputs": [],
   "source": []
  },
  {
   "cell_type": "markdown",
   "metadata": {},
   "source": [
    "# 66. 회전 정렬된 배열 검색"
   ]
  },
  {
   "cell_type": "markdown",
   "metadata": {},
   "source": [
    "### LeetCode 33. Search in Rotated Sorted Array"
   ]
  },
  {
   "cell_type": "markdown",
   "metadata": {},
   "source": [
    "##### 특정 피벗을 기준으로 회전하여 정렬된 배열에서 target 값의 인덱스를 출력하라"
   ]
  },
  {
   "cell_type": "code",
   "execution_count": 20,
   "metadata": {},
   "outputs": [],
   "source": [
    "## 예제 1\n",
    "    ## input: nums = [4, 5, 6, 7, 0, 1, 2], target = 1\n",
    "    ## output: 5\n",
    "    \n",
    "    ## 설명: 정렬된 입력값은 [0, 1, 2, 4, 5, 6, 7]이며 여기서 이진 검색을 통해 1의 위치를 찾은 다음\n",
    "    ##       원래의 입력값에서 얼마만큼 돌아가 있는지를 확인한다. index 1 + 4 칸 = index 5"
   ]
  },
  {
   "cell_type": "markdown",
   "metadata": {},
   "source": [
    "##### 풀이 1 피벗을 기준으로 한 이진 검색"
   ]
  },
  {
   "cell_type": "code",
   "execution_count": 21,
   "metadata": {},
   "outputs": [],
   "source": [
    "## 정렬이 되어 있긴 한데, 피벗을 기준으로 입력값이 돌아간 상황이다.\n",
    "## 피벗이 어떤 것인지 모르는 상태이므로, 먼저 피벗을 찾아야 할 것 같다.\n",
    "## 예제의 입력값의 경우 피벗은 index 4 이다. \n",
    "## 피벗을 찾는 방법은 여러 가지가 있겠지만, 여기서 가장 작은 값을 찾는다면 해당 위치의 인덱스가 피벗이 될 수 있을 것 같다."
   ]
  },
  {
   "cell_type": "code",
   "execution_count": 22,
   "metadata": {},
   "outputs": [],
   "source": [
    "## 최솟값을 찾아보자. 여기서는 이진 검색으로 찾는다.\n",
    "## 만약 코딩 테스트가 아니라면 과학 계산 라이브러리 numpy 모듈을 활용해 numpy.argmin() 단 한 줄로 찾을 수 있을 것이다.\n",
    "## 따라서 다음과 같은 코드로 넘파이의 argmin()을 흉내낼 수 있다."
   ]
  },
  {
   "cell_type": "markdown",
   "metadata": {},
   "source": [
    "```python\n",
    "pivot = nums.index(min(nums))\n",
    "```"
   ]
  },
  {
   "cell_type": "code",
   "execution_count": 23,
   "metadata": {},
   "outputs": [],
   "source": [
    "## 그러나 이진 검색을 직접 구현한다는 데 의의가 있으므로 전자를 활용해 구현해보겠다."
   ]
  },
  {
   "cell_type": "code",
   "execution_count": 24,
   "metadata": {},
   "outputs": [],
   "source": [
    "def search(nums: List[int], target: int) -> int:\n",
    "    # 예외 처리\n",
    "    if not nums:\n",
    "        return -1\n",
    "    \n",
    "    # 최솟값을 찾아 피벗 설정\n",
    "    left, right = 0, len(num) - 1\n",
    "    while left < right:\n",
    "        mid = left + (right - left) // 2\n",
    "        \n",
    "        if nums[mid] > nums[right]:\n",
    "            left = mid + 1\n",
    "        else:\n",
    "            right = mid\n",
    "            \n",
    "    pivot = left # 최솟값의 인덱스\n",
    "    \n",
    "    # 피벗 기준 이진 검색\n",
    "    left, right = 0, len(nums) - 1\n",
    "    while left <= right:\n",
    "        mid = left + (right - left) // 2\n",
    "        mid_pivot = (mid + pivot) % len(nums)\n",
    "        \n",
    "        if nums[mid_pivot] < target:\n",
    "            left = mid + 1\n",
    "        elif nums[mid_pivot] > target:\n",
    "            right = mid - 1\n",
    "        else:\n",
    "            return mid_pivot\n",
    "    \n",
    "    return -1"
   ]
  },
  {
   "cell_type": "code",
   "execution_count": null,
   "metadata": {},
   "outputs": [],
   "source": []
  },
  {
   "cell_type": "markdown",
   "metadata": {},
   "source": [
    "# 67. 두 배열의 교집합"
   ]
  },
  {
   "cell_type": "markdown",
   "metadata": {},
   "source": [
    "### LeetCode 349. Intersection of Two Arrays"
   ]
  },
  {
   "cell_type": "markdown",
   "metadata": {},
   "source": [
    "##### 두 배열의 교집합을 구하라"
   ]
  },
  {
   "cell_type": "code",
   "execution_count": 25,
   "metadata": {},
   "outputs": [],
   "source": [
    "## 예제 1\n",
    "    ## input: nums1 = [1, 2, 2, 1], nums2 = [2, 2]\n",
    "    ## output: [2]\n",
    "    \n",
    "## 예제 2\n",
    "    ## input: nums2 = [4, 9, 5], nums2 = [9, 4, 9, 8, 4]\n",
    "    ## output: [9, 4]"
   ]
  },
  {
   "cell_type": "markdown",
   "metadata": {},
   "source": [
    "##### 풀이 1 브루트 포스로 계산"
   ]
  },
  {
   "cell_type": "code",
   "execution_count": 26,
   "metadata": {},
   "outputs": [],
   "source": [
    "## 이 문제는 이진 검색과 투 포인터 등 다양한 풀이법을 시도할 수 있다.\n",
    "## 먼저 가장 간단한 브루트 포스로 풀어보자"
   ]
  },
  {
   "cell_type": "code",
   "execution_count": 27,
   "metadata": {},
   "outputs": [],
   "source": [
    "def intersection(nums1: List[int], nums2: List[int]) -> List[int]:\n",
    "    result = set()\n",
    "    \n",
    "    for n1 in nums1:\n",
    "        for n2 in nums2:\n",
    "            if n1 ==  n2:\n",
    "                result.add(n1)\n",
    "                \n",
    "    return result"
   ]
  },
  {
   "cell_type": "code",
   "execution_count": 28,
   "metadata": {},
   "outputs": [],
   "source": [
    "## O(n^2)으로 반복하면서 일치하는 경우 무조건 추가한다.\n",
    "## 데이터 타입이 set이기 때문에 속도는 느리긴 해도 중복된 값은 알아서 잘 처리해줄 것이다."
   ]
  },
  {
   "cell_type": "markdown",
   "metadata": {},
   "source": [
    "##### 풀이 2 이진 검색으로 일치 여부 판별"
   ]
  },
  {
   "cell_type": "code",
   "execution_count": 29,
   "metadata": {},
   "outputs": [],
   "source": [
    "## 한쪽은 순서대로 탐색하고 다른 쪽은 정렬해서 이진 검색으로 값을 찾으면, 검색 효율을 높일 수 있다.\n",
    "## 이 경우 시간 복잡도는 O(nlogn)이 될 것이다.\n",
    "## nums2 정렬에 O(nlogn), nums1 순차 반복에 O(n)이므로 전체는 O(nlogn)이다."
   ]
  },
  {
   "cell_type": "code",
   "execution_count": 30,
   "metadata": {},
   "outputs": [],
   "source": [
    "def intersection(nums1: List[int], nums2: List[int]) -> List[int]:\n",
    "    result = set()\n",
    "    nums2.sort()\n",
    "    for n1 in nums1:\n",
    "        i2 = bisect.bisect_left(nums2, n1) \n",
    "        # n1이 nums2에서 들어갈 위치 찾는 것이므로 값이 같은지도 비교해야함\n",
    "        if len(nums2) > 0 and len(nums2) > i2 and n1 == nums2[i2]:\n",
    "            result.add(n1)\n",
    "            \n",
    "    return result\n",
    "            "
   ]
  },
  {
   "cell_type": "markdown",
   "metadata": {},
   "source": [
    "##### 풀이 3 투 포인터로 일치 여부 판별"
   ]
  },
  {
   "cell_type": "code",
   "execution_count": 31,
   "metadata": {},
   "outputs": [],
   "source": [
    "## 이 문제는 양쪽 다 정렬하여 투 포인터로 풀 수 있다.\n",
    "## 병합 정렬 시 마지막에 최종 결과를 비교하는 과정과 유사하다.\n",
    "## 다만 일치하는 값을 판별한다는 차이만 있을 뿐이다.\n",
    "## 이 경우 정렬에 2 * O(nlogn), 비교에 O(2n)이 소요되므로, 전체 O(nlogn)에 풀이가 가능하다."
   ]
  },
  {
   "cell_type": "code",
   "execution_count": 32,
   "metadata": {},
   "outputs": [],
   "source": [
    "def intersection(nums1: List[int], nums2: List[int]) -> List[int]:\n",
    "    result = set()\n",
    "    \n",
    "    # 양쪽 모두 정렬\n",
    "    nums1.sort()\n",
    "    nums2.sort()\n",
    "    \n",
    "    i = j = 0\n",
    "    \n",
    "    # 투 포인터 우측으로 이동하며 일치 여부 판별\n",
    "    while i < len(nums1) and j < len(nums2):\n",
    "        if nums1[i] > nums2[j]:\n",
    "            j += 1\n",
    "        elif nums1[i] < nums2[j]:\n",
    "            i += 1\n",
    "        else:\n",
    "            result.add(nums1[i])\n",
    "            i += 1\n",
    "            j += 1\n",
    "            \n",
    "    return result"
   ]
  },
  {
   "cell_type": "code",
   "execution_count": null,
   "metadata": {},
   "outputs": [],
   "source": []
  },
  {
   "cell_type": "markdown",
   "metadata": {},
   "source": [
    "# 68. 두 수의 합 2"
   ]
  },
  {
   "cell_type": "markdown",
   "metadata": {},
   "source": [
    "### LeetCode 167. Two Sum 2 - Input array is sorted"
   ]
  },
  {
   "cell_type": "markdown",
   "metadata": {},
   "source": [
    "##### 정렬된 배열을 받아 덧셈하여 타겟을 만들 수 있는 배열의 두 숫자 인덱스를 리턴하라"
   ]
  },
  {
   "cell_type": "markdown",
   "metadata": {},
   "source": [
    "* 주의: 이 문제에서 배열은 0이 아닌 1부터 시작하는 것으로 한다."
   ]
  },
  {
   "cell_type": "code",
   "execution_count": 33,
   "metadata": {},
   "outputs": [],
   "source": [
    "## 예제 1\n",
    "    ## input: [2, 7, 11, 15], target = 9\n",
    "    ## output: [1, 2]"
   ]
  },
  {
   "cell_type": "markdown",
   "metadata": {},
   "source": [
    "##### 풀이 1 투 포인터"
   ]
  },
  {
   "cell_type": "code",
   "execution_count": 34,
   "metadata": {},
   "outputs": [],
   "source": [
    "## 앞서 7장의 7번 '두 수의 합' 문제는 투 포인터로 풀 수 없다고 했다.\n",
    "## 그러나 이 문제는 입력 배열이 정렬되어 있다는 가정이 추가됐다.\n",
    "## 따라서 이 문제는 투 포인터로도 잘 풀릴 것이다."
   ]
  },
  {
   "cell_type": "code",
   "execution_count": 35,
   "metadata": {},
   "outputs": [],
   "source": [
    "def twoSum(numbers: List[int], target: int) -> List[int]:\n",
    "    left, right = 0, len(numbers) - 1\n",
    "    while not left == right:\n",
    "        if numbers[left] + numbers[right] < target:\n",
    "            left += 1\n",
    "        elif numbers[left] + numbers[right] > target:\n",
    "            right -= 1\n",
    "        else:\n",
    "            return left + 1, right + 1  # 배열이 1부터 시작한다는 조건"
   ]
  },
  {
   "cell_type": "code",
   "execution_count": 36,
   "metadata": {},
   "outputs": [],
   "source": [
    "## 투 포인터 풀이의 경우 O(n)에 풀이할 수 있다."
   ]
  },
  {
   "cell_type": "markdown",
   "metadata": {},
   "source": [
    "##### 풀이 2 이진 검색"
   ]
  },
  {
   "cell_type": "code",
   "execution_count": 37,
   "metadata": {},
   "outputs": [],
   "source": [
    "## 이 장의 주제인 이진 검색으로 풀이해보자.\n",
    "## 현재 값을 기준으로 나머지 값이 맞는지 확인하는 형태의 풀이를 시도해볼 수 있을 것 같다."
   ]
  },
  {
   "cell_type": "code",
   "execution_count": 38,
   "metadata": {},
   "outputs": [],
   "source": [
    "def twoSum(numbers: List[int], target: int) -> List[int]:\n",
    "    for k, v in enumerate(numbers):\n",
    "        left, right = k + 1, len(numbers) - 1\n",
    "        expected = target - v\n",
    "        \n",
    "        # 이진 검색으로 나머지 값 판별\n",
    "        while left <= right:\n",
    "            mid = left + (right - left) // 2\n",
    "            if numbers[mid] < expected:\n",
    "                left = mid + 1\n",
    "            elif numbers[mid] > expected:\n",
    "                right = mid - 1\n",
    "            else:\n",
    "                return k + 1, mid + 1"
   ]
  },
  {
   "cell_type": "code",
   "execution_count": 39,
   "metadata": {},
   "outputs": [],
   "source": [
    "## 이 경우 이진 검색을 n번 반복하므로 시간 복잡도는 O(nlogn)이 된다.\n",
    "## 이 2가지 방식만 놓고 봤을 때는, 투 포인터가 O(n)으로 이진 검색 풀이 O(nlogn)에 비해 더 빠르다."
   ]
  },
  {
   "cell_type": "markdown",
   "metadata": {},
   "source": [
    "##### 풀이 3 bisect 모듈 + 슬라이싱"
   ]
  },
  {
   "cell_type": "code",
   "execution_count": 40,
   "metadata": {},
   "outputs": [],
   "source": [
    "def twoSum(numbers: List[int], target: int) -> List[int]:\n",
    "    for k, v in enumerate(numbers):\n",
    "        expected = target - v\n",
    "        i = bisect.bisect_left(numbers[k + 1:], expected)\n",
    "        if i < len(numbers[k + 1:]) and numbers[i + k + 1] == expected:\n",
    "            return k + 1, i + k + 2"
   ]
  },
  {
   "cell_type": "code",
   "execution_count": 41,
   "metadata": {},
   "outputs": [],
   "source": [
    "## left와 right 변수도 필요 없고, 예상대로 코드는 엄청 깔끔해졌다.\n",
    "## 그런데 이 풀이의 실행 속도는 무려 2184ms에 다다른다.\n",
    "## 2초 이상이 소요되는 셈이다.\n",
    "## 왜 그럴까? 성능 개선을 시도해보자."
   ]
  },
  {
   "cell_type": "markdown",
   "metadata": {},
   "source": [
    "##### 풀이 4 bisect 모듈 + 슬라이싱 최소화"
   ]
  },
  {
   "cell_type": "code",
   "execution_count": 42,
   "metadata": {},
   "outputs": [],
   "source": [
    "## 아무래도 파이썬 슬라이싱을 무리하게 적용한 게 원인인 듯 하여 nums 변수에\n",
    "## 한 번만 사용해 담아두는 형태로 다음과 같이 개선을 시도해봤다."
   ]
  },
  {
   "cell_type": "code",
   "execution_count": 43,
   "metadata": {},
   "outputs": [],
   "source": [
    "def twoSum(numbers: List[int], target: int) -> List[int]:\n",
    "    for k, v in enumerate(numbers):\n",
    "        expected = target - v\n",
    "        nums = numbers[k + 1:]\n",
    "        i = bisect.bisect_left(nums, expected)\n",
    "        if i < len(nums) and numbers[i + k + 1] == expected:\n",
    "            return k + 1, i + k + 2"
   ]
  },
  {
   "cell_type": "code",
   "execution_count": 44,
   "metadata": {},
   "outputs": [
    {
     "data": {
      "text/plain": [
       "(1, 2)"
      ]
     },
     "execution_count": 44,
     "metadata": {},
     "output_type": "execute_result"
    }
   ],
   "source": [
    "numbers = [2, 7, 11, 15]\n",
    "target = 9\n",
    "\n",
    "twoSum(numbers, target)"
   ]
  },
  {
   "cell_type": "code",
   "execution_count": 45,
   "metadata": {},
   "outputs": [],
   "source": [
    "## 이렇게 하니 1136밀리초에 풀려 앞서 풀이에 비해 2배가량 속도가 빨라졌다.\n",
    "## 그래도 풀이 1에 비해서는 많이 느리다.\n",
    "## 좀 더 개선할 방법이 필요하다."
   ]
  },
  {
   "cell_type": "markdown",
   "metadata": {},
   "source": [
    "##### 풀이 5 bisect 모듈 + 슬라이싱 제거"
   ]
  },
  {
   "cell_type": "code",
   "execution_count": 46,
   "metadata": {},
   "outputs": [],
   "source": [
    "## bisect_left() 메소드의 공식 문서를 살펴보니 다음과 같이 기본 파라미터 외에도 여러 추가 파라미터가 있는 것을 발견했다."
   ]
  },
  {
   "cell_type": "markdown",
   "metadata": {},
   "source": [
    "```python\n",
    "bisect.bisect_left(a, x, lo = 0, hi = len(a))\n",
    "```"
   ]
  },
  {
   "cell_type": "code",
   "execution_count": 47,
   "metadata": {},
   "outputs": [],
   "source": [
    "## 이를 참고해 왼쪽 범위를 제한하는 파라미터인 lo를 찾아내고, 이 값을 지정하는 것으로 풀이했다.\n",
    "## 이제 슬라이싱을 사용할 필요가 없어졌다."
   ]
  },
  {
   "cell_type": "code",
   "execution_count": 48,
   "metadata": {},
   "outputs": [],
   "source": [
    "def twoSum(numbers: List[int], target: int) -> List[int]:\n",
    "    for k, v in enumerate(numbers):\n",
    "        expected = target - v\n",
    "        i = bisect.bisect_left(numbers, expected, k + 1)\n",
    "        if i < len(nums) and numbers[i] == expected:\n",
    "            return k + 1, i + 1"
   ]
  },
  {
   "cell_type": "code",
   "execution_count": 49,
   "metadata": {},
   "outputs": [],
   "source": [
    "## **** 파이썬 ****\n",
    "    \n",
    "    ## 슬라이싱 성능\n",
    "    \n",
    "        ## 파이썬의 슬라이싱은 매우 효율적이고 빠르다고 했는데 왜 이런 일이 발생할까?\n",
    "        ## 그 이유는 슬라이싱은 매번 새롭게 객체를 생성해서 할당하게 되고,\n",
    "        ## 매우 큰 배열의 경우 새로운 객체를 생성하는 데 상당한 시간이 들기 때문이다."
   ]
  },
  {
   "cell_type": "markdown",
   "metadata": {},
   "source": [
    "# 69. 2D 행렬 검색 2"
   ]
  },
  {
   "cell_type": "markdown",
   "metadata": {},
   "source": [
    "### LeetCode 240. Search a 2D Matrix 2"
   ]
  },
  {
   "cell_type": "markdown",
   "metadata": {},
   "source": [
    "##### mxn 행렬에서 값을 찾아내는 효율적인 알고리즘을 구현하라. 행렬은 왼쪽에서 오른쪽, 위에서 아래로 오름차순으로 정렬되어 있다."
   ]
  },
  {
   "cell_type": "markdown",
   "metadata": {},
   "source": [
    "- 예제<br/>\n",
    "   행렬은 다음과 같다.<br/>\n",
    "   \n",
    "   [<br/>[1, 4, 7, 11, 15],<br/>\n",
    "    [2, 5, 8, 12, 19],<br/>\n",
    "    [3, 6, 9, 16, 22],<br/>\n",
    "    [10, 13, 14, 17, 24],<br/>\n",
    "    [18, 21, 23, 26, 30]<br/>\n",
    "   ]\n",
    "   \n",
    "   target = 5일 경우, 값이 존재하므로 true를 리턴한다.<br/>\n",
    "   target = 20일 경우, 값이 존재하지 않으므로 false를 리턴한다.\n"
   ]
  },
  {
   "cell_type": "markdown",
   "metadata": {},
   "source": [
    "##### 풀이 1 첫 행의 맨 뒤에서 탐색"
   ]
  },
  {
   "cell_type": "code",
   "execution_count": 50,
   "metadata": {},
   "outputs": [],
   "source": [
    "## 이 문제는 Column을 기준으로 이진 검색을 수행한 다음, \n",
    "## 찾아낸 값을 기준으로 해당 위치의 Row를 기준으로 다시 이진 검색을 수행하면 될 것 같다.\n",
    "## 그러나 첫 번째 이진 검색은 쉽게 할 수 있지만 두 번째 이진 검색은 쉽지 않을 것 같다.\n",
    "## 왜냐면 각 Row에서 특정 인덱스를 기준으로 값을 추출해오는 데 적지 않은 연산이 필요하기 때문이다."
   ]
  },
  {
   "cell_type": "code",
   "execution_count": 51,
   "metadata": {},
   "outputs": [],
   "source": [
    "## 따라서 여기서는 좀 더 단순한 방법을 사용해보자\n",
    "## 첫 Row의 맨 뒤 요소를 택한 다음, 타겟보다 크면 왼쪽으로 이동, 타겟보다 작으면 아래로 이동하는 방법이다."
   ]
  },
  {
   "cell_type": "code",
   "execution_count": 52,
   "metadata": {},
   "outputs": [],
   "source": [
    "def searchMatrix(matrix: List[List[int]], target: int) -> bool:\n",
    "    # 예외 처리\n",
    "    if not matrix:\n",
    "        return False\n",
    "    \n",
    "    # 첫 행의 맨 뒤\n",
    "    row = 0\n",
    "    col = len(matrix[0]) - 1\n",
    "    \n",
    "    while row <= len(matrix) - 1 and col >= 0:\n",
    "        if target == matrix[row][col]:\n",
    "            return True\n",
    "        # 타겟보다 크면 왼쪽으로 이동\n",
    "        elif target < matrix[row][col]:\n",
    "            col -= 1\n",
    "        # 타겟보다 작으면 아래로 이동\n",
    "        elif target > matrix[row][col]:\n",
    "            row += 1\n",
    "        \n",
    "    return False"
   ]
  },
  {
   "cell_type": "code",
   "execution_count": 53,
   "metadata": {},
   "outputs": [
    {
     "data": {
      "text/plain": [
       "True"
      ]
     },
     "execution_count": 53,
     "metadata": {},
     "output_type": "execute_result"
    }
   ],
   "source": [
    "matrix = [[1,4,7,11,15],[2,5,8,12,19],[3,6,9,16,22],[10,13,14,17,24],[18,21,23,26,30]]\n",
    "target = 5\n",
    "\n",
    "searchMatrix(matrix, target)"
   ]
  },
  {
   "cell_type": "markdown",
   "metadata": {},
   "source": [
    "##### 풀이 2 파이썬다운 방식"
   ]
  },
  {
   "cell_type": "code",
   "execution_count": 54,
   "metadata": {},
   "outputs": [],
   "source": [
    "## 이 경우에는 파이썬이 내부적으로 행렬에 값이 존재하는지 여부를 위에서부터 차례대로 한 줄씩 탐색하게 될 것이다."
   ]
  },
  {
   "cell_type": "code",
   "execution_count": 55,
   "metadata": {},
   "outputs": [],
   "source": [
    "def searchMatrix(matrix: List[List[int]], target) -> bool:\n",
    "    return any(target in row for row in matrix)"
   ]
  },
  {
   "cell_type": "code",
   "execution_count": 56,
   "metadata": {},
   "outputs": [
    {
     "data": {
      "text/plain": [
       "True"
      ]
     },
     "execution_count": 56,
     "metadata": {},
     "output_type": "execute_result"
    }
   ],
   "source": [
    "matrix = [[1,4,7,11,15],[2,5,8,12,19],[3,6,9,16,22],[10,13,14,17,24],[18,21,23,26,30]]\n",
    "target = 5\n",
    "\n",
    "searchMatrix(matrix, target)"
   ]
  },
  {
   "cell_type": "code",
   "execution_count": 57,
   "metadata": {},
   "outputs": [],
   "source": [
    "## 언뜻 이진 검색과 관련된 문제로 보이고 이 장의 주제 또한 '이진 검색'이지만, 아이러니하게도\n",
    "## 이 문제는 이진 검색으로 풀기가 어렵고, 조금 다른 방법을 사용해야 했다.\n",
    "## 이처럼 예상과 달리 다른 방법으로 풀리는 경우가 있으므로,\n",
    "## 실제 코딩 테스트 시에도 예상 방식대로 풀이가 되지 않는다면 그 방식에 너무 많은 시간을 허비하지 않도록 유의해야 한다."
   ]
  },
  {
   "cell_type": "code",
   "execution_count": null,
   "metadata": {},
   "outputs": [],
   "source": []
  },
  {
   "cell_type": "code",
   "execution_count": 58,
   "metadata": {},
   "outputs": [],
   "source": [
    "## **** 문법 ****\n",
    "\n",
    "    ## any()와 all() 함수\n",
    "    \n",
    "        ## any()는 포함된 값 중 어느 하나라도 참이면 참으로 출력한다.\n",
    "        ## 논리 연산의 OR과 비슷하다.\n",
    "        \n",
    "        ## >>> any([True, False, False])\n",
    "        ## True\n",
    "        ## >>> True or False or False\n",
    "        ## True\n",
    "        \n",
    "        ## 반면 all() 함수는 모든 값이 참이어야 참을 출력한다.\n",
    "        ## 논리 연산의 AND와 유사하다.\n",
    "        \n",
    "        ## >>> all([True, False, False])\n",
    "        ## False\n",
    "        ## >>> all([True, True, True])\n",
    "        ## True\n",
    "        ## True and True and True\n",
    "        ## True"
   ]
  },
  {
   "cell_type": "code",
   "execution_count": null,
   "metadata": {},
   "outputs": [],
   "source": []
  },
  {
   "cell_type": "code",
   "execution_count": null,
   "metadata": {},
   "outputs": [],
   "source": []
  }
 ],
 "metadata": {
  "kernelspec": {
   "display_name": "Python 3",
   "language": "python",
   "name": "python3"
  },
  "language_info": {
   "codemirror_mode": {
    "name": "ipython",
    "version": 3
   },
   "file_extension": ".py",
   "mimetype": "text/x-python",
   "name": "python",
   "nbconvert_exporter": "python",
   "pygments_lexer": "ipython3",
   "version": "3.8.3"
  }
 },
 "nbformat": 4,
 "nbformat_minor": 4
}
