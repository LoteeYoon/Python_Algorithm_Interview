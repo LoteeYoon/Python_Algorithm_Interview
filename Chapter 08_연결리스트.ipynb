{
 "cells": [
  {
   "cell_type": "code",
   "execution_count": 1,
   "metadata": {},
   "outputs": [],
   "source": [
    "## 연결리스트는 데이터 요소의 선형 집합으로, 데이터의 순서가 메모리에 물리적인 순서대로 저장되지는 않는다.\n",
    "\n",
    "## 연결리스트는 컴퓨터 과학에서 배열과 함께 가장 기본이 되는 대표적인 선형 자료구조 중 하나로\n",
    "## 다양한 추상 자료형 구현의 기반이 된다.\n",
    "\n",
    "## 동적으로 새로운 노드를 삽입하거나 삭제하기가 간편하며,\n",
    "## 연결 구조를 통해 물리 메모리를 연속적으로 사용하지 않아도 되기 때문에 관리도 쉽다.\n",
    "## 또한 데이터를 구조체로 묶어서 포인터로 연결한다는 개념은 여러 가지 방법으로 다양하게 활용이 가능하다.\n",
    "\n",
    "## 연결리스트는 배열과는 달리 특정 인덱스에 접근하기 위해서는 전체를 순서대로 읽어야 하므로 \n",
    "## 상수 시간에 접근할 수 없다. 즉, 탐색에는 O(n)이 소요된다.\n",
    "## 반면, 시작 또는 끝 지점에 요소를 추가하거나 삭제, 추출하는 작업은 O(1)에 가능하다."
   ]
  },
  {
   "cell_type": "markdown",
   "metadata": {},
   "source": [
    "# 13. 팰린드롬 연결리스트"
   ]
  },
  {
   "cell_type": "markdown",
   "metadata": {},
   "source": [
    "### LeetCode 234. Palindrome Linked List"
   ]
  },
  {
   "cell_type": "markdown",
   "metadata": {},
   "source": [
    "##### 연결리스트가 팰린드롬 구조인지 판별하라"
   ]
  },
  {
   "cell_type": "code",
   "execution_count": 2,
   "metadata": {},
   "outputs": [],
   "source": [
    "## 예제 1\n",
    "    ## input : 1->2\n",
    "    ## output : false\n",
    "    \n",
    "## 예제 2\n",
    "    ## input : 1->2->2->1\n",
    "    ## output : true"
   ]
  },
  {
   "cell_type": "markdown",
   "metadata": {},
   "source": [
    "##### 풀이 1 리스트 변환"
   ]
  },
  {
   "cell_type": "code",
   "execution_count": 3,
   "metadata": {},
   "outputs": [],
   "source": [
    "## 팰린드롬 여부를 판별하기 위해서는 앞뒤로 모두 추출할 수 있는 자료구조가 필요하다.\n",
    "## 일반적인 스택 자료구조는 마지막 요소만 추출하는 연산만 있지만\n",
    "## 파이썬의 리스트는 pop() 함수에 인덱스를 지정할 수 있어 마지막 요소가 아니라도\n",
    "## 얼마든지 원하는 위치를 추출할 수 있다.\n",
    "## 따라서 이 문제는 연결리스트를 파이썬의 리스트로 변환하여 리스트의 기능을 이용하면 쉽게 풀 수 있다."
   ]
  },
  {
   "cell_type": "code",
   "execution_count": 4,
   "metadata": {},
   "outputs": [],
   "source": [
    "class ListNode:\n",
    "    def __init__(self, val=0, Next=None):\n",
    "        self.val = val\n",
    "        self.next = Next\n",
    "        "
   ]
  },
  {
   "cell_type": "code",
   "execution_count": 5,
   "metadata": {},
   "outputs": [],
   "source": [
    "a = ListNode(1, None)\n",
    "b = ListNode(2, a)\n",
    "c = ListNode(2, b)\n",
    "d = ListNode(1, c)"
   ]
  },
  {
   "cell_type": "code",
   "execution_count": 6,
   "metadata": {},
   "outputs": [
    {
     "data": {
      "text/plain": [
       "1"
      ]
     },
     "execution_count": 6,
     "metadata": {},
     "output_type": "execute_result"
    }
   ],
   "source": [
    "d.val"
   ]
  },
  {
   "cell_type": "code",
   "execution_count": 7,
   "metadata": {},
   "outputs": [
    {
     "data": {
      "text/plain": [
       "2"
      ]
     },
     "execution_count": 7,
     "metadata": {},
     "output_type": "execute_result"
    }
   ],
   "source": [
    "d.next.val"
   ]
  },
  {
   "cell_type": "code",
   "execution_count": 8,
   "metadata": {},
   "outputs": [
    {
     "data": {
      "text/plain": [
       "2"
      ]
     },
     "execution_count": 8,
     "metadata": {},
     "output_type": "execute_result"
    }
   ],
   "source": [
    "d.next.next.val"
   ]
  },
  {
   "cell_type": "code",
   "execution_count": 9,
   "metadata": {},
   "outputs": [
    {
     "data": {
      "text/plain": [
       "1"
      ]
     },
     "execution_count": 9,
     "metadata": {},
     "output_type": "execute_result"
    }
   ],
   "source": [
    "d.next.next.next.val"
   ]
  },
  {
   "cell_type": "code",
   "execution_count": 10,
   "metadata": {},
   "outputs": [],
   "source": [
    "## 1->2->2->1"
   ]
  },
  {
   "cell_type": "code",
   "execution_count": 11,
   "metadata": {},
   "outputs": [],
   "source": [
    "def isPalindrome(head: ListNode) -> bool:\n",
    "    q = []\n",
    "    \n",
    "    if not head:\n",
    "        return True\n",
    "    \n",
    "    node = head\n",
    "    \n",
    "    while node is not None:\n",
    "        q.append(node.val)\n",
    "        node = node.next\n",
    "        \n",
    "    while len(q) > 1:\n",
    "        if q.pop(0) != q.pop():\n",
    "            return False\n",
    "        \n",
    "    return True"
   ]
  },
  {
   "cell_type": "code",
   "execution_count": 12,
   "metadata": {},
   "outputs": [
    {
     "data": {
      "text/plain": [
       "True"
      ]
     },
     "execution_count": 12,
     "metadata": {},
     "output_type": "execute_result"
    }
   ],
   "source": [
    "isPalindrome(d)"
   ]
  },
  {
   "cell_type": "markdown",
   "metadata": {},
   "source": [
    "##### 풀이 2 데크를 이용한 최적화"
   ]
  },
  {
   "cell_type": "code",
   "execution_count": 13,
   "metadata": {},
   "outputs": [],
   "source": [
    "## 리스트로도 문제 없이 풀이했지만 좀 더 최적화를 할 수 있다.\n",
    "\n",
    "## 앞서 풀이의 문제점은 q.pop(0)에서 첫 번째 아이템을 추출할 때의 속도 문제다.\n",
    "## 동적 배열로 구성된 리스트는 맨 앞 아이템을 가져오기에 적합한 자료형이 아니다.\n",
    "## 왜냐하면 첫 번재 값을 꺼내오면 모든 값이 한 칸씩 시프팅되며, 시간복잡도가 O(n)이 발생하기 때문이다.\n",
    "## 파이썬의 Deque는 이중 연결리스트 구조로 양쪽 방향 모두 추출하는 데 시간 복잡도 O(1)에 실행된다."
   ]
  },
  {
   "cell_type": "code",
   "execution_count": 14,
   "metadata": {},
   "outputs": [],
   "source": [
    "import collections\n",
    "def isPalindrome(head: ListNode) -> bool:\n",
    "    q = collections.deque()\n",
    "    \n",
    "    if not head:\n",
    "        return True\n",
    "    \n",
    "    node = head\n",
    "    \n",
    "    while node is not None:\n",
    "        q.append(node.val)\n",
    "        node = node.next\n",
    "        \n",
    "    while len(q) > 1:\n",
    "        if q.popleft() != q.pop():\n",
    "            return False\n",
    "        \n",
    "    return True\n",
    "    "
   ]
  },
  {
   "cell_type": "code",
   "execution_count": 15,
   "metadata": {},
   "outputs": [
    {
     "data": {
      "text/plain": [
       "True"
      ]
     },
     "execution_count": 15,
     "metadata": {},
     "output_type": "execute_result"
    }
   ],
   "source": [
    "isPalindrome(d)"
   ]
  },
  {
   "cell_type": "markdown",
   "metadata": {},
   "source": [
    "##### 풀이 3 런너를 이용한 우아한 풀이"
   ]
  },
  {
   "cell_type": "code",
   "execution_count": 16,
   "metadata": {},
   "outputs": [],
   "source": [
    "## 사실 이 팰린드롬 연결 리스트 문제의 제대로 된 풀이법은 런너(Runner) 기법을 활용하는 것이다.\n",
    "\n",
    "## **** 참고 ****\n",
    "    \n",
    "    ## 런너 기법\n",
    "        \n",
    "        ## 런너는 연결리스트를 순회할 때 2개의 포인터를 동시에 사용하는 기법이다.\n",
    "        ## 한 포인터가 다른 포인터보다 앞서게 하여 병합 지점이나 중간 위치, 길이 등을 판별할 때\n",
    "        ## 유용하게 사용할 수 있다.\n",
    "        \n",
    "        ## 2개의 포인터는 각각 빠른 런너, 느린 런너라고 부르는데, 대개 빠른 런너는 두 칸씩 건너뛰고,\n",
    "        ## 느린런너는 한 칸씩 이동하게 된다.\n",
    "        ## 빠른 런너가 연결리스트의 끝에 도달하면, 느린 런너는 정확히 연결리스트의 중간 지점을 가리키게 된다.\n",
    "        ## 이 같은 방식으로 중간 위치를 찾아내면, 여기서부터 값을 비교하거나 뒤집기를 시도하는 등\n",
    "        ## 여러모로 활용할 수 있어 연결리스트 문제에서는 반드시 쓰이는 기법이기도 하다."
   ]
  },
  {
   "cell_type": "code",
   "execution_count": 17,
   "metadata": {},
   "outputs": [],
   "source": [
    "## 빠른 런너와 느린 런너를 각각 출발시키면, 느린 런너는 중간까지 이동하면서 역순으로 연결리스트를 만든다.\n",
    "## 이제 중간에 도달한 느린 런너가 나머지 경로를 이동할 때, 역순으로 만든 연결 리스트의 값들과 일치하는지 확인한다."
   ]
  },
  {
   "cell_type": "code",
   "execution_count": 18,
   "metadata": {},
   "outputs": [],
   "source": [
    "def isPalindrome(head: ListNode) -> bool:\n",
    "    rev = None\n",
    "    slow = fast = head\n",
    "    # 런너를 이용해 역순 연결 리스트 구성\n",
    "    while fast and fast.next:\n",
    "        fast = fast.next.next\n",
    "        rev, rev.next, slow = slow, rev, slow.next\n",
    "        \n",
    "    if fast:   # fast가 None이 아니면 홀수개의 입력이므로 중앙의 값을 건너 뛰도록 slow를 한 칸 건너뛴다. \n",
    "        slow = slow.next\n",
    "        \n",
    "    # 팰린드롬 여부 확인, 역순으로 만든 연결 리스트 rev를 반복한다.\n",
    "    while rev and rev.val == slow.val:\n",
    "        slow, rev = slow.next, rev.next\n",
    "    # 정상적으로 비교가 종료됐다면 slow와 rev가 모두 끝까지 이동해 둘 다 None이 될 것이다.\n",
    "    ## 따라서 not slow도 가능하다.\n",
    "    return not rev    "
   ]
  },
  {
   "cell_type": "code",
   "execution_count": 19,
   "metadata": {},
   "outputs": [
    {
     "data": {
      "text/plain": [
       "True"
      ]
     },
     "execution_count": 19,
     "metadata": {},
     "output_type": "execute_result"
    }
   ],
   "source": [
    "isPalindrome(d)"
   ]
  },
  {
   "cell_type": "code",
   "execution_count": 20,
   "metadata": {},
   "outputs": [],
   "source": [
    "## **** 문법 ****\n",
    "\n",
    "    ## 다중 할당\n",
    "        \n",
    "        ## 파이썬에서 다중 할당(Multiple Assignment)은 2개 이상의 값을 2개 이상의 변수에 동시에 할당하는 것을 말한다.\n",
    "        ## >>> a, b = 1, 2\n",
    "        ## 이처럼 한 번에 여러 개의 값을 여러 변수에 할당할 수 있는 파이썬의 독특한 문법은 매우 유용하다.\n",
    "        ## 앞서 풀이 또한 다중 할당을 이용해 효율적으로 풀이할 수 있었다.\n",
    "        ## 방금 풀이한 코드를 보면 \n",
    "        ## rev, rev.next, slow = slow, rev, slow.next\n",
    "        ## 이 코드를 보면 두 줄로 분기하면 훨씬 가독성이 높을 것 같다는 생각을 할 수 있다.\n",
    "        ## rev, rev.next = slow, rev\n",
    "        ## slow = slow.next\n",
    "        ## 그러나 이렇게 하면 위쪽 라인에서 slow와 rev가 동일한 참조가 된다."
   ]
  },
  {
   "cell_type": "code",
   "execution_count": 21,
   "metadata": {},
   "outputs": [],
   "source": [
    "## 파이썬에서는 원시 타입(primitive type)이 존재하지 않는다. 대신 모든 것이 객체다.\n",
    "## 여러 가지 자료형은 물론 문자나 숫자 또한 모두 마찬가지다.\n",
    "## 문자와 숫자의 경우 불변 객체라는 점만 다를 뿐이라서,\n",
    "## = 연산자를 이용해 할당을 진행하게 되면 값을 할당하는 것이 아니라 객체에 대한 참조를 할당하게 된다.\n",
    "## 반면 숫자가 아니라 리스트와 같은 자료형이라면, 내부의 값은 얼마든지 변할 수 있다.\n",
    "## 이 경우 이 리스트를 참조하는 모든 변수의 값도 따라서 함께 바뀌게 된다."
   ]
  },
  {
   "cell_type": "code",
   "execution_count": 22,
   "metadata": {},
   "outputs": [],
   "source": [
    "## 이번 문제처럼 rev = 1, slow = 2->3 이라고 가정해보자. 여기서 slow는 연결리스트이며 \n",
    "## slow.next는 3이다.\n",
    "\n",
    "## rev, rev.next, slow = slow, rev, slow.next\n",
    "\n",
    "## 이 경우 rev = 2->3, rev.next = 1, slow = 3이 되고, rev.next = 1이므로 최종적으로 rev = 2->1, slow = 3이 된다.\n",
    "## 다중 할당을 하게 되면 이 같은 작업이 동시에 일어나기 때문에, 이 모든 작업은 중간 과정 없이 한 번의 트랜잭션으로 끝나게 된다."
   ]
  },
  {
   "cell_type": "code",
   "execution_count": 23,
   "metadata": {},
   "outputs": [],
   "source": [
    "## 그러나 다음과 같이 나눠서 처리하는 경우를 보자\n",
    "\n",
    "## rev, rev.next = slow, rev\n",
    "## slow = slow.next\n",
    "\n",
    "## 첫 줄을 실행한 결과, rev = 2->3, rev.next = 1 따라서 rev = 2->1이 되는데 여기서 중요한 점은\n",
    "## rev = slow라는 점이다. \n",
    "## 즉 동일한 참조가 되었으며, rev = 2->1이 되었기 때문에 slow = 2->1가 되어버린다.\n",
    "## 따라서 이후에 slow = slow.next의 결과는 slow = 1이 된다. "
   ]
  },
  {
   "cell_type": "markdown",
   "metadata": {},
   "source": [
    "# 14. 두 정렬 리스트의 병합"
   ]
  },
  {
   "cell_type": "markdown",
   "metadata": {},
   "source": [
    "### LeetCode 21. Merge Two Sorted Lists"
   ]
  },
  {
   "cell_type": "markdown",
   "metadata": {},
   "source": [
    "##### 정렬되어 있는 두  연결 리스트를 합쳐라"
   ]
  },
  {
   "cell_type": "code",
   "execution_count": 24,
   "metadata": {},
   "outputs": [],
   "source": [
    "## 예제 1\n",
    "    ## input : 1->2->4, 1->3->4\n",
    "    ## output : 1->1->2->3->4->4"
   ]
  },
  {
   "cell_type": "markdown",
   "metadata": {},
   "source": [
    "##### 풀이 1 재귀 구조로 연결"
   ]
  },
  {
   "cell_type": "code",
   "execution_count": 25,
   "metadata": {},
   "outputs": [],
   "source": [
    "## 여기서는 정렬된 리스트라는 점이 중요하다. \n",
    "## 병합 정렬에서 마지막 조합시 첫 번째 값부터 차례대로만 비교하면 한 번에 해결되듯이\n",
    "## 이 또한 병합 정렬의 마지막 조합과 동일한 방식으로 비교하면서 리턴하면 쉽게 풀 수 있는 문제다. "
   ]
  },
  {
   "cell_type": "code",
   "execution_count": 26,
   "metadata": {},
   "outputs": [],
   "source": [
    "## 풀이가 명확하고 코드도 길지 않다. 그러나 이 짧은 코드에 많은 내용이 함축되어 있어서\n",
    "## 이해하기가 쉽지 않을 뿐더러, 재귀가 포함되어 있어 더욱 어렵다.\n",
    "## 먼저 l1과 l2의 값을 비교해 작은 값이 왼쪽에 오게 하고, next는 그 다음 값이 엮이도록\n",
    "## 재귀 호출하는 게 이 코드의 전부다."
   ]
  },
  {
   "cell_type": "code",
   "execution_count": 27,
   "metadata": {},
   "outputs": [],
   "source": [
    "def mergeTwoLists(l1: ListNode, l2: ListNode) -> ListNode:\n",
    "    if (not l1) or (l2 and (l1.val > l2.val)):\n",
    "        l1, l2 = l2, l1\n",
    "    if l1:\n",
    "        l1.next = mergeTwoLists(l1.next, l2)\n",
    "    return l1"
   ]
  },
  {
   "cell_type": "code",
   "execution_count": 28,
   "metadata": {},
   "outputs": [],
   "source": [
    "l1 = ListNode(1, ListNode(2, ListNode(4)))\n",
    "l2 = ListNode(1, ListNode(3, ListNode(4)))"
   ]
  },
  {
   "cell_type": "code",
   "execution_count": 29,
   "metadata": {},
   "outputs": [],
   "source": [
    "l3 = mergeTwoLists(l1, l2)"
   ]
  },
  {
   "cell_type": "code",
   "execution_count": 30,
   "metadata": {},
   "outputs": [
    {
     "data": {
      "text/plain": [
       "1"
      ]
     },
     "execution_count": 30,
     "metadata": {},
     "output_type": "execute_result"
    }
   ],
   "source": [
    "l3.val"
   ]
  },
  {
   "cell_type": "code",
   "execution_count": 31,
   "metadata": {},
   "outputs": [
    {
     "data": {
      "text/plain": [
       "1"
      ]
     },
     "execution_count": 31,
     "metadata": {},
     "output_type": "execute_result"
    }
   ],
   "source": [
    "l3.next.val"
   ]
  },
  {
   "cell_type": "code",
   "execution_count": 32,
   "metadata": {},
   "outputs": [
    {
     "data": {
      "text/plain": [
       "2"
      ]
     },
     "execution_count": 32,
     "metadata": {},
     "output_type": "execute_result"
    }
   ],
   "source": [
    "l3.next.next.val"
   ]
  },
  {
   "cell_type": "code",
   "execution_count": 33,
   "metadata": {},
   "outputs": [
    {
     "data": {
      "text/plain": [
       "3"
      ]
     },
     "execution_count": 33,
     "metadata": {},
     "output_type": "execute_result"
    }
   ],
   "source": [
    "l3.next.next.next.val"
   ]
  },
  {
   "cell_type": "code",
   "execution_count": 34,
   "metadata": {},
   "outputs": [
    {
     "data": {
      "text/plain": [
       "4"
      ]
     },
     "execution_count": 34,
     "metadata": {},
     "output_type": "execute_result"
    }
   ],
   "source": [
    "l3.next.next.next.next.val"
   ]
  },
  {
   "cell_type": "code",
   "execution_count": 35,
   "metadata": {},
   "outputs": [
    {
     "data": {
      "text/plain": [
       "4"
      ]
     },
     "execution_count": 35,
     "metadata": {},
     "output_type": "execute_result"
    }
   ],
   "source": [
    "l3.next.next.next.next.next.val"
   ]
  },
  {
   "cell_type": "code",
   "execution_count": 36,
   "metadata": {},
   "outputs": [
    {
     "name": "stdout",
     "output_type": "stream",
     "text": [
      "None\n"
     ]
    }
   ],
   "source": [
    "print(l3.next.next.next.next.next.next)"
   ]
  },
  {
   "cell_type": "code",
   "execution_count": 37,
   "metadata": {},
   "outputs": [],
   "source": [
    "## 첫 번째 if 문을 보면 가장 우선순위가 높은 것은 비교연산 > 이다. \n",
    "## 다음으로 not, and, or가 된다.\n",
    "## 이후에는 l1의 next를 재귀호출하면서 다음번 연결 리스트가 계속 스왑될 수 있게 한다. \n",
    "## 스왑하면서 그다음 값이 엮이도록 계속 재귀호출 하면, 연결 리스트가 점점 하나로 병합되면서 엮이게 된다.\n",
    "## 마지막에는 l1이 Null이 되면서, 즉 코드에서는 l1이 None이 되면서 재귀가 끝나고 리턴을 시작한다.\n",
    "## 이처럼 마지막에 리턴을 시작하면 백트래킹되면서 엮이게 된다. 백트래킹이 종료되면\n",
    "## 이제 두 정렬 리스트가 병합되어 하나의 연결리스트가 된다."
   ]
  },
  {
   "cell_type": "code",
   "execution_count": 38,
   "metadata": {},
   "outputs": [],
   "source": [
    "## **** 문법 ****\n",
    "\n",
    "    ## 변수 스왑\n",
    "    \n",
    "        ## 두 변수를 스왑하는 가장 일반적이고 널리 사용되는 방법은 다음과 같이 임시 변수를 사용하는 방법이다.\n",
    "        ## temp = a\n",
    "        ## a = b\n",
    "        ## b = a\n",
    "        \n",
    "        ## 이 방식은 거의 모든 언어에서 활용할 수 있는 가장 기본적인 방식이다. \n",
    "        ## 그러나 앞서 풀이에서는 임시 변수 없이 a, b = b, a로 바로 스왑했다.\n",
    "        ## 이 방식은 파이썬에서 지원하는 매우 강력한 기능 중 하나로서 다중 할당이라 불리우며\n",
    "        ## 가독성 또한 좋으므로 별다른 이슈가 없는 한 파이썬에서는 이 방식으로 스왑하는 게 가장 좋다"
   ]
  },
  {
   "cell_type": "markdown",
   "metadata": {},
   "source": [
    "# 15. 역순 연결 리스트"
   ]
  },
  {
   "cell_type": "markdown",
   "metadata": {},
   "source": [
    "### LeetCode 206. Reverse Linked List"
   ]
  },
  {
   "cell_type": "markdown",
   "metadata": {},
   "source": [
    "##### 연결리스트를 뒤집어라"
   ]
  },
  {
   "cell_type": "code",
   "execution_count": 39,
   "metadata": {},
   "outputs": [],
   "source": [
    "## 예제1\n",
    "    ## input: 1->2->3->4->5->NULL\n",
    "    ## ouput: 5->4->3->2->1->NULL"
   ]
  },
  {
   "cell_type": "markdown",
   "metadata": {},
   "source": [
    "##### 풀이 1 재귀 구조로 뒤집기"
   ]
  },
  {
   "cell_type": "code",
   "execution_count": 40,
   "metadata": {},
   "outputs": [],
   "source": [
    "## 연결리스트를 뒤집는 문제는 매우 일반적이면서도 활용도가 높은 문제로, 실무에서도 빈번하게 쓰인다.\n",
    "## 재귀 구조와 반복 구조 2가지 방식으로 풀 수 있는데 먼저 재귀로 풀어보자."
   ]
  },
  {
   "cell_type": "code",
   "execution_count": 41,
   "metadata": {},
   "outputs": [],
   "source": [
    "def reverseList(head: ListNode) -> ListNode:\n",
    "    def reverse(node: ListNode, prev: ListNode = None):\n",
    "        if not node:\n",
    "            return prev\n",
    "        Next, node.next = node.next, prev\n",
    "        return reverse(Next, node)\n",
    "    return reverse(head)"
   ]
  },
  {
   "cell_type": "code",
   "execution_count": 42,
   "metadata": {},
   "outputs": [],
   "source": [
    "## 다음 노드 Next와 현재 노드 node를 파라미터로 지정한 함수를 계속해서 재귀 호출한다.\n",
    "## node.next에는 이전 prev 리스트를 계속 연결해주면서 node가 None이 될 때까지 재귀 호출하면\n",
    "## 마지막에는 백트랙킹되면서 연결 리스트가 거꾸로 연결된다.\n",
    "## 여기서 맨 처음에 리턴된 prev는 뒤집힌 연결 리스트의 첫 번째 노드가 된다."
   ]
  },
  {
   "cell_type": "code",
   "execution_count": 43,
   "metadata": {},
   "outputs": [],
   "source": [
    "a = ListNode(1, ListNode(2, ListNode(3, ListNode(4, ListNode(5)))))"
   ]
  },
  {
   "cell_type": "code",
   "execution_count": 44,
   "metadata": {},
   "outputs": [
    {
     "data": {
      "text/plain": [
       "1"
      ]
     },
     "execution_count": 44,
     "metadata": {},
     "output_type": "execute_result"
    }
   ],
   "source": [
    "a.val"
   ]
  },
  {
   "cell_type": "code",
   "execution_count": 45,
   "metadata": {},
   "outputs": [
    {
     "data": {
      "text/plain": [
       "2"
      ]
     },
     "execution_count": 45,
     "metadata": {},
     "output_type": "execute_result"
    }
   ],
   "source": [
    "a.next.val"
   ]
  },
  {
   "cell_type": "code",
   "execution_count": 46,
   "metadata": {},
   "outputs": [
    {
     "data": {
      "text/plain": [
       "3"
      ]
     },
     "execution_count": 46,
     "metadata": {},
     "output_type": "execute_result"
    }
   ],
   "source": [
    "a.next.next.val"
   ]
  },
  {
   "cell_type": "code",
   "execution_count": 47,
   "metadata": {
    "scrolled": true
   },
   "outputs": [
    {
     "data": {
      "text/plain": [
       "4"
      ]
     },
     "execution_count": 47,
     "metadata": {},
     "output_type": "execute_result"
    }
   ],
   "source": [
    "a.next.next.next.val"
   ]
  },
  {
   "cell_type": "code",
   "execution_count": 48,
   "metadata": {},
   "outputs": [
    {
     "data": {
      "text/plain": [
       "5"
      ]
     },
     "execution_count": 48,
     "metadata": {},
     "output_type": "execute_result"
    }
   ],
   "source": [
    "a.next.next.next.next.val"
   ]
  },
  {
   "cell_type": "code",
   "execution_count": 49,
   "metadata": {},
   "outputs": [
    {
     "name": "stdout",
     "output_type": "stream",
     "text": [
      "None\n"
     ]
    }
   ],
   "source": [
    "print(a.next.next.next.next.next)"
   ]
  },
  {
   "cell_type": "code",
   "execution_count": 50,
   "metadata": {},
   "outputs": [],
   "source": [
    "b = reverseList(a)"
   ]
  },
  {
   "cell_type": "code",
   "execution_count": 51,
   "metadata": {},
   "outputs": [
    {
     "data": {
      "text/plain": [
       "5"
      ]
     },
     "execution_count": 51,
     "metadata": {},
     "output_type": "execute_result"
    }
   ],
   "source": [
    "b.val"
   ]
  },
  {
   "cell_type": "code",
   "execution_count": 52,
   "metadata": {},
   "outputs": [
    {
     "data": {
      "text/plain": [
       "4"
      ]
     },
     "execution_count": 52,
     "metadata": {},
     "output_type": "execute_result"
    }
   ],
   "source": [
    "b.next.val"
   ]
  },
  {
   "cell_type": "code",
   "execution_count": 53,
   "metadata": {},
   "outputs": [
    {
     "data": {
      "text/plain": [
       "3"
      ]
     },
     "execution_count": 53,
     "metadata": {},
     "output_type": "execute_result"
    }
   ],
   "source": [
    "b.next.next.val"
   ]
  },
  {
   "cell_type": "code",
   "execution_count": 54,
   "metadata": {},
   "outputs": [
    {
     "data": {
      "text/plain": [
       "2"
      ]
     },
     "execution_count": 54,
     "metadata": {},
     "output_type": "execute_result"
    }
   ],
   "source": [
    "b.next.next.next.val"
   ]
  },
  {
   "cell_type": "code",
   "execution_count": 55,
   "metadata": {},
   "outputs": [
    {
     "data": {
      "text/plain": [
       "1"
      ]
     },
     "execution_count": 55,
     "metadata": {},
     "output_type": "execute_result"
    }
   ],
   "source": [
    "b.next.next.next.next.val"
   ]
  },
  {
   "cell_type": "code",
   "execution_count": 56,
   "metadata": {},
   "outputs": [
    {
     "name": "stdout",
     "output_type": "stream",
     "text": [
      "None\n"
     ]
    }
   ],
   "source": [
    "print(b.next.next.next.next.next)"
   ]
  },
  {
   "cell_type": "markdown",
   "metadata": {},
   "source": [
    "##### 풀이 2 반복 구조로 뒤집기"
   ]
  },
  {
   "cell_type": "code",
   "execution_count": 57,
   "metadata": {},
   "outputs": [],
   "source": [
    "def reverseList(head: ListNode) -> ListNode:\n",
    "    node, prev = head, None\n",
    "    \n",
    "    while node:\n",
    "        Next, node.next = node.next, prev\n",
    "        prev, node = node, Next\n",
    "        \n",
    "    return prev"
   ]
  },
  {
   "cell_type": "code",
   "execution_count": 58,
   "metadata": {},
   "outputs": [],
   "source": [
    "## 마찬가지로, node.next를 이전 prev 리스트로 계속 연결하면서 끝날 때까지 반복한다.\n",
    "## node가 None이 될 때, prev는 뒤집힌 연결 리스트의 첫 번째 노드가 된다."
   ]
  },
  {
   "cell_type": "markdown",
   "metadata": {},
   "source": [
    "# 16. 두 수의 덧셈"
   ]
  },
  {
   "cell_type": "markdown",
   "metadata": {},
   "source": [
    "### LeetCode 2. Add Two Numbers"
   ]
  },
  {
   "cell_type": "markdown",
   "metadata": {},
   "source": [
    "##### 역순으로 저장된 연결 리스트의 숫자를 더하라."
   ]
  },
  {
   "cell_type": "code",
   "execution_count": 59,
   "metadata": {},
   "outputs": [],
   "source": [
    "## 예제1\n",
    "    ## input: (2 -> 4 -> 3) + (5 -> 6 -> 4)\n",
    "    ## output: 7 -> 0 -> 8"
   ]
  },
  {
   "cell_type": "markdown",
   "metadata": {},
   "source": [
    "##### 풀이 1 자료형 변환"
   ]
  },
  {
   "cell_type": "code",
   "execution_count": 60,
   "metadata": {},
   "outputs": [],
   "source": [
    "## 얼핏 드는 생각은, 연결 리스트를 문자열로 이어 붙인 다음에 숫자로 변환하고, \n",
    "## 이를 모두 계산한 후 다시 연결 리스트로 바꾸면 쉽게 풀이할 수 있을 것 같다.\n",
    "\n",
    "## 물론 이 작업에 얼마나 많은 시간이 걸릴지는 잘 모르겠다.\n",
    "## 게다가 역순으로 뒤집어야 해서 수행 시간이 제법 소요될 것으로 예상된다.\n",
    "## 그러나 풀이는 어렵지 않을 것 같다."
   ]
  },
  {
   "cell_type": "code",
   "execution_count": 61,
   "metadata": {},
   "outputs": [],
   "source": [
    "class Solution:\n",
    "    # 연결 리스트 뒤집기\n",
    "    def reverseList(self, head: ListNode) -> ListNode:\n",
    "        node, prev = head, None\n",
    "        \n",
    "        while node:\n",
    "            Next, node.next = node.next, prev\n",
    "            prev, node = node, Next\n",
    "            \n",
    "        return prev\n",
    "    \n",
    "    # 연결 리스트를 파이썬 리스트로 변환\n",
    "    def toList(self, node: ListNode) -> ListNode:\n",
    "        List = []\n",
    "        while node:\n",
    "            List.append(node.val)\n",
    "            node = node.next\n",
    "        return List\n",
    "    \n",
    "    # 문자열을 연결리스트로 변환\n",
    "    def toReversedLinkedList(self, result: str) -> ListNode:\n",
    "        prev = None\n",
    "        for r in result:\n",
    "            node = ListNode(r)\n",
    "            node.next = prev\n",
    "            prev = node\n",
    "            \n",
    "        return node\n",
    "    \n",
    "    # 두 연결 리스트의 덧셈\n",
    "    def addTwoNumbers(self, l1: ListNode, l2: ListNode) -> ListNode:\n",
    "        a = self.toList(self.reverseList(l1))\n",
    "        b = self.toList(self.reverseList(l2))\n",
    "\n",
    "        resultStr = int(''.join(str(e) for e in a)) + int(''.join(str(e) for e in b))\n",
    "        ## a, b는 문자열이 아닌 숫자형 리스트이며, 따라서 이를 합치기 위해서는 문자형으로 먼저 변경이 필요하다.\n",
    "        ## str(e)로 각 항목을 문자로 변경한 다음 join()으로 합쳤다.\n",
    "        ## 그런데 덧셈을 위해서는 다시 숫자형이 되어야 하므로 int로 다시 변경해줘야 한다.\n",
    "        \n",
    "    \n",
    "        # 최종 계산 결과 연결 리스트 변환\n",
    "        return self.toReversedLinkedList(str(resultStr))\n",
    "            "
   ]
  },
  {
   "cell_type": "code",
   "execution_count": 62,
   "metadata": {},
   "outputs": [],
   "source": [
    "sol = Solution()"
   ]
  },
  {
   "cell_type": "code",
   "execution_count": 63,
   "metadata": {},
   "outputs": [],
   "source": [
    "a = ListNode(2, ListNode(4, ListNode(3)))\n",
    "b = ListNode(5, ListNode(6, ListNode(4)))"
   ]
  },
  {
   "cell_type": "code",
   "execution_count": 64,
   "metadata": {},
   "outputs": [],
   "source": [
    "result = sol.addTwoNumbers(a, b)"
   ]
  },
  {
   "cell_type": "code",
   "execution_count": 65,
   "metadata": {},
   "outputs": [
    {
     "data": {
      "text/plain": [
       "'7'"
      ]
     },
     "execution_count": 65,
     "metadata": {},
     "output_type": "execute_result"
    }
   ],
   "source": [
    "result.val"
   ]
  },
  {
   "cell_type": "code",
   "execution_count": 66,
   "metadata": {},
   "outputs": [
    {
     "data": {
      "text/plain": [
       "'0'"
      ]
     },
     "execution_count": 66,
     "metadata": {},
     "output_type": "execute_result"
    }
   ],
   "source": [
    "result.next.val"
   ]
  },
  {
   "cell_type": "code",
   "execution_count": 67,
   "metadata": {},
   "outputs": [
    {
     "data": {
      "text/plain": [
       "'8'"
      ]
     },
     "execution_count": 67,
     "metadata": {},
     "output_type": "execute_result"
    }
   ],
   "source": [
    "result.next.next.val"
   ]
  },
  {
   "cell_type": "code",
   "execution_count": 68,
   "metadata": {},
   "outputs": [],
   "source": [
    "## 코드가 다소 길지만 풀이 자체는 전혀 어렵지 않다. 수행 속도에도 아무런 문제가 없다.\n",
    "## 그러나 애초 이 문제는 이런 방식으로 풀이를 요구한 것은 아닐 것이다.\n",
    "## 좀 더 깔끔한 방식으로 풀이할 수 있는 방법을 찾아보자"
   ]
  },
  {
   "cell_type": "markdown",
   "metadata": {},
   "source": [
    "##### 풀이 2 전가산기 구현"
   ]
  },
  {
   "cell_type": "code",
   "execution_count": 69,
   "metadata": {},
   "outputs": [],
   "source": [
    "## 여기서는 논리 회로의 전가산기와 유사한 형태를 구현해보자.\n",
    "## 이진법이 아니라 십진법이라는 차이만 있을 뿐, 자리 올림수(Carry)를 구하는 것까지\n",
    "## 가산기의 원리와 거의 동일하다.\n",
    "## 입력값 A와 B, 이전의 자리 올림수(Carry in) 이렇게 3가지 입력으로 합과 \n",
    "## 다음 자리 올림수(Carry out) 여부를 결정한다."
   ]
  },
  {
   "cell_type": "code",
   "execution_count": 70,
   "metadata": {},
   "outputs": [],
   "source": [
    "## 여기서는 연산 결과로 나머지(Remainder)를 취하고 몫(Quotient)은 자리올림수 형태로 올리는\n",
    "## 전가산기의 전체적인 구조만 참고해서 풀이해본다."
   ]
  },
  {
   "cell_type": "code",
   "execution_count": 71,
   "metadata": {},
   "outputs": [],
   "source": [
    "def addTwoNumbers(l1: ListNode, l2: ListNode) -> ListNode:\n",
    "    root = head = ListNode(0)\n",
    "    \n",
    "    carry = 0\n",
    "    \n",
    "    while l1 or l2 or carry:\n",
    "        Sum = 0\n",
    "        # 두 입력값의 합 계산\n",
    "        if l1:\n",
    "            Sum += l1.val\n",
    "            l1 = l1.next\n",
    "            \n",
    "        if l2:\n",
    "            Sum += l2.val\n",
    "            l2 = l2.next\n",
    "           \n",
    "        # 몫(자리올림수)과 나머지 계산\n",
    "        carry, val = divmod(Sum + carry, 10)\n",
    "        head.next = ListNode(val)\n",
    "        head = head.next\n",
    "        \n",
    "    return root.next"
   ]
  },
  {
   "cell_type": "code",
   "execution_count": 72,
   "metadata": {},
   "outputs": [],
   "source": [
    "l1 = ListNode(2, ListNode(4, ListNode(3)))\n",
    "l2 = ListNode(5, ListNode(6, ListNode(4)))"
   ]
  },
  {
   "cell_type": "code",
   "execution_count": 73,
   "metadata": {},
   "outputs": [],
   "source": [
    "result = addTwoNumbers(l1, l2)"
   ]
  },
  {
   "cell_type": "code",
   "execution_count": 74,
   "metadata": {},
   "outputs": [
    {
     "data": {
      "text/plain": [
       "7"
      ]
     },
     "execution_count": 74,
     "metadata": {},
     "output_type": "execute_result"
    }
   ],
   "source": [
    "result.val"
   ]
  },
  {
   "cell_type": "code",
   "execution_count": 75,
   "metadata": {},
   "outputs": [
    {
     "data": {
      "text/plain": [
       "0"
      ]
     },
     "execution_count": 75,
     "metadata": {},
     "output_type": "execute_result"
    }
   ],
   "source": [
    "result.next.val"
   ]
  },
  {
   "cell_type": "code",
   "execution_count": 76,
   "metadata": {},
   "outputs": [
    {
     "data": {
      "text/plain": [
       "8"
      ]
     },
     "execution_count": 76,
     "metadata": {},
     "output_type": "execute_result"
    }
   ],
   "source": [
    "result.next.next.val"
   ]
  },
  {
   "cell_type": "code",
   "execution_count": 77,
   "metadata": {},
   "outputs": [],
   "source": [
    "## **** 문법 ****\n",
    "\n",
    "    ## 숫자형 리스트를 단일 값으로 병합하기\n",
    "    \n",
    "        ## 앞서 문제의 풀이 1에서 최종 결과를 리턴하는 과정에서 애초에 숫자형 리스트를 문자형으로\n",
    "        ## 바꿨다가 다시 한 번 바꿔주는 불필요한 작업을 진행했다.\n",
    "        ## 실제로 이 같은 코드는 좋은 코드라고 할 수 없다.\n",
    "        ## 그렇다면 숫자형으로 이루어진 리스트가 있을 때 이를 하나로 합치는 좀 더 깔끔한 방법은 없을까?\n",
    "        \n",
    "        ## >>> a = [1, 2, 3, 4, 5]\n",
    "        ## >>> ''.join(str(e) for e in a)\n",
    "        ## '12345'\n",
    "        \n",
    "        ## 좀 더 깔끔한 방법은 다음과 같이 해볼 수 있을 것 같다.\n",
    "        ## >>> ''.join(map(str, a))\n",
    "        ## '12345'\n",
    "        \n",
    "        ## 이 경우 임시 변수 e를 사용하지 않아 깔끔하며, map(str,로 이어지는 부분이 문자열로 변환을 암시하는 듯 하여\n",
    "        ## 가독성도 좋다.\n",
    "        \n",
    "        ## 그러나 이 방식도 숫자형을 문자형으로 바꿨다가 다시 숫자형으로 바꾼다는 것은 똑같다.\n",
    "        ## 애초에 숫자형을 바로 병합할 수 없을까?\n",
    "        \n",
    "        ## >>> functools.reduce(lambda x, y: 10 * x + y, a, 0)\n",
    "        ## 12345\n",
    "        \n",
    "        ## functools는 함수를 다루는 함수를 뜻하는 Higher-Order Function을 지원하는 함수형 언어 모듈이며,\n",
    "        ## LeetCode에서 기본적으로 import 되어 있다. \n",
    "        ## 여기서 reduce는 두 인수의 함수를 누적 적용하라는 메소드다. \n",
    "        \n",
    "        ## >>> functools.reduce(lambda x, y: x + y, [1, 2, 3, 4, 5])\n",
    "        ## 15\n",
    "        \n",
    "        ## 이 코드의 결과는 ((((1 + 2) + 3) + 4) + 5) 이다.\n",
    "        \n",
    "        ## 다시 앞의 코드를 살펴보면, 값 x에 계속 10을 곱하면서 10^n 형태로 자릿수를 올려나가고\n",
    "        ## 그 뒤에 y를 더해서 자릿수를 채워나가는 방식이다.\n",
    "        ## 애초에 문자형과 달리 숫자형은 이런 방식으로 자릿수를 올려나가는 방법밖에 없다.\n",
    "        \n",
    "        ## 이외에도 좀 더 가독성을 높일 수 있도록 operator 모듈을 활용하는 방법도 있다.\n",
    "        ## 이 경우 연산자 명칭을 reduce() 메소드의 파라미터로 지정할 수 있어 가독성이 매우 높다.\n",
    "        \n",
    "        ## >>> from operator import add, mul\n",
    "        ## >>> functools.reduce(add, [1, 2, 3, 4, 5])\n",
    "        ## 15\n",
    "        ## >>> functools.reduce(mul, [1, 2, 3, 4, 5])\n",
    "        ## 120\n",
    "    "
   ]
  },
  {
   "cell_type": "markdown",
   "metadata": {},
   "source": [
    "# 17. 페어의 노드 스왑"
   ]
  },
  {
   "cell_type": "markdown",
   "metadata": {},
   "source": [
    "### LeetCode 24. Swap Nodes in Pairs"
   ]
  },
  {
   "cell_type": "markdown",
   "metadata": {},
   "source": [
    "##### 연결리스트를 입력받아 페어 Pair 단위로 스왑하라"
   ]
  },
  {
   "cell_type": "code",
   "execution_count": 78,
   "metadata": {},
   "outputs": [],
   "source": [
    "## 예제1\n",
    "    ## input: 1->2->3->4\n",
    "    ## output: 2->1->4->3"
   ]
  },
  {
   "cell_type": "markdown",
   "metadata": {},
   "source": [
    "##### 풀이 1 값만 교환"
   ]
  },
  {
   "cell_type": "code",
   "execution_count": 79,
   "metadata": {},
   "outputs": [],
   "source": [
    "## 매우 직관적인 방법으로 풀이해보자\n",
    "## 연결 리스트의 노드를 변경하는 게 아닌, 노드 구조는 그대로 유지하되 값만 변경하는 방법이다.\n",
    "## 사실 이 방식은 실용성과는 거리가 있다.\n",
    "## 대개 연결 리스트는 복잡한 여러 가지 값들의 구조체로 구성되어 있고,\n",
    "## 사실상 값만 바꾸는 것은 매우 어려운 일이기 때문이다.\n",
    "## 그러나 이 문제에서는 단 하나의 값으로 구성된 단순한 연결리스트이고\n",
    "## 값을 바꾸는 정도는 어렵지 않게 가능하다."
   ]
  },
  {
   "cell_type": "code",
   "execution_count": 80,
   "metadata": {},
   "outputs": [],
   "source": [
    "def swapPairs(head: ListNode) -> ListNode:\n",
    "    cur = head\n",
    "    \n",
    "    while cur and cur.next:\n",
    "        # 값만 교환\n",
    "        cur.val, cur.next.val = cur.next.val, cur.val\n",
    "        cur = cur.next.next\n",
    "        \n",
    "    return head"
   ]
  },
  {
   "cell_type": "code",
   "execution_count": 81,
   "metadata": {},
   "outputs": [],
   "source": [
    "a = ListNode(1, ListNode(2, ListNode(3, ListNode(4))))"
   ]
  },
  {
   "cell_type": "code",
   "execution_count": 82,
   "metadata": {},
   "outputs": [],
   "source": [
    "result = swapPairs(a)"
   ]
  },
  {
   "cell_type": "code",
   "execution_count": 83,
   "metadata": {},
   "outputs": [
    {
     "data": {
      "text/plain": [
       "2"
      ]
     },
     "execution_count": 83,
     "metadata": {},
     "output_type": "execute_result"
    }
   ],
   "source": [
    "result.val"
   ]
  },
  {
   "cell_type": "code",
   "execution_count": 84,
   "metadata": {},
   "outputs": [
    {
     "data": {
      "text/plain": [
       "1"
      ]
     },
     "execution_count": 84,
     "metadata": {},
     "output_type": "execute_result"
    }
   ],
   "source": [
    "result.next.val"
   ]
  },
  {
   "cell_type": "code",
   "execution_count": 85,
   "metadata": {},
   "outputs": [
    {
     "data": {
      "text/plain": [
       "4"
      ]
     },
     "execution_count": 85,
     "metadata": {},
     "output_type": "execute_result"
    }
   ],
   "source": [
    "result.next.next.val"
   ]
  },
  {
   "cell_type": "code",
   "execution_count": 86,
   "metadata": {},
   "outputs": [
    {
     "data": {
      "text/plain": [
       "3"
      ]
     },
     "execution_count": 86,
     "metadata": {},
     "output_type": "execute_result"
    }
   ],
   "source": [
    "result.next.next.next.val"
   ]
  },
  {
   "cell_type": "code",
   "execution_count": 87,
   "metadata": {},
   "outputs": [],
   "source": [
    "## 면접 시 화이트보드에 이 같은 방식을 기술한다면, 면접관에게 \"쉽게 풀기 위해 이렇게 변칙적으로 풀이한다.\"는 식의 \n",
    "## 충분한 설명이 필요하다. \n",
    "## 온라인 코딩 테스트 시에는 이런 풀이가 나쁘지 않다.\n",
    "## 그러나 코딩 테스트 이후 코드 리뷰를 진행하다가 좋지 않은 피드백을 받을 가능성도 있다.\n",
    "## 그럴 때는 빨리 풀기 위해 시도한 방법이라는 사실을 어필하고 다음 풀이인 반복 풀이에 대해 충분히 설명할 수 있어야 한다."
   ]
  },
  {
   "cell_type": "markdown",
   "metadata": {},
   "source": [
    "##### 풀이 2 반복 구조로 스왑"
   ]
  },
  {
   "cell_type": "code",
   "execution_count": 88,
   "metadata": {},
   "outputs": [],
   "source": [
    "## 단순히 값을 바꾸는 일에 비해 연결 리스트 자체를 바꾸는 일은 생각보다 복잡한 문제다.\n",
    "## 1->2->3->4->5->6인 연결리스트에서 3->4를 4->3으로 바꾼다고 할 때\n",
    "## 단순히 둘만 마꾼다고 끝나는 문제가 아니기 때문이다."
   ]
  },
  {
   "cell_type": "code",
   "execution_count": 89,
   "metadata": {},
   "outputs": [],
   "source": [
    "def swapPairs(head: ListNode) -> ListNode:\n",
    "    root = prev = ListNode(None)\n",
    "    prev.next = head\n",
    "    while head and head.next:\n",
    "        b = head.next\n",
    "        head.next = b.next\n",
    "        b.next = head\n",
    "        \n",
    "        prev.next = b\n",
    "        \n",
    "        head = head.next\n",
    "        prev = prev.next.next\n",
    "        \n",
    "    return root.next"
   ]
  },
  {
   "cell_type": "code",
   "execution_count": 90,
   "metadata": {},
   "outputs": [],
   "source": [
    "a = ListNode(1, ListNode(2, ListNode(3, ListNode(4))))"
   ]
  },
  {
   "cell_type": "code",
   "execution_count": 91,
   "metadata": {},
   "outputs": [],
   "source": [
    "result = swapPairs(a)"
   ]
  },
  {
   "cell_type": "code",
   "execution_count": 92,
   "metadata": {},
   "outputs": [
    {
     "data": {
      "text/plain": [
       "2"
      ]
     },
     "execution_count": 92,
     "metadata": {},
     "output_type": "execute_result"
    }
   ],
   "source": [
    "result.val"
   ]
  },
  {
   "cell_type": "code",
   "execution_count": 93,
   "metadata": {},
   "outputs": [
    {
     "data": {
      "text/plain": [
       "1"
      ]
     },
     "execution_count": 93,
     "metadata": {},
     "output_type": "execute_result"
    }
   ],
   "source": [
    "result.next.val"
   ]
  },
  {
   "cell_type": "code",
   "execution_count": 94,
   "metadata": {},
   "outputs": [
    {
     "data": {
      "text/plain": [
       "4"
      ]
     },
     "execution_count": 94,
     "metadata": {},
     "output_type": "execute_result"
    }
   ],
   "source": [
    "result.next.next.val"
   ]
  },
  {
   "cell_type": "code",
   "execution_count": 95,
   "metadata": {},
   "outputs": [
    {
     "data": {
      "text/plain": [
       "3"
      ]
     },
     "execution_count": 95,
     "metadata": {},
     "output_type": "execute_result"
    }
   ],
   "source": [
    "result.next.next.next.val"
   ]
  },
  {
   "cell_type": "markdown",
   "metadata": {},
   "source": [
    "##### 풀이 3 재귀 구조로 스왑"
   ]
  },
  {
   "cell_type": "code",
   "execution_count": 96,
   "metadata": {},
   "outputs": [],
   "source": [
    "## 재귀로는 훨씬 더 깔끔하게 풀이할 수 있다."
   ]
  },
  {
   "cell_type": "code",
   "execution_count": 97,
   "metadata": {},
   "outputs": [],
   "source": [
    "def swapPairs(self, head: ListNode) -> ListNode:\n",
    "    if head and head.next:\n",
    "        p = head.next\n",
    "        # 스왑된 값 리턴 받음\n",
    "        head.next = self.swapPairs(p.next)\n",
    "        p.next = head\n",
    "        return p\n",
    "    return head"
   ]
  },
  {
   "cell_type": "code",
   "execution_count": 98,
   "metadata": {},
   "outputs": [],
   "source": [
    "## 반복 풀이와 달리 포인터 역할을 하는 p 변수는 하나만 있어도 충분하며,\n",
    "## 더미 노드를 만들 필요도 없이 head를 바로 리턴할 수 있어 공간 복잡도가 낮다.\n",
    "## 다른 연결 리스트 문제들의 풀이와 마찬가지로, 실제로는 백트래킹되면서 연결 리스트가 이어지게 된다."
   ]
  },
  {
   "cell_type": "markdown",
   "metadata": {},
   "source": [
    "# 18. 홀짝 연결 리스트"
   ]
  },
  {
   "cell_type": "markdown",
   "metadata": {},
   "source": [
    "### LeetCode 328. Even Linked List"
   ]
  },
  {
   "cell_type": "markdown",
   "metadata": {},
   "source": [
    "##### 연결 리스트를 홀수 노드 다음에 짝수 노드가 오도록 재구성하라. 공간 복잡도 O(1), 시간 복잡도 O(n)에 풀이하라."
   ]
  },
  {
   "cell_type": "code",
   "execution_count": 99,
   "metadata": {},
   "outputs": [],
   "source": [
    "## 예제1\n",
    "    ## input: 1->2->3->4->5->NULL\n",
    "    ## output: 1->3->5->2->4->NULL\n",
    "\n",
    "## 예제2\n",
    "    ## input: 2->1->3->5->6->4->7->NULL\n",
    "    ## output: 2->3->6->7->1->5->4->NULL"
   ]
  },
  {
   "cell_type": "markdown",
   "metadata": {},
   "source": [
    "##### 풀이 1 반복 구조로 홀짝 노드 처리"
   ]
  },
  {
   "cell_type": "code",
   "execution_count": 100,
   "metadata": {},
   "outputs": [],
   "source": [
    "## 쉽게 풀 수 있을 것 같은 문제이지만, 제약 사항이 있다.\n",
    "## 이런 문제는 제약이 없을 경우 연결 리스트를 리스트로 바꾸고 파이썬 리스트가 제공하는\n",
    "## 슬라이싱과 같은 다양한 함수를 사용하면 좀 더 쉽고 직관적이며 또한 빠르게 풀 수 있다.\n",
    "## 파이썬으로 직접 코딩한 알고리즘의 실행 속도보다 C로 구현된 파이썬 내장 함수의 실행 속도가\n",
    "## 훨씬 더 빠르기 때문이다."
   ]
  },
  {
   "cell_type": "code",
   "execution_count": 101,
   "metadata": {},
   "outputs": [],
   "source": [
    "## 그러나 이러한 풀이 방식은 우아하지 않다.\n",
    "## 특히 오프라인 코딩 테스트 시에 이 같은 편법을 시도하다가는 면접관에게 다시 풀어달라는 지적을 받게 될 수 있다.\n",
    "## 이 문제의 경우 분명하게 제약사항을 제시하고 있으므로 적절한 알고리즘만으로 풀이해보자"
   ]
  },
  {
   "cell_type": "code",
   "execution_count": 102,
   "metadata": {},
   "outputs": [],
   "source": [
    "## 홀수 노드 다음에 짝수 노드가 오게 재구성하라고 했으니 홀(odd), 짝(even) 각 노드를 구성한 다음\n",
    "## 홀수 노드 마지막을 짝수 노드의 처음과 이어주면 될 것같다."
   ]
  },
  {
   "cell_type": "code",
   "execution_count": 106,
   "metadata": {},
   "outputs": [],
   "source": [
    "def oddEvenList(head: ListNode) -> ListNode:\n",
    "    # 예외 처리\n",
    "    if head is None:\n",
    "        return None\n",
    "    \n",
    "    odd = head\n",
    "    even = head.next\n",
    "    even_head = head.next\n",
    "    \n",
    "    # 반복하면서 홀짝 노드 처리\n",
    "    while even and even.next:\n",
    "        odd.next, even.next = odd.next.next, even.next.next\n",
    "        odd, even = odd.next, even.next\n",
    "        \n",
    "    # 홀수 노드의 마지막을 짝수 헤드로 연결\n",
    "    odd.next = even_head\n",
    "    return head"
   ]
  },
  {
   "cell_type": "code",
   "execution_count": 107,
   "metadata": {},
   "outputs": [],
   "source": [
    "head = ListNode(1, ListNode(2, ListNode(3, ListNode(4, ListNode(5)))))"
   ]
  },
  {
   "cell_type": "code",
   "execution_count": 108,
   "metadata": {},
   "outputs": [],
   "source": [
    "result = oddEvenList(head)"
   ]
  },
  {
   "cell_type": "code",
   "execution_count": 109,
   "metadata": {},
   "outputs": [
    {
     "data": {
      "text/plain": [
       "1"
      ]
     },
     "execution_count": 109,
     "metadata": {},
     "output_type": "execute_result"
    }
   ],
   "source": [
    "result.val"
   ]
  },
  {
   "cell_type": "code",
   "execution_count": 110,
   "metadata": {},
   "outputs": [
    {
     "data": {
      "text/plain": [
       "3"
      ]
     },
     "execution_count": 110,
     "metadata": {},
     "output_type": "execute_result"
    }
   ],
   "source": [
    "result.next.val"
   ]
  },
  {
   "cell_type": "code",
   "execution_count": 111,
   "metadata": {},
   "outputs": [
    {
     "data": {
      "text/plain": [
       "5"
      ]
     },
     "execution_count": 111,
     "metadata": {},
     "output_type": "execute_result"
    }
   ],
   "source": [
    "result.next.next.val"
   ]
  },
  {
   "cell_type": "code",
   "execution_count": 113,
   "metadata": {},
   "outputs": [
    {
     "data": {
      "text/plain": [
       "2"
      ]
     },
     "execution_count": 113,
     "metadata": {},
     "output_type": "execute_result"
    }
   ],
   "source": [
    "result.next.next.next.val"
   ]
  },
  {
   "cell_type": "code",
   "execution_count": 114,
   "metadata": {},
   "outputs": [
    {
     "data": {
      "text/plain": [
       "4"
      ]
     },
     "execution_count": 114,
     "metadata": {},
     "output_type": "execute_result"
    }
   ],
   "source": [
    "result.next.next.next.next.val"
   ]
  },
  {
   "cell_type": "markdown",
   "metadata": {},
   "source": [
    "# 19. 역순 연결 리스트 2"
   ]
  },
  {
   "cell_type": "markdown",
   "metadata": {},
   "source": [
    "### LeetCode 92. Reverse Linked List 2"
   ]
  },
  {
   "cell_type": "markdown",
   "metadata": {},
   "source": [
    "##### 인덱스 m에서 n까지를 역순으로 만들어라. 인덱스는 1부터 시작한다."
   ]
  },
  {
   "cell_type": "code",
   "execution_count": 115,
   "metadata": {},
   "outputs": [],
   "source": [
    "## 예제1\n",
    "    ## input: 1->2->3->4->5->NULL, m = 2, n = 4\n",
    "    ## output: 1->4->3->2->5->NULL"
   ]
  },
  {
   "cell_type": "markdown",
   "metadata": {},
   "source": [
    "##### 풀이 1 반복 구조로 노드 뒤집기"
   ]
  },
  {
   "cell_type": "code",
   "execution_count": 116,
   "metadata": {},
   "outputs": [],
   "source": [
    "def reverseBetween(head: ListNode, m: int, n: int) -> ListNode:\n",
    "    # 예외 처리\n",
    "    if not head or m == n:\n",
    "        return head\n",
    "    \n",
    "    root = start = ListNode(None)\n",
    "    root.next = head\n",
    "    # start, end 지정\n",
    "    for _ in range(m - 1):\n",
    "        start = start.next\n",
    "    end = start.enxt\n",
    "    \n",
    "    # 반복하면서 노드 차례대로 뒤집기\n",
    "    for _ in range(n - m):\n",
    "        tmp, start.next, end.next = start.next, end.next, end.next.next\n",
    "        starat.next.next = tmp\n",
    "    return root.next"
   ]
  },
  {
   "cell_type": "code",
   "execution_count": 117,
   "metadata": {},
   "outputs": [],
   "source": [
    "## 1->2->3->4->5->NULL 에서 2->3->4를 뒤집는 게 목표\n",
    "## 뒤집는 과정은\n",
    "## 2->3->4에서 3을 먼저 제일 앞으로 가져오고\n",
    "## 3->2->4에서 4를 제일 앞으로 가져오면 끝난다.\n",
    "## 4->3->2"
   ]
  },
  {
   "cell_type": "code",
   "execution_count": null,
   "metadata": {},
   "outputs": [],
   "source": []
  }
 ],
 "metadata": {
  "kernelspec": {
   "display_name": "Python 3",
   "language": "python",
   "name": "python3"
  },
  "language_info": {
   "codemirror_mode": {
    "name": "ipython",
    "version": 3
   },
   "file_extension": ".py",
   "mimetype": "text/x-python",
   "name": "python",
   "nbconvert_exporter": "python",
   "pygments_lexer": "ipython3",
   "version": "3.8.3"
  }
 },
 "nbformat": 4,
 "nbformat_minor": 4
}
