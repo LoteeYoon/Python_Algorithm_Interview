{
 "cells": [
  {
   "cell_type": "markdown",
   "metadata": {},
   "source": [
    "# 빅오"
   ]
  },
  {
   "cell_type": "code",
   "execution_count": 1,
   "metadata": {},
   "outputs": [],
   "source": [
    "## 빅오는 점근적 실행 시간(Asymptotic Runnning Time)을 표기할 때 가장 널리 쓰이는 수학적 표기법 중 하나다.\n",
    "## 점근적 실행 시간이란 입력값이 무한대를 향할 때, 함수의 실행 시간의 추이를 말한다."
   ]
  },
  {
   "cell_type": "code",
   "execution_count": 2,
   "metadata": {},
   "outputs": [],
   "source": [
    "## 컴퓨터의 빠른 처리 능력을 감안하면 아무리 복잡한 알고리즘도 입력의 크기가 작으면 금방 끝난다.\n",
    "## 따라서 관심의 대상이 되는 것은 입력의 크기가 충분히 클 때다.\n",
    "## 충분히 큰 입력에서는 알고리즘의 효율성에 따라 수행 시간이 크게 차이가 날 수 있다. "
   ]
  },
  {
   "cell_type": "code",
   "execution_count": 4,
   "metadata": {},
   "outputs": [],
   "source": [
    "## 점근적 실행 시간은 달리 말하면 시간 복잡도라 할 수 있다.\n",
    "## 시간 복잡도의 사전적 정의는 어떤 알고리즘을 수행하는 데 걸리는 시간을 설명하는 계산 복잡도를 의미하며\n",
    "## 계산 복잡도를 표기하는 대표적인 방법이 바로 빅오다.\n",
    "## 빅오로 시간 복잡도를 표현할 때는 최고차항만을 표기하며, 상수항은 무시한다."
   ]
  },
  {
   "cell_type": "markdown",
   "metadata": {},
   "source": [
    "### 상한과 최악"
   ]
  },
  {
   "cell_type": "code",
   "execution_count": 5,
   "metadata": {},
   "outputs": [],
   "source": [
    "## 빅오(O)는 상한(Upper Bound)를 의미한다. 이외에도 하한(Lower Bound)를 의미하는 빅오메가,\n",
    "## 평균을 의미하는 빅세타가 있다."
   ]
  },
  {
   "cell_type": "code",
   "execution_count": 6,
   "metadata": {},
   "outputs": [],
   "source": [
    "## 중요한 점은 상한을 최악의 경우와 혼동하는 것인데, 빅오 표기법은 정확하게 쓰기에는 너무 길고\n",
    "## 복잡한 함수를 '적당히 정확하게' 표현하는 방법일 뿐, \n",
    "## 최악의 경우/평균적인 경우의 시간 복잡도와는 아무런 관계가 없는 개념이라는 점에 유의해야한다."
   ]
  },
  {
   "cell_type": "code",
   "execution_count": 7,
   "metadata": {},
   "outputs": [],
   "source": [
    "## 복잡한 함수 f(n)이 있을 때, 가장 빨리 실행 될 때를(하한) 빅오메가, 가장 늦게 실행 될 때를(상한) 빅오로 지칭한다.\n",
    "## 빅오 표기법은 n이 매우 클 때의 전체적인 큰 그림에 집중한다."
   ]
  },
  {
   "cell_type": "code",
   "execution_count": 8,
   "metadata": {},
   "outputs": [],
   "source": [
    "## 어떤 정렬 문제가 있을 때, '최선의 경우 O(nlogn)이다' 라는 말은 \n",
    "## 특정 입력값이 주어질 때, 최대 연산이 nlogn 이내라는 것이다.\n",
    "\n",
    "## 참고로 '최선의 경우 O(n^2)이다' 라는 명제도 참이다.\n",
    "## 빅오는 상한을 의미하므로 실제 연산 횟수가 이보다 작기만 하면 되기 때문이다.\n",
    "## 같은 이유로 '최선의 경우 O(n^3)이다' 라는 것도 말이 된다\n",
    "## 다만 이런 경우 상한을 지나치게 높게 설정했기 때문에 아무런 의미가 없다"
   ]
  },
  {
   "cell_type": "code",
   "execution_count": 9,
   "metadata": {},
   "outputs": [],
   "source": [
    "## 지금까지 설명한 내용을 바탕으로 다시 한 번 정리하면\n",
    "\n",
    "## 빅오 표기법은 주어진(최선/평균/최악) 경우의 수행 시간의 상한을 나타낸다."
   ]
  },
  {
   "cell_type": "markdown",
   "metadata": {},
   "source": [
    "### 분할 상환 분석"
   ]
  },
  {
   "cell_type": "code",
   "execution_count": 10,
   "metadata": {},
   "outputs": [],
   "source": [
    "## 분할 상환 분석(Amortized Analysis)은 빅오와 함께 함수의 동작을 설명할 때 중요한 분석 방법 중 하나이다.\n",
    "\n",
    "## 알고리즘의 복잡도를 계산할 때, 알고리즘 전체를 보지 않고 '최악의 경우'만을 살펴보는 것은 지나치게 비관적이라는 이유로\n",
    "## 분할 상환 분석이 등장하게 되었다."
   ]
  },
  {
   "cell_type": "markdown",
   "metadata": {},
   "source": [
    "### 병렬화"
   ]
  },
  {
   "cell_type": "code",
   "execution_count": 11,
   "metadata": {},
   "outputs": [],
   "source": [
    "## 일부 알고리즘들은 병렬화로 실행 속도를 높일 수 있다.\n",
    "## 알고리즘 자체의 시간 복잡도 외에도 알고리즘이 병렬화가 가능한지가\n",
    "## 근래에 알고리즘 우수성을 평가하는 매우 중요한 척도 중 하나가 되었다."
   ]
  },
  {
   "cell_type": "markdown",
   "metadata": {},
   "source": [
    "# 자료형"
   ]
  },
  {
   "cell_type": "markdown",
   "metadata": {},
   "source": [
    "### 파이썬 자료형"
   ]
  },
  {
   "cell_type": "code",
   "execution_count": 12,
   "metadata": {},
   "outputs": [],
   "source": [
    "## 파이썬이 지원하는 자료형을 살펴보자."
   ]
  },
  {
   "cell_type": "code",
   "execution_count": 13,
   "metadata": {},
   "outputs": [],
   "source": [
    "## 파이썬3 표준 타입 계층 구조(standard type hierarchical structure)\n",
    "\n",
    "# None (Class None type)\n",
    "\n",
    "# 숫자\n",
    "#     정수형\n",
    "#         정수(Class int)\n",
    "#         불리언(Class bool)\n",
    "    \n",
    "#     실수(Class float)\n",
    "    \n",
    "    \n",
    "# 집합형\n",
    "#     집합(Class set)\n",
    "   \n",
    "    \n",
    "# 매핑\n",
    "#     딕셔너리(Class dict)\n",
    "\n",
    "\n",
    "# 시퀀스\n",
    "#     불변(immutable)\n",
    "#         문자열(Class str)\n",
    "#         튜플(Class tuple)\n",
    "#         바이트(Class bytes)\n",
    "        \n",
    "#     가변(mutable)\n",
    "#         리스트(Class list)"
   ]
  },
  {
   "cell_type": "code",
   "execution_count": 14,
   "metadata": {},
   "outputs": [],
   "source": [
    "## 숫자\n",
    "\n",
    "    ## 파이썬에서는 숫자 정수형으로 int 만을 제공한다\n",
    "    ## PEP 237을 통해 버전 2.4부터는 int가 충분하지 않으면 자동으로 long 타입으로 변경되는 구조가 됐으며 덕분에\n",
    "    ## C와 달리 오버플로가 발생하는 일은 사라졌다\n",
    "    \n",
    "    ## bool은 엄밀히 따지면 논리 자료형인데 파이썬에서는 내부적으로 1(True)과 0(False)으로 처리되는 int의 서브 클래스이다.\n",
    "    ## int는 object의 하위 클래스이기도 하기 때문데 다음과 같은 구조를 띤다.\n",
    "    \n",
    "    ## objedt > int > bool\n",
    "    \n",
    "\n",
    "## 매핑\n",
    "    \n",
    "    ## 매핑 타입은 키와 자료형으로 구성된 복합 자료형이며, \n",
    "    ## 파이썬에 내장된 유일한 매핑 자료형은 바로 딕셔너리이다.\n",
    "    \n",
    "    \n",
    "## 집합\n",
    "\n",
    "    ## 파이썬의 집합 자료형인 set은 중복된 값을 갖지 않는 자료형이다.\n",
    "    ## set은 딕셔너리와 동일하게 {}를 사용하므로 유의해야 한다.\n",
    "    ## set은 입력순서가 유지되지 않으며, 중복된 값이 있을 경우 하나만 유지한다.\n",
    "    "
   ]
  },
  {
   "cell_type": "code",
   "execution_count": 15,
   "metadata": {},
   "outputs": [],
   "source": [
    "## 시퀀스\n",
    "\n",
    "    ## 시퀀스(Sequence)는 우리말로 하면 '수열'같은 의미로, 어떤 특정 대상의 순서 있는 나열이다.\n",
    "    ## 파이썬에서는 list라는 시퀀스 타입이 사실상 배열의 역할을 수행한다.\n",
    "    \n",
    "    ## 시퀀스는 불변과 가변으로 구분한다\n",
    "    ## 불변에는 str, tuple, bytes가 해당되는데 한번 이 타입으로 선언되는 값은\n",
    "    ## 변경할 수 없다."
   ]
  },
  {
   "cell_type": "code",
   "execution_count": 20,
   "metadata": {},
   "outputs": [
    {
     "data": {
      "text/plain": [
       "1890115436464"
      ]
     },
     "execution_count": 20,
     "metadata": {},
     "output_type": "execute_result"
    }
   ],
   "source": [
    "a = 'abc'\n",
    "id('abc')"
   ]
  },
  {
   "cell_type": "code",
   "execution_count": 21,
   "metadata": {},
   "outputs": [
    {
     "data": {
      "text/plain": [
       "1890115436464"
      ]
     },
     "execution_count": 21,
     "metadata": {},
     "output_type": "execute_result"
    }
   ],
   "source": [
    "id(a)"
   ]
  },
  {
   "cell_type": "code",
   "execution_count": 22,
   "metadata": {},
   "outputs": [
    {
     "data": {
      "text/plain": [
       "1890116785392"
      ]
     },
     "execution_count": 22,
     "metadata": {},
     "output_type": "execute_result"
    }
   ],
   "source": [
    "a = 'def'\n",
    "id('def')"
   ]
  },
  {
   "cell_type": "code",
   "execution_count": 23,
   "metadata": {},
   "outputs": [
    {
     "data": {
      "text/plain": [
       "1890116785392"
      ]
     },
     "execution_count": 23,
     "metadata": {},
     "output_type": "execute_result"
    }
   ],
   "source": [
    "id(a)"
   ]
  },
  {
   "cell_type": "code",
   "execution_count": 25,
   "metadata": {},
   "outputs": [],
   "source": [
    "## 위 코드에서 볼 수 있듯이 a 변수에 할당된 str타입인 abc는 변경된 적이 없다.\n",
    "## 다른 str타입인 def를 다시 참조했을 뿐 실제로 abc도 def도 한번 생성된 이후 변경된 적이 없다.\n",
    "## abc와 def는 생성된 후에 변하지 않고 메모리 어딘가에 남아있다."
   ]
  },
  {
   "cell_type": "markdown",
   "metadata": {},
   "source": [
    "### 원시 타입"
   ]
  },
  {
   "cell_type": "code",
   "execution_count": 26,
   "metadata": {},
   "outputs": [],
   "source": [
    "## C나 자바 같은 대표적인 언어들은 기본적으로 원시 타입(Primitive type)을 제공한다.\n",
    "## 특히 C언어는 동일한 정수형이라도 크기나 부호에 따라 매우 다양한 원시 타입을 제공한다.\n",
    "\n",
    "    ## ex) short, long, long long, unsigned short, float, double, int.....\n",
    "    \n",
    "## 원시 타입은 메모리에 정확하게 타입 크기만큼의 공간을 할당하고 그 공간을 오로지 값으로 채워 넣는다."
   ]
  },
  {
   "cell_type": "code",
   "execution_count": 27,
   "metadata": {},
   "outputs": [],
   "source": [
    "## 원시타입만을 제공하는 C와 달리 자바는 원시타입과 동시에 대응하는 객체를 제공한다.\n",
    "## 원시 타입을 객체로 변환하면 여러 가지 작업을 수행할 수 있게 된다.\n",
    "## 문자 변환이라든지, 16진수 변환, 시프팅 같은 비트 조작도 지원한다."
   ]
  },
  {
   "cell_type": "code",
   "execution_count": 28,
   "metadata": {},
   "outputs": [],
   "source": [
    "## 원시 타입만을 제공하는 C와 원시 타입과 객체를 동시에 지원하는 자바, 그렇다면\n",
    "## 파이썬은 어떤 형태의 타입을 지원할까?\n",
    "\n",
    "## 파이썬은 원시 타입을 지원하지 않는다\n",
    "## 파이썬은 애초에 편리한 기능 제공에 우선순위를 둔 언어인만큼 \n",
    "## 느린 속도와 더 많은 메모리를 차지하더라도\n",
    "## 훨씬 더 다양한 기능을 제공하는 객체에 관심을 두는 게 당연하다"
   ]
  },
  {
   "cell_type": "markdown",
   "metadata": {},
   "source": [
    "### 객체"
   ]
  },
  {
   "cell_type": "code",
   "execution_count": 29,
   "metadata": {},
   "outputs": [],
   "source": [
    "## 파이썬은 모든 것이 객체다.\n",
    "## 불변 객체와 가변 객체로 구분할 수 있다.\n",
    "\n",
    "## 가변 --> list, set, dict"
   ]
  },
  {
   "cell_type": "code",
   "execution_count": 30,
   "metadata": {},
   "outputs": [],
   "source": [
    "## 불변 객체\n",
    "\n",
    "    ## 파이썬에서 변수를 할당하는 작업은 해당 객체에 대해 참조를 한다는 의미다.\n",
    "    ## 여기에는 예외가 없으며 심지어 문자와 숫자도 모두 객체이다.\n",
    "    ## 다만 문자와 숫자는 불변객체라는 차이만 있을 뿐이다."
   ]
  },
  {
   "cell_type": "code",
   "execution_count": 32,
   "metadata": {},
   "outputs": [
    {
     "data": {
      "text/plain": [
       "(140721506826304, 140721506826304, 140721506826304)"
      ]
     },
     "execution_count": 32,
     "metadata": {},
     "output_type": "execute_result"
    }
   ],
   "source": [
    "10\n",
    "a = 10\n",
    "b = a\n",
    "\n",
    "id(10), id(a), id(b)"
   ]
  },
  {
   "cell_type": "code",
   "execution_count": 33,
   "metadata": {},
   "outputs": [],
   "source": [
    "    ## 파이썬은 모든 것이 객체이므로 객체의 주소를 얻어오는 id() 함수를 실행한 결과는 모두 동일하다.\n",
    "    ## 값을 담고 있는 변수는 사실 참조일 뿐이고, 실제로 값을 갖고 있는 int와 str은 모두 불변 객체이다."
   ]
  },
  {
   "cell_type": "code",
   "execution_count": 34,
   "metadata": {},
   "outputs": [],
   "source": [
    "## 가변 객체\n",
    "\n",
    "    ## list는 값이 바뀔 수 있으며, 이 말은 다른 변수가 참조하고 있을 때 그 변수의 값 또한 변경된다는 의미이다."
   ]
  },
  {
   "cell_type": "code",
   "execution_count": 36,
   "metadata": {},
   "outputs": [],
   "source": [
    "a = [1, 2, 3, 4, 5]\n",
    "b = a"
   ]
  },
  {
   "cell_type": "code",
   "execution_count": 37,
   "metadata": {},
   "outputs": [
    {
     "data": {
      "text/plain": [
       "[1, 2, 3, 4, 5]"
      ]
     },
     "execution_count": 37,
     "metadata": {},
     "output_type": "execute_result"
    }
   ],
   "source": [
    "b"
   ]
  },
  {
   "cell_type": "code",
   "execution_count": 38,
   "metadata": {},
   "outputs": [
    {
     "data": {
      "text/plain": [
       "[1, 2, 10, 4, 5]"
      ]
     },
     "execution_count": 38,
     "metadata": {},
     "output_type": "execute_result"
    }
   ],
   "source": [
    "a[2] = 10\n",
    "a"
   ]
  },
  {
   "cell_type": "code",
   "execution_count": 39,
   "metadata": {},
   "outputs": [
    {
     "data": {
      "text/plain": [
       "[1, 2, 10, 4, 5]"
      ]
     },
     "execution_count": 39,
     "metadata": {},
     "output_type": "execute_result"
    }
   ],
   "source": [
    "b"
   ]
  },
  {
   "cell_type": "code",
   "execution_count": 40,
   "metadata": {},
   "outputs": [],
   "source": [
    "    ## 변수 a는 list다.\n",
    "    ## b에는 a를 할당하여 참조가 되게 했다.\n",
    "    ## a의 요소 하나를 변경하였더니 b에서도 값이 변경되었다."
   ]
  },
  {
   "cell_type": "code",
   "execution_count": 41,
   "metadata": {},
   "outputs": [],
   "source": [
    "## **** 참고 ****\n",
    "\n",
    "    ## C++ 참조와 비교\n",
    "        \n",
    "        ## 여기서 한 가지 주의할 점은 C++의 참조 방식은 파이썬의 방식과는 조금 다르다\n",
    "        \n",
    "        ## C++\n",
    "        ## int a = 10;\n",
    "        ## int &b = a;\n",
    "        ## b = 7;\n",
    "        ## cout << a << endl;\n",
    "        ## 7\n",
    "        \n",
    "        ## C++ 에서 참조 변수는 파이썬과 동일하게 참조를 갖는다.\n",
    "        ## 또한 참조 변수에 값을 할당하면 참조의 대상 또한 할당된 값으로 변경된다.\n",
    "        ## 그러나 파이썬은 조금 다르다.\n",
    "        \n",
    "        ## >>> a = 10\n",
    "        ## >>> b = a\n",
    "        ## >>> id(a), id(b)\n",
    "        ## (4550522560, 4550522560)\n",
    "        ## >>> b = 7\n",
    "        ## >>> a, id(a), id(b)\n",
    "        ## (10, 4550522560, 4550522464)\n",
    "        \n",
    "        ## b = a를 통해 a와 b는 동일한 메모리 주소를 가리키게 됐지만,\n",
    "        ## b = 7로 새로운 값을 할당하면 더 이상 b는 a를 참조하지 않는다\n",
    "        ## 이제 b는 7이라는 새로운 객체를 참조하게 된다."
   ]
  },
  {
   "cell_type": "code",
   "execution_count": 42,
   "metadata": {},
   "outputs": [],
   "source": [
    "## **** 문법 ****\n",
    "\n",
    "    ## is 와 ==\n",
    "    \n",
    "        ## is는 id()를 비교하는 함수이고, ==는 값을 비교하는 연산자다.\n",
    "        \n",
    "        ## None은 null로서 값 자체가 정의 되어 있지 않으므로 ==로 비교가 불가능한다.\n",
    "        ## 따라서 is로만 비교가능하다.\n",
    "        ## if a is None:\n",
    "        ##     pass"
   ]
  },
  {
   "cell_type": "code",
   "execution_count": 43,
   "metadata": {},
   "outputs": [],
   "source": [
    "a = [1, 2, 3]"
   ]
  },
  {
   "cell_type": "code",
   "execution_count": 44,
   "metadata": {},
   "outputs": [
    {
     "data": {
      "text/plain": [
       "True"
      ]
     },
     "execution_count": 44,
     "metadata": {},
     "output_type": "execute_result"
    }
   ],
   "source": [
    "a == a"
   ]
  },
  {
   "cell_type": "code",
   "execution_count": 45,
   "metadata": {},
   "outputs": [
    {
     "data": {
      "text/plain": [
       "True"
      ]
     },
     "execution_count": 45,
     "metadata": {},
     "output_type": "execute_result"
    }
   ],
   "source": [
    "a == list(a)"
   ]
  },
  {
   "cell_type": "code",
   "execution_count": 46,
   "metadata": {},
   "outputs": [
    {
     "data": {
      "text/plain": [
       "True"
      ]
     },
     "execution_count": 46,
     "metadata": {},
     "output_type": "execute_result"
    }
   ],
   "source": [
    "a is a"
   ]
  },
  {
   "cell_type": "code",
   "execution_count": 47,
   "metadata": {},
   "outputs": [
    {
     "data": {
      "text/plain": [
       "False"
      ]
     },
     "execution_count": 47,
     "metadata": {},
     "output_type": "execute_result"
    }
   ],
   "source": [
    "a is list(a)"
   ]
  },
  {
   "cell_type": "code",
   "execution_count": 48,
   "metadata": {},
   "outputs": [],
   "source": [
    "## 값은 동일하지만 list()로 한 번 더 묶어주면, 별도의 객체로 복사가 되고 다른 ID를 갖게 된다.\n",
    "## 따라서 is는 False가 된다."
   ]
  },
  {
   "cell_type": "code",
   "execution_count": 49,
   "metadata": {},
   "outputs": [],
   "source": [
    "a = [1, 2, 3]"
   ]
  },
  {
   "cell_type": "code",
   "execution_count": 51,
   "metadata": {},
   "outputs": [
    {
     "data": {
      "text/plain": [
       "True"
      ]
     },
     "execution_count": 51,
     "metadata": {},
     "output_type": "execute_result"
    }
   ],
   "source": [
    "import copy\n",
    "\n",
    "a == copy.deepcopy(a)"
   ]
  },
  {
   "cell_type": "code",
   "execution_count": 52,
   "metadata": {},
   "outputs": [
    {
     "data": {
      "text/plain": [
       "False"
      ]
     },
     "execution_count": 52,
     "metadata": {},
     "output_type": "execute_result"
    }
   ],
   "source": [
    "a is copy.deepcopy(a)"
   ]
  },
  {
   "cell_type": "code",
   "execution_count": 54,
   "metadata": {},
   "outputs": [],
   "source": [
    "## 복사한 결과 또한 값은 같지만 ID는 다르기 때문에 ==로 비교하면 True, is로 비교하면 False가 된다."
   ]
  },
  {
   "cell_type": "code",
   "execution_count": 55,
   "metadata": {},
   "outputs": [],
   "source": [
    "## 속도\n",
    "\n",
    "    ## 원시 타입의 경우는 덧셈 연산을 하는 경우 단순히 메모리에서 값을 꺼내 연산하면 끝인데\n",
    "    ## 파이썬의 객체 구조는 값을 꺼내는 데만 해도 여러 단계의 부가 작업이 필요하다."
   ]
  },
  {
   "cell_type": "code",
   "execution_count": 56,
   "metadata": {},
   "outputs": [],
   "source": [
    "## **** 참고 ****\n",
    "\n",
    "    ## 자료구조, 자료형, 추상 자료형\n",
    "    \n",
    "        ## 자료구조란\n",
    "            ## 데이터에 효율적으로 접근하고 조작하기 위한 데이터의 조직, 관리, 저장 구조를 말한다.\n",
    "            ## 원시 자료형을 기반으로 여러 원시 자료형을 조합한 것\n",
    "            \n",
    "        ## 자료형이란\n",
    "            ## 컴파일러 또는 인터프리터에게 프로그래머가 데이터를 어떻게 사용하려는지를 알려주는 일종의 데이터 속성이다.\n",
    "            ## 정수, 실수, 문자열 등 해당 언어에서 지원하는 원시 자료형까지 포함하는 모든 자료의 유형\n",
    "            \n",
    "        ##  추상자료형이란\n",
    "            ## 자료형에 대한 수학적 모델을 지칭한다. \n",
    "            ## 해당 유형의 자료에 대한 연산들을 명기한 것이다.\n",
    "            ## ADT는 기능만을 정의할 뿐 실제 구현 방법은 명시하지 않는다"
   ]
  },
  {
   "cell_type": "code",
   "execution_count": null,
   "metadata": {},
   "outputs": [],
   "source": []
  }
 ],
 "metadata": {
  "kernelspec": {
   "display_name": "Python 3",
   "language": "python",
   "name": "python3"
  },
  "language_info": {
   "codemirror_mode": {
    "name": "ipython",
    "version": 3
   },
   "file_extension": ".py",
   "mimetype": "text/x-python",
   "name": "python",
   "nbconvert_exporter": "python",
   "pygments_lexer": "ipython3",
   "version": "3.8.3"
  }
 },
 "nbformat": 4,
 "nbformat_minor": 4
}
