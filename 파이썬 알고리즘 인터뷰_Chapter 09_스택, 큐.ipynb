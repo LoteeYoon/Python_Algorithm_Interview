{
 "cells": [
  {
   "cell_type": "code",
   "execution_count": 1,
   "metadata": {},
   "outputs": [],
   "source": [
    "## 스택과 큐는 프로그래밍이라는 개념이 탄생할 때부터 사용된 가장 고전적인 자료구조 중 하나로\n",
    "## 그중에서도 스택은 거의 모든 애플리케이션을 만들 때 사용되는 자료구조다.\n",
    "## 스택은 LIFO, 큐는 FIFO로 처리된다. \n",
    "\n",
    "## 파이썬은 스택 자료형을 별도로 제공하지는 않지만, 리스트가 사실상 스택의 모든 연산을 지원한다.\n",
    "## 큐 또한 마찬가다. 리스트는 큐의 모든 연산을 지원한다.\n",
    "\n",
    "\n",
    "## 다만 리스트는 동적 배열(dynamic array)로 구현되어 있어 큐의 연산을 수행하기에는 효율적이지 않기 때문에,\n",
    "## 큐를 위해서는 데크(deque)라는 별도의 자료형을 사용해야 좋은 성능을 낼 수 있다.\n",
    "## 스택에서 list.append와 list.pop()를 이용하는 것처럼 list.append와 list.pop(0)을 이용하면 리스트를 큐처럼 사용할 수 있다.\n",
    "## 하지만 pop()의 complexity는 O(1)인 반면, pop(0)의 complexity는 O(n)이기 때문에 시간이 오래 걸린다.\n",
    "## 이는 파이썬 list가 동적 배열이므로 맨 앞의 요소를 추출하면 모든 원소들이 이동을 해야하기 때문이다.\n",
    "\n",
    "\n",
    "## 그러나 굳이 성능을 고려하지 않는다면 리스트는 스택과 큐의 모든 연산을 지원하기 때문에\n",
    "## 사실상 리스트를 잘 사용하기만 해도 충분하다."
   ]
  },
  {
   "cell_type": "markdown",
   "metadata": {},
   "source": [
    "# 스택"
   ]
  },
  {
   "cell_type": "code",
   "execution_count": 2,
   "metadata": {},
   "outputs": [],
   "source": [
    "## 스택(stack)은 다음과 같은 2가지 주요 연산을 지원하는 요소의 컬렉션으로 사용되는 추상 자료형이다.\n",
    "## push() : 요소를 컬렉션에 추가한다.\n",
    "## pop() : 아직 제거되지 않은 가장 최근에 삽입된 요소를 제거한다."
   ]
  },
  {
   "cell_type": "code",
   "execution_count": 3,
   "metadata": {},
   "outputs": [],
   "source": [
    "## 스택은 다양하게 활용가능하다.\n",
    "## 콜 스택(call stack)이라 하여 컴퓨터 프로그램의 서브루틴에 대한 정보를 저장하는 자료구조에도 널리 사용된다.\n",
    "## 컴파일러가 출력하는 에러도 스택처럼 맨 마지막 에러가 가장 먼저 출력되는 것을 볼 수 있다.\n",
    "\n",
    "## 또한 스택은 메모리 영역에서 LIFO 형태로 할당하고 접근하는 구조인 아키텍처 레벨의 하드웨어 스택의 이름으로도\n",
    "## 널리 사용된다.\n",
    "\n",
    "## 스택은 거의 모든 애플리케이션을 만들 때 사용되는 자료구조로서, 스택과 연관된 알고리즘을 제대로 이해하느냐 \n",
    "## 못 하느냐에 따라서 기본 알고리즘을 설계할 수 있느냐 없느냐가 결정되기도 한다.\n",
    "\n",
    "## 스택을 연결리스트로 구현하게 된다면 물리 메모리 상에는 순서와 관계없이 여기저기에 무작위로 배치되고 \n",
    "## 포인터로 가리키게 될 것이다."
   ]
  },
  {
   "cell_type": "markdown",
   "metadata": {},
   "source": [
    "##### 연결리스트를 이용한 스택 ADT 구현"
   ]
  },
  {
   "cell_type": "code",
   "execution_count": 4,
   "metadata": {},
   "outputs": [],
   "source": [
    "## 그럼 연결리스트를 이용해 실제로 스택을 한번 구현해보자."
   ]
  },
  {
   "cell_type": "code",
   "execution_count": 5,
   "metadata": {},
   "outputs": [],
   "source": [
    "## 먼저 다음과 같이 연결리스트의 Node 클래스부터 정의한다.\n",
    "\n",
    "class Node:\n",
    "    def __init__(self, item, Next):\n",
    "        self.item = item\n",
    "        self.next = Next"
   ]
  },
  {
   "cell_type": "code",
   "execution_count": 6,
   "metadata": {},
   "outputs": [],
   "source": [
    "## constructor에서 노드의 값은 item으로, 다음 노드를 가리키는 포인터는 Next로 정의한다.\n",
    "## 이제 스택의 연산인 push()와 pop()을 담은 stack 클래스를 정의한다.\n",
    "\n",
    "class Stack:\n",
    "    def __init__(self):\n",
    "        self.last = None\n",
    "        \n",
    "    def push(self, item):\n",
    "        self.last = Node(item, self.last)\n",
    "        \n",
    "    def pop(self):\n",
    "        item = self.last.item\n",
    "        self.last = self.last.next\n",
    "        return item"
   ]
  },
  {
   "cell_type": "code",
   "execution_count": 7,
   "metadata": {},
   "outputs": [],
   "source": [
    "stack = Stack()"
   ]
  },
  {
   "cell_type": "code",
   "execution_count": 8,
   "metadata": {},
   "outputs": [],
   "source": [
    "stack.push(1)"
   ]
  },
  {
   "cell_type": "code",
   "execution_count": 9,
   "metadata": {},
   "outputs": [],
   "source": [
    "stack.push(2)"
   ]
  },
  {
   "cell_type": "code",
   "execution_count": 10,
   "metadata": {},
   "outputs": [],
   "source": [
    "stack.push(3)\n",
    "stack.push(4)\n",
    "stack.push(5)"
   ]
  },
  {
   "cell_type": "code",
   "execution_count": 11,
   "metadata": {},
   "outputs": [
    {
     "name": "stdout",
     "output_type": "stream",
     "text": [
      "5\n",
      "4\n",
      "3\n",
      "2\n",
      "1\n"
     ]
    }
   ],
   "source": [
    "for _ in range(5):\n",
    "    print(stack.pop())"
   ]
  },
  {
   "cell_type": "markdown",
   "metadata": {},
   "source": [
    "# 20. 유효한 괄호"
   ]
  },
  {
   "cell_type": "markdown",
   "metadata": {},
   "source": [
    "### LeetCode 20. Valid Parentheses"
   ]
  },
  {
   "cell_type": "markdown",
   "metadata": {},
   "source": [
    "##### 괄호로 된 입력값이 올바른지 판별하라."
   ]
  },
  {
   "cell_type": "code",
   "execution_count": 12,
   "metadata": {},
   "outputs": [],
   "source": [
    "## 예제1\n",
    "    ## input: ()[]{}\n",
    "    ## output: true"
   ]
  },
  {
   "cell_type": "markdown",
   "metadata": {},
   "source": [
    "##### 풀이 1 스택 일치 여부 판별"
   ]
  },
  {
   "cell_type": "code",
   "execution_count": 13,
   "metadata": {},
   "outputs": [],
   "source": [
    "## 전형적인 스택 문제로, 매우 쉬우면서도 기본기를 점검할 수 있는 좋은 문제다.\n",
    "## (, [, {  는 스택에 push 하고 ), ], }를 만날 때 스택에서 pop한 결과가 매핑 테이블 결과와 매칭되는지 확인하면 된다.\n",
    "## 여기서는 먼저 매핑 테이블을 만들어 놓고 테이블에 존재하지 않으면 무조건 push하고, \n",
    "## pop했을 때 결과가 일치하지 않으면 False를 리턴하도록 구현했다."
   ]
  },
  {
   "cell_type": "code",
   "execution_count": 14,
   "metadata": {},
   "outputs": [],
   "source": [
    "def isValid(s: str) -> bool:\n",
    "    stack = []\n",
    "\n",
    "    table = {\n",
    "        ')' : '(',\n",
    "        '}' : '{',\n",
    "        ']' : '[',\n",
    "    }\n",
    "    \n",
    "    # 스택 이용 예외 처리 및 일치 여부 판별\n",
    "    for char in s:\n",
    "        if char not in table:  ## (, {, [ 를 만나면 stack에 push\n",
    "            stack.append(char)\n",
    "        elif not stack or table[char] != stack.pop(): ## ), }, ] 를 만나면 비교\n",
    "            return False\n",
    "        \n",
    "    return len(stack) == 0"
   ]
  },
  {
   "cell_type": "code",
   "execution_count": 15,
   "metadata": {},
   "outputs": [
    {
     "data": {
      "text/plain": [
       "True"
      ]
     },
     "execution_count": 15,
     "metadata": {},
     "output_type": "execute_result"
    }
   ],
   "source": [
    "s = '(){}[]'\n",
    "\n",
    "isValid(s)"
   ]
  },
  {
   "cell_type": "code",
   "execution_count": 16,
   "metadata": {},
   "outputs": [],
   "source": [
    "## 여기서 stack은 간편하게 파이썬의 동적 배열 구현인 리스트를 사용했다.\n",
    "## 파이썬 리스트는 스택 연산인 push와 pop이 O(1)에 동작하기 때문에 성능에도 큰 문제가 없다.\n",
    "## LeetCode에는 비정상적인 테스트 케이스가 다수 포함되어 있기 때문에 제대로 실행되기 위해서는 다음과 같이 \n",
    "## 예외 처리를 해야 한다.\n",
    "\n",
    "## 이 코드에서는 pop 결과가 일치하지 않는지 확인하는 것 외에도 스택이 비어 있는지 여부를 함께 확인하여 \n",
    "## True, False를 결정하게 한다. 이처럼 예외처리가 반드시 포함되어야 한다."
   ]
  },
  {
   "cell_type": "markdown",
   "metadata": {},
   "source": [
    "# 21. 중복 문자 제거"
   ]
  },
  {
   "cell_type": "markdown",
   "metadata": {},
   "source": [
    "### LeetCode 316. Remove Duplicate Letters"
   ]
  },
  {
   "cell_type": "markdown",
   "metadata": {},
   "source": [
    "##### 중복된 문자를 제외하고 사전식 순서(Lexicographical Order)로 나열하라"
   ]
  },
  {
   "cell_type": "code",
   "execution_count": 17,
   "metadata": {},
   "outputs": [],
   "source": [
    "## 예제1\n",
    "    ## input: \"bcabc\"\n",
    "    ## output: \"abc\"\n",
    "    \n",
    "## 예제2\n",
    "    ## input: \"cbacdcbc\"\n",
    "    ## output: \"acdb\""
   ]
  },
  {
   "cell_type": "markdown",
   "metadata": {},
   "source": [
    "##### 풀이 1 재귀를 이용한 분리"
   ]
  },
  {
   "cell_type": "code",
   "execution_count": 18,
   "metadata": {},
   "outputs": [],
   "source": [
    "## 상당히 어려운 문제로, 문제에 대한 확실한 이해가 필요하다.\n",
    "## 먼저 사전식 순서라는 용어를 이해해야 한다.\n",
    "## 사전식 순서란 글자 그대로 사전에서 가장 먼저 찾을 수 있는 순서를 말하며,\n",
    "## bcabc에서 중복 문자를 제외하면 사전에서 사전에서 가장 먼저 찾을 수 있는 문자열은 abc가 될 것이다.\n",
    "## 입력값이 ebcabc라면 결과는 eabc가 될 것이다. e 문자 자체는 해당 문자열 내에서 사전 순으로는 가장 뒤에 있지만\n",
    "## e는 입력값에서 딱 한 번만 등장하고 a, b, c는 뒤이어 등장하기 때문에 e의 위치를 변경할 수 없기 때문이다.\n",
    "## 만약 입력값이 ebcabce라면 첫 번째 e는 중복으로 제거할 수 있고 마지막 e를 남겨서,\n",
    "## 결과는 abce가 될 수 있을 것이다."
   ]
  },
  {
   "cell_type": "code",
   "execution_count": 19,
   "metadata": {},
   "outputs": [],
   "source": [
    "def removeDuplicateLetters(self, s: str) -> str:\n",
    "    # 집합으로 정렬\n",
    "    for char in sorted(set(s)):\n",
    "        suffix = s[s.index(char):]\n",
    "        # 전체 집합과 접미사 집합이 일치할 때 분리 진행\n",
    "        if set(s) == set(suffix):\n",
    "            return char + self.removeDuplicateLetters(suffix.replace(char, ''))\n",
    "    return ''"
   ]
  },
  {
   "cell_type": "markdown",
   "metadata": {},
   "source": [
    "##### 풀이 2 스택을 이용한 문자 제거"
   ]
  },
  {
   "cell_type": "code",
   "execution_count": 20,
   "metadata": {},
   "outputs": [],
   "source": [
    "##'중복 문자 제거' 문제를 이 장에서 다루는 이유는 스택을 이용해 풀 수 있기 때문이다."
   ]
  },
  {
   "cell_type": "code",
   "execution_count": 21,
   "metadata": {},
   "outputs": [],
   "source": [
    "import collections\n",
    "\n",
    "def removeDuplicateLetters(s: str) -> str:\n",
    "    counter, seen, stack = collections.Counter(s), set(), []\n",
    "    \n",
    "    for char in s:\n",
    "#         print('==========================')\n",
    "#         print('char: {}'.format(char))\n",
    "#         print('counter[{}]: {}'.format(char, counter[char]))\n",
    "#         print('seen: {}'.format(seen))\n",
    "#         print('stack: {}'.format(stack))\n",
    "        counter[char] -= 1\n",
    "        \n",
    "#         print('**counter 개수 -1 이후')\n",
    "#         print('counter[{}]: {}'.format(char, counter[char]))\n",
    "#         print('seen: {}'.format(seen))\n",
    "#         print('stack: {}'.format(stack))\n",
    "        \n",
    "        if char in seen:\n",
    "            continue\n",
    "            \n",
    "        \n",
    "#         print('**if pass')\n",
    "#         print('counter[{}]: {}'.format(char, counter[char]))\n",
    "#         print('seen: {}'.format(seen))\n",
    "#         print('stack: {}'.format(stack))\n",
    "\n",
    "#         if stack and char < stack[-1] and counter[stack[-1]] > 0:\n",
    "#             print('**while 실행 후')\n",
    "#         else:\n",
    "#             print('**while pass')\n",
    "        # 뒤에 붙일 문자가 남아 있다면 스택에서 제거\n",
    "        while stack and char < stack[-1] and counter[stack[-1]] > 0:\n",
    "            seen.remove(stack.pop())\n",
    "        \n",
    "\n",
    "#         print('counter[{}]: {}'.format(char, counter[char]))\n",
    "#         print('seen: {}'.format(seen))\n",
    "#         print('stack: {}'.format(stack))\n",
    "        \n",
    "        stack.append(char)\n",
    "        seen.add(char)\n",
    "        \n",
    "#         print('**stack, seen에 데이터 추가 이후')\n",
    "#         print('counter[{}]: {}'.format(char, counter[char]))\n",
    "#         print('seen: {}'.format(seen))\n",
    "#         print('stack: {}'.format(stack))\n",
    "        \n",
    "        \n",
    "    return ''.join(stack)"
   ]
  },
  {
   "cell_type": "code",
   "execution_count": 22,
   "metadata": {},
   "outputs": [],
   "source": [
    "# s = 'cbacdcbc'\n",
    "\n",
    "# removeDuplicateLetters(s)"
   ]
  },
  {
   "cell_type": "code",
   "execution_count": 23,
   "metadata": {},
   "outputs": [],
   "source": [
    "## 여기서 seen은 집합 자료형으로, 이미 처리된 문자 여부를 확인하기 위해 사용했으며,\n",
    "## 이처럼 이미 처리된 문자는 스킵한다.\n",
    "## 여기서는 처리된 문자 여부를 확인하기 위해 in을 이용한 검색 연산으로 찾아냈다.\n",
    "## 그러나 해당 기능은 스택에는 존재하지 않는 연산이기 때문에 별도의 집합 자료형에만 사용했다.\n",
    "## 사실 여기서 스택으로 가정하고 사용한 파이썬의 자료형은 리스트이고, 리스트는 검색도 잘 지원하기 때문에\n",
    "## 굳이 스택이라는 자료구조로 한정짓지 않고 풀이한다면 seen 변수 없이도 다음과 같은 형태로 얼마든지 풀이가 가능하다."
   ]
  },
  {
   "cell_type": "code",
   "execution_count": 24,
   "metadata": {},
   "outputs": [],
   "source": [
    "## 코드 자체는 오히려 더 깔끔해진다.\n",
    "\n",
    "## if char in stack:\n",
    "##     continue\n",
    "\n",
    "## while stack and char < stack[-1] and counter[stack[-1]] > 0:\n",
    "##     stack.pop()\n",
    "## stack.append(char)\n"
   ]
  },
  {
   "cell_type": "markdown",
   "metadata": {},
   "source": [
    "# 22. 일일 온도"
   ]
  },
  {
   "cell_type": "markdown",
   "metadata": {},
   "source": [
    "### LeetCode 739. Daily Temperatures"
   ]
  },
  {
   "cell_type": "markdown",
   "metadata": {},
   "source": [
    "##### 매일의 화씨 온도(℉) 리스트 T를 입력받아서, 더 따뜻한 날씨를 위해서는 며칠을 더 기다려야 하는지를 출력하라"
   ]
  },
  {
   "cell_type": "code",
   "execution_count": 25,
   "metadata": {},
   "outputs": [],
   "source": [
    "## 예제1\n",
    "    ## input: T = [73, 74, 75, 71, 69, 72, 76, 73]\n",
    "    ## output: [1, 1, 4, 2, 1, 1, 0, 0]\n",
    "\n",
    "## description\n",
    "    ## 화씨 73도인 첫째 날에서 더 따뜻한 날을 위해서는 하루만 기다리면 된다. 바로 다음날인 둘째 날은 화씨 74도다.\n",
    "    ## 마찬가지로 더 따뜻한 날을 위해서는 셋째 날까지 하루만 기다리면 된다.\n",
    "    ## 셋째 날은 화씨 75도며, 이보다 더 따뜻한 날을 위해서는 4일을 더 기다려야 일곱째 날 화씨 76도가 된다.\n",
    "    ## 일곱째 날과 여덟째 날은 더 이상 따뜻한 날이 없으므로 각각 0이다."
   ]
  },
  {
   "cell_type": "markdown",
   "metadata": {},
   "source": [
    "##### 풀이 1 스택 값 비교"
   ]
  },
  {
   "cell_type": "code",
   "execution_count": 26,
   "metadata": {},
   "outputs": [],
   "source": [
    "## 이 문제는 앞의 7장에서 풀어본 8번 '빗물 트래핑' 문제와 유사한 방법으로 풀이할 수 있다.\n",
    "## 현재의 인덱스를 계속 스택에 쌓아두다가, 이전보다 상승하는 지점에서 현재 온도와 스택에 쌓아둔\n",
    "## 인덱스 지점의 온도 차이를 비교해서, 더 높다면 pop으로 꺼내고 현재 인덱스와 스택에 쌓아둔\n",
    "## 인덱스의 차이를 정답으로 처리한다."
   ]
  },
  {
   "cell_type": "code",
   "execution_count": 27,
   "metadata": {},
   "outputs": [],
   "source": [
    "from typing import *\n",
    "\n",
    "def dailyTemperatures(T: List[int]) -> List[int]:\n",
    "    answer = [0] * len(T)\n",
    "    stack = []\n",
    "    for i, cur in enumerate(T):  ## O(n)\n",
    "        while stack and cur > T[stack[-1]]:\n",
    "            last = stack.pop()  ## O(1)\n",
    "            answer[last] = i - last  ## O(1)\n",
    "        stack.append(i)        \n",
    "    return answer"
   ]
  },
  {
   "cell_type": "code",
   "execution_count": 28,
   "metadata": {},
   "outputs": [],
   "source": [
    "## while은 조건을 만족했을 때만 바로 직전 stack element를 조회하므로 \n",
    "## 전체 complexity는 O(n)이다."
   ]
  },
  {
   "cell_type": "code",
   "execution_count": null,
   "metadata": {},
   "outputs": [],
   "source": []
  },
  {
   "cell_type": "code",
   "execution_count": null,
   "metadata": {},
   "outputs": [],
   "source": []
  },
  {
   "cell_type": "markdown",
   "metadata": {},
   "source": [
    "# 큐"
   ]
  },
  {
   "cell_type": "code",
   "execution_count": 29,
   "metadata": {},
   "outputs": [],
   "source": [
    "## 큐(Queue)는 시퀀스의 한쪽 끝에는 entity를 추가하고, 다른 반대쪽 끝에는 제거할 수 있는 entity 컬렉션이다.\n",
    "## FIFO로 처리되는, 줄을 서는 것에 비유할 수 있는 큐는 상대적으로 스택에 비해서는 쓰임새가 적다.\n",
    "## 그러나 스택에 비해서 그렇다는 얘기일 뿐, 데크(Deque)나 우선순위 큐(Priority Queue) 같은 변형들은 여러 분야에서\n",
    "## 매우 유용하게 쓰인다.\n",
    "\n",
    "## 파이썬에는 동일한 이름의 queue라는 모듈이 있긴 하지만 이 모듈은 사실상 자료구조로서의 큐보다는\n",
    "## 동기화 기능에 집중된 모듈로, 큐 자료형을 위해 널리 쓰이는 모듈은 아니다.\n",
    "## 사실상 파이썬의 리스트는 큐의 모든 연산을 지원하기 때문에 그대로 사용해도 무방하지만\n",
    "## 좀 더 나은 성능을 위해서는 이후에 살펴볼 양방향 삽입, 삭제가 모두 O(1)에 가능한 데크를 사용하는 편이 가장 좋다."
   ]
  },
  {
   "cell_type": "markdown",
   "metadata": {},
   "source": [
    "# 23. 큐를 이용한 스택 구현"
   ]
  },
  {
   "cell_type": "markdown",
   "metadata": {},
   "source": [
    "### LeetCode 225. Implement Stack using Queues"
   ]
  },
  {
   "cell_type": "markdown",
   "metadata": {},
   "source": [
    "##### 큐를 이용해 다음 연산을 지원하는 스택을 구현하라"
   ]
  },
  {
   "cell_type": "markdown",
   "metadata": {},
   "source": [
    "##### push(x) : 요소 x를 스택에 삽입한다.<br/>pop() : 스택의 첫 번째 요소를 삭제한다.<br/>top() : 스택의 첫 번째 요소를 가져온다.<br/>empty() : 스택이 비어 있는지 여부를 리턴한다."
   ]
  },
  {
   "cell_type": "markdown",
   "metadata": {},
   "source": [
    "##### 풀이 1 push() 할 때 큐를 이용해 재정렬"
   ]
  },
  {
   "cell_type": "code",
   "execution_count": 30,
   "metadata": {},
   "outputs": [],
   "source": [
    "## 매우 흥미로운 구현 문제다.\n",
    "## 스택이나 큐 ADT를 실제로 구현할 때는, 대개 스택은 연결리스트로 하고 큐는 배열로 한다."
   ]
  },
  {
   "cell_type": "code",
   "execution_count": 31,
   "metadata": {},
   "outputs": [],
   "source": [
    "class MyStack:\n",
    "    def __init__(self):\n",
    "        self.q = collections.deque()\n",
    "        \n",
    "    def push(self, x):\n",
    "        self.q.append(x)\n",
    "        \n",
    "        for _ in range(len(self.q) - 1):\n",
    "            self.q.append(self.q.popleft())\n",
    "    \n",
    "    # pop할 때가 아니라 push할 때 순서를 바꿔놔야 LIFO 구조로 pop 할 수 있음\n",
    "    \n",
    "    def pop(self):\n",
    "        return self.q.popleft()\n",
    "    \n",
    "    def top(self):\n",
    "        return self.q[0]\n",
    "    \n",
    "    def empty(self):\n",
    "        return len(self.q) == 0"
   ]
  },
  {
   "cell_type": "markdown",
   "metadata": {},
   "source": [
    "# 24. 스택을 이용한 큐 구현"
   ]
  },
  {
   "cell_type": "markdown",
   "metadata": {},
   "source": [
    "### LeetCode 232. Implement Queue using Stacks"
   ]
  },
  {
   "cell_type": "markdown",
   "metadata": {},
   "source": [
    "##### 스택을 이용해 다음 연산을 지원하는 큐를 구현하라."
   ]
  },
  {
   "cell_type": "markdown",
   "metadata": {},
   "source": [
    "##### push(x) : 요소 x를 큐 마지막에 삽입한다.<br/>pop() : 큐 처음에 있는 요소를 제거한다.<br/>peek() : 큐 처음에 있는 요소를 조회한다.<br/>empty() : 큐가 비어 있는지 여부를 리턴한다."
   ]
  },
  {
   "cell_type": "markdown",
   "metadata": {},
   "source": [
    "##### 풀이 1 스택 2개 사용"
   ]
  },
  {
   "cell_type": "code",
   "execution_count": 32,
   "metadata": {},
   "outputs": [],
   "source": [
    "## 이번에는 반대로 해보자.\n",
    "## 큐를 스택으로 구현하는 방법이다.\n",
    "\n",
    "## 앞서 스택 구현과 비슷한 방법으로 할 수 있을까?\n",
    "## 앞서 문제 풀이에서 push() 부분을 다시 한번 살펴보면 다음과 같다.\n",
    "\n",
    "## self.q.append(x)\n",
    "## for _ in range(len(self.q) - 1):\n",
    "##     self.q.append(self.q.popleft())\n",
    "\n",
    "## 여기에는 앞서와는 다른 중요한 차이점이 있다. 지난 풀이에서는 큐에 요소를 삽입한 후 맨 앞의 요소부터 끄집어냈다.\n",
    "## 그렇게 해서 원래의 큐에 덧붙여 나가는 형태로, 추가 공간 없이 풀이가 가능했다.\n",
    "## 그러나 이번에는 맨 뒤의 아이템을 끄집어낼 수밖에 없다.\n",
    "## 이렇게 하면 다음번에 또 다시 맨 뒤의 아이템을 끄집어 내게 되는데, 결국 무한반복 문제에서 헤어나올 수 없다는 점이 문제다.\n",
    "## 즉 이전과 동일하게 하나의 큐를 이용해서는 풀이할 수 없다. \n",
    "## 따라서 이 문제를 스택의 연산만을 사용해서 풀기 위해서는 2개의 스택이 필요하다.\n"
   ]
  },
  {
   "cell_type": "code",
   "execution_count": 33,
   "metadata": {},
   "outputs": [],
   "source": [
    "class MyQueue:\n",
    "    def __init__(self):\n",
    "        self.input = []\n",
    "        self.output = []\n",
    "        \n",
    "    def push(self, x):\n",
    "        self.input.append(x)\n",
    "        \n",
    "    def pop(self):\n",
    "        self.peek()\n",
    "        return self.output.pop()\n",
    "    \n",
    "    def peek(self):\n",
    "        # output이 없으면 모두 재입력\n",
    "        if not self.output:\n",
    "            while self.input:\n",
    "                self.output.append(self.input.pop())\n",
    "        return self.output[-1]\n",
    "    \n",
    "    def empty(self):\n",
    "        return self.input == [] and self.output == []"
   ]
  },
  {
   "cell_type": "code",
   "execution_count": 34,
   "metadata": {},
   "outputs": [],
   "source": [
    "## pop()과 peek()는 결국 같은 데이터를 끄집어낸다는 점에 착안해, pop()을 할 때 peek()을 호출하고\n",
    "## 여기에 재입력하도록 refactoring 했다.\n",
    "## 이렇게 구현해도 output의 값이 모두 pop 되기 전까지는 다시 재입력이 일어나지 않기 때문에,\n",
    "## 분활 상환 분석에 따른 시간 복잡도(Amortized Time Complexity)는 여전히 O(1)이다."
   ]
  },
  {
   "cell_type": "code",
   "execution_count": null,
   "metadata": {},
   "outputs": [],
   "source": []
  },
  {
   "cell_type": "markdown",
   "metadata": {},
   "source": [
    "# 25. 원형 큐 디자인"
   ]
  },
  {
   "cell_type": "markdown",
   "metadata": {},
   "source": [
    "### LeetCode 622. Design Circular Queue"
   ]
  },
  {
   "cell_type": "markdown",
   "metadata": {},
   "source": [
    "##### 원형 큐를 디자인하라"
   ]
  },
  {
   "cell_type": "code",
   "execution_count": 35,
   "metadata": {},
   "outputs": [],
   "source": [
    "## Implementation the MyCircularQueue class:\n",
    "\n",
    "## MyCircularQueue(k) Initializes the object with the size of the queue to be k.\n",
    "## int Front() Gets the front item from the queue. If the queue is empty, return -1.\n",
    "## int Rear() Gets the last item from the queue. If the queue is empty, return -1.\n",
    "## boolean enQueue(int value) Inserts an element into the circular queue. Return true if the operation is successful.\n",
    "## boolean deQueue() Deletes an element from the circular queue. Return true if the operation is successful.\n",
    "## boolean isEmpty() Checks whether the circular queue is empty or not.\n",
    "## boolean isFull() Checks whether the circular queue is full or not."
   ]
  },
  {
   "cell_type": "code",
   "execution_count": 36,
   "metadata": {},
   "outputs": [],
   "source": [
    "## MyCircularQueue circularQueue = new MyCircularQueue(5); // 크기를 5로 지정\n",
    "## circularQueue.enQueue(10); // true 리턴\n",
    "## circularQueue.enQueue(20); // true 리턴\n",
    "## circularQueue.enQueue(30); // true 리턴\n",
    "## circularQueue.enQueue(40); // true 리턴\n",
    "## circularQueue.Rear(); // 40 리턴\n",
    "## circularQueue.isFull(); // false 리턴\n",
    "## circularQueue.deQueue(); // true 리턴\n",
    "## circularQueue.dequeue(); // true 리턴\n",
    "## circularQueue.enQueue(50); // true 리턴\n",
    "## circularQueue.enQueue(60); // true 리턴\n",
    "## circularQueue.Rear(); // 60 리턴\n",
    "## circularQueue.Front(); // 30 리턴"
   ]
  },
  {
   "cell_type": "code",
   "execution_count": 37,
   "metadata": {},
   "outputs": [],
   "source": [
    "## 원형 큐(Circular Queue)는 FIFO 구조를 지닌다는 점에서 기존의 큐와 동일하다.\n",
    "## 그러나 마지막 위치가 시작 위치와 연결되는 원형 구조를 띠게 때문에, 링 버퍼(Ring Buffer) 라고도 부른다.\n",
    "\n",
    "## 동작하는 원리는 투 포인터와도 비슷하다. 마지막 위치와 시작 위치를 연결하는 원형 구조를 만들고,\n",
    "## 요소의 시작점과 끝점을 따라 투 포인터가 움직인다.\n",
    "\n",
    "## 원형 큐를 구현하는 방법에는 여러 가지가 있으나 여기서는 가장 일반적인 방법인 배열로 구현해본다.\n",
    "## 아울러 배열로 구현했을 때 공간을 재활용한다는 원형의 이점을 내세울 수 있기도 하다."
   ]
  },
  {
   "cell_type": "code",
   "execution_count": 38,
   "metadata": {},
   "outputs": [],
   "source": [
    "class MyCircularQueue:\n",
    "    ## 먼저, 이처럼 초기화 시에는 큐의 크기 k를 입력값으로 받는다.\n",
    "    ## front 포인터는 p1으로 정하고, rear 포인터는 p2로 정한다.\n",
    "    ## 둘 다 초깃값은 0으로 한다.\n",
    "    def __init__(self, k: int):\n",
    "        self.q = [None] * k\n",
    "        self.maxlen = k\n",
    "        self.p1 = 0  ## front\n",
    "        slef.p2 = 0  ## rear\n",
    "        \n",
    "    # enQueue(): rear 포인터 이동\n",
    "    def enQueue(self, value: int) -> bool:\n",
    "        if self.q[self.p2] is None:\n",
    "            self.q[self.p2] = value\n",
    "            self.p2 = (self.p2 + 1) % self.maxlen\n",
    "            return True\n",
    "        else:\n",
    "            return False\n",
    "        \n",
    "    # deQueue(): front 포인터 이동\n",
    "    def deQueue(self) -> bool:\n",
    "        if self.q[self.p1] is None:\n",
    "            return False\n",
    "        else:\n",
    "            self.q[self.p1] = None\n",
    "            self.p1 = (self.p1 + 1) % self.maxlen\n",
    "            return True\n",
    "        \n",
    "    def Front(self) -> int:\n",
    "        return -1 if self.q[self.p1] is None else self.q[self.p1]\n",
    "    \n",
    "    def Rear(self) -> int:\n",
    "        ## enQueue 구현에서 값을 넣어준 후 rear 포인터를 한 칸 미리 앞으로 옮겼음\n",
    "        return -1 if self.q[self.p2 - 1] is None else self.q[self.p2 - 1]\n",
    "    \n",
    "    def isEmpty(self) -> bool:\n",
    "        return self.p1 == self.p2 and self.q[self.p1] is None\n",
    "    \n",
    "    def isFull(self) -> bool:\n",
    "        return self.p1 == self.p2 and self.q[self.p1] is not None"
   ]
  },
  {
   "cell_type": "code",
   "execution_count": 39,
   "metadata": {},
   "outputs": [],
   "source": [
    "## 여기서 구현한 모든 연산은 리트코드 문제의 풀이 기준을 따랐으나, 원래 큐에는 Rear() 연산이 없다.\n",
    "## 큐는 맨 앞에 있는 요소를 가져오는 front() 또는 peek()라는 이름으로 정의된 연산만 있기 때문이다."
   ]
  },
  {
   "cell_type": "code",
   "execution_count": null,
   "metadata": {},
   "outputs": [],
   "source": []
  }
 ],
 "metadata": {
  "kernelspec": {
   "display_name": "Python 3",
   "language": "python",
   "name": "python3"
  },
  "language_info": {
   "codemirror_mode": {
    "name": "ipython",
    "version": 3
   },
   "file_extension": ".py",
   "mimetype": "text/x-python",
   "name": "python",
   "nbconvert_exporter": "python",
   "pygments_lexer": "ipython3",
   "version": "3.8.3"
  }
 },
 "nbformat": 4,
 "nbformat_minor": 4
}
