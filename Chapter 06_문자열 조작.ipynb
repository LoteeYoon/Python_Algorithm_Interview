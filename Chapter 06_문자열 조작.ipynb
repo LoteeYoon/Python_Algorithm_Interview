{
 "cells": [
  {
   "cell_type": "code",
   "execution_count": 1,
   "metadata": {},
   "outputs": [],
   "source": [
    "## 문자열 조작이란 문자열을 변경하거나 분리하는 등의 여러 과정을 말한다.\n",
    "## 원래 문자열은 low level에서 조작하거나, C처럼 문자형이 따로 없는 언어에서는 \n",
    "## 조작이 매우 까다로운 편이다.\n",
    "## 하지만 대부분의 언어에서는 별도의 문자열 자료형과 문자열을 조작하기 위한 다양한 기능들을 기본적으로 제공하고 있다."
   ]
  },
  {
   "cell_type": "code",
   "execution_count": 2,
   "metadata": {},
   "outputs": [],
   "source": [
    "## 문자열 조작은 코딩 테스트에서 매우 빈번하게 출제되는 주제 중 하나며,\n",
    "## 특히 실무에서도 다양한 분야에 쓰이는 상당히 실용적인 주제다."
   ]
  },
  {
   "cell_type": "code",
   "execution_count": 3,
   "metadata": {},
   "outputs": [],
   "source": [
    "## 이 장에서는 문자열과 관련한 문제를 풀이하면서 \n",
    "## 파이썬의 문자열 자료형에는 어떠한 기능들이 제공되고\n",
    "## 문자열 조작과 처리에 어떠한 기법들이 쓰이는지 하나씩 살펴본다."
   ]
  },
  {
   "cell_type": "markdown",
   "metadata": {},
   "source": [
    "# 1. 유효한 팰린드롬"
   ]
  },
  {
   "cell_type": "markdown",
   "metadata": {},
   "source": [
    "### LeetCode 125. Valid Palindrome"
   ]
  },
  {
   "cell_type": "markdown",
   "metadata": {},
   "source": [
    "#####         주어진 문자열이 팰린드롬인지 확인하라. 대소문자를 구분하지 않으며, 영문자와 숫자만을 대상으로 한다."
   ]
  },
  {
   "cell_type": "code",
   "execution_count": 4,
   "metadata": {},
   "outputs": [],
   "source": [
    "# 예제 1\n",
    "    # input: \"A man, a plan, a canal: Panama\"\n",
    "    # output: true\n",
    "    \n",
    "# 예제 2\n",
    "    # input: \"race a car\"\n",
    "    # output: false"
   ]
  },
  {
   "cell_type": "code",
   "execution_count": 5,
   "metadata": {},
   "outputs": [],
   "source": [
    "## 팰린드롬이란?\n",
    "## 앞뒤가 똑같은 단어나 문장으로, 뒤집어도 같은 말이 되는 단어 또는 문장을 말한다."
   ]
  },
  {
   "cell_type": "markdown",
   "metadata": {},
   "source": [
    "##### 풀이 1 리스트로 변환"
   ]
  },
  {
   "cell_type": "code",
   "execution_count": 6,
   "metadata": {},
   "outputs": [],
   "source": [
    "## 여기서는 직접 문자열을 입력 받아 판별한다.\n",
    "## 이 문제는 대소문자를 구분하지 않으며 영문자, 숫자만을 대상으로 한다."
   ]
  },
  {
   "cell_type": "code",
   "execution_count": 40,
   "metadata": {},
   "outputs": [],
   "source": [
    "## 전체 코드\n",
    "\n",
    "def isPalindrome(s: str) -> bool:\n",
    "    strs = []\n",
    "    for char in s:\n",
    "        if char.isalnum(): # 영문자, 숫자 여부 판별 함수\n",
    "            strs.append(char.lower()) # 소문자로 변경해주는 함수\n",
    "            \n",
    "    # 팰린드롬 여부 판별\n",
    "    while len(strs) > 1:\n",
    "        if strs.pop(0) != strs.pop():\n",
    "            return False\n",
    "        \n",
    "    return True"
   ]
  },
  {
   "cell_type": "code",
   "execution_count": 34,
   "metadata": {},
   "outputs": [],
   "source": [
    "import timeit"
   ]
  },
  {
   "cell_type": "code",
   "execution_count": 35,
   "metadata": {},
   "outputs": [],
   "source": [
    "s = \"race a car\"\n",
    "s_2 = \"A man, a plan, a canal: Panama\""
   ]
  },
  {
   "cell_type": "code",
   "execution_count": 41,
   "metadata": {},
   "outputs": [
    {
     "name": "stdout",
     "output_type": "stream",
     "text": [
      "False\n",
      "time:  0.00014109999938227702\n"
     ]
    }
   ],
   "source": [
    "start = timeit.default_timer()\n",
    "\n",
    "print(isPalindrome(s))\n",
    "\n",
    "print(\"time: \", timeit.default_timer() - start)"
   ]
  },
  {
   "cell_type": "code",
   "execution_count": 42,
   "metadata": {},
   "outputs": [
    {
     "name": "stdout",
     "output_type": "stream",
     "text": [
      "True\n",
      "time:  0.0001934000001710956\n"
     ]
    }
   ],
   "source": [
    "start = timeit.default_timer()\n",
    "\n",
    "print(isPalindrome(s_2))\n",
    "\n",
    "print(\"time: \", timeit.default_timer() - start)"
   ]
  },
  {
   "cell_type": "markdown",
   "metadata": {},
   "source": [
    "##### 풀이 2 Deque을 이용한 최적화"
   ]
  },
  {
   "cell_type": "code",
   "execution_count": 43,
   "metadata": {},
   "outputs": [],
   "source": [
    "## Deque를 이용하면 좀 더 속도를 높일 수 있다.\n",
    "\n",
    "import collections\n",
    "\n",
    "def isPalindrome(s: str) -> bool:\n",
    "    # 자료형 데크로 선언\n",
    "    strs: Deque = collections.deque()\n",
    "        \n",
    "    for char in s:\n",
    "        if char.isalnum():\n",
    "            strs.append(char.lower())\n",
    "            \n",
    "    while len(strs) > 1:\n",
    "        if strs.popleft() != strs.pop():\n",
    "            return False\n",
    "        \n",
    "    return True"
   ]
  },
  {
   "cell_type": "code",
   "execution_count": 44,
   "metadata": {},
   "outputs": [
    {
     "name": "stdout",
     "output_type": "stream",
     "text": [
      "False\n",
      "time:  0.00011960000028921058\n"
     ]
    }
   ],
   "source": [
    "start = timeit.default_timer()\n",
    "\n",
    "print(isPalindrome(s))\n",
    "\n",
    "print(\"time: \", timeit.default_timer() - start)"
   ]
  },
  {
   "cell_type": "code",
   "execution_count": 46,
   "metadata": {},
   "outputs": [
    {
     "name": "stdout",
     "output_type": "stream",
     "text": [
      "True\n",
      "time:  0.00012319999950705096\n"
     ]
    }
   ],
   "source": [
    "start = timeit.default_timer()\n",
    "\n",
    "print(isPalindrome(s_2))\n",
    "\n",
    "print(\"time: \", timeit.default_timer() - start)"
   ]
  },
  {
   "cell_type": "markdown",
   "metadata": {},
   "source": [
    "##### 풀이 3 슬라이싱 사용"
   ]
  },
  {
   "cell_type": "code",
   "execution_count": 47,
   "metadata": {},
   "outputs": [],
   "source": [
    "## 여기서는 별달리 알고리즘이라 부를 만한 게 없다. \n",
    "## 정규식으로 불필요한 문자를 필터링하고, 문자열을 조작할 수 있는 파이썬의 슬라이싱을 사용했다."
   ]
  },
  {
   "cell_type": "code",
   "execution_count": 48,
   "metadata": {},
   "outputs": [],
   "source": [
    "## 앞서 풀이에서는 isalnum()으로 모든 문자를 일일이 점검했다.\n",
    "## 여기서는 문자열 전체를 한 번에 영숫자만 걸러내도록 정규식으로 처리했다."
   ]
  },
  {
   "cell_type": "code",
   "execution_count": 49,
   "metadata": {},
   "outputs": [],
   "source": []
  },
  {
   "cell_type": "code",
   "execution_count": 52,
   "metadata": {},
   "outputs": [
    {
     "data": {
      "text/plain": [
       "'fruit box fruit tree'"
      ]
     },
     "execution_count": 52,
     "metadata": {},
     "output_type": "execute_result"
    }
   ],
   "source": [
    "## 문자열을 바꿀 때\n",
    "## re.sub('패턴', '바꿀문자열', '문자열', 바꿀횟수)\n",
    "\n",
    "import re\n",
    "\n",
    "re.sub('apple|orange', 'fruit', 'apple box orange tree') # apple 또는 orange를 fruit으로 바꿈"
   ]
  },
  {
   "cell_type": "code",
   "execution_count": 53,
   "metadata": {},
   "outputs": [
    {
     "data": {
      "text/plain": [
       "'n n Fizz n Buzz Fizz n n'"
      ]
     },
     "execution_count": 53,
     "metadata": {},
     "output_type": "execute_result"
    }
   ],
   "source": [
    "## 문자열에서 숫자만 찾아서 다른 문자로 바꿀 수 있다.\n",
    "\n",
    "re.sub('[0-9]+', 'n', '1 2 Fizz 4 Buzz Fizz 7 8')"
   ]
  },
  {
   "cell_type": "code",
   "execution_count": null,
   "metadata": {},
   "outputs": [],
   "source": []
  },
  {
   "cell_type": "code",
   "execution_count": 89,
   "metadata": {},
   "outputs": [],
   "source": [
    "## 정규 표현식 Regular Expression\n",
    "## 정규 표현식이란 특정한 규칙을 가진 문자열의 집합을 표현하는 데 사용하는 형식 언어이다.\n",
    "## 정규 표현식에서 대괄호안에 문자를 넣게 되면 그 문자열을 포함시키라는 의미이다.\n",
    "## [0-9]는 0부터 9까지 즉, [0123456789] == [0-9]가 되고 모든 숫자를 match시키라는 의미이다."
   ]
  },
  {
   "cell_type": "code",
   "execution_count": 58,
   "metadata": {},
   "outputs": [],
   "source": [
    "## [^0-9]에서 ^는 반대를 의미하므로 0-9가 들어간 문자열을 제외하라는 의미이다.\n",
    "## [a-z]\n",
    "## [^a-z]\n",
    "## [A-Z]\n",
    "## [^A-Z]\n",
    "## [a-z0-9A-Z]\n",
    "## [^a-z0-9A-Z] ## 대소문자 숫자 모두 제외\n",
    "## [a-k0-5A-F] ## 이런 식으로도 사용할 수 있다."
   ]
  },
  {
   "cell_type": "code",
   "execution_count": 59,
   "metadata": {},
   "outputs": [],
   "source": [
    "def isPalindrome(s: str) -> bool:\n",
    "    s = s.lower()\n",
    "    # 정규식으로 불필요한 문자 필터링\n",
    "    s = re.sub('[^a-z0-9]', '', s)\n",
    "    \n",
    "    return s == s[::-1]    ## 슬라이싱 : 인덱스 처음부터 끝까지 -1 step씩 == 리스트 역순으로 뒤집음"
   ]
  },
  {
   "cell_type": "code",
   "execution_count": 60,
   "metadata": {},
   "outputs": [
    {
     "data": {
      "text/plain": [
       "False"
      ]
     },
     "execution_count": 60,
     "metadata": {},
     "output_type": "execute_result"
    }
   ],
   "source": [
    "isPalindrome(s)"
   ]
  },
  {
   "cell_type": "code",
   "execution_count": 61,
   "metadata": {},
   "outputs": [
    {
     "data": {
      "text/plain": [
       "True"
      ]
     },
     "execution_count": 61,
     "metadata": {},
     "output_type": "execute_result"
    }
   ],
   "source": [
    "isPalindrome(s_2)"
   ]
  },
  {
   "cell_type": "markdown",
   "metadata": {},
   "source": [
    "##### 풀이  4 C 구현"
   ]
  },
  {
   "cell_type": "code",
   "execution_count": 64,
   "metadata": {},
   "outputs": [],
   "source": [
    "# bool isPalindrome(char * s){\n",
    "#     int bias_left = 0;\n",
    "#     int bias_right = 1;\n",
    "    \n",
    "#     int str_len = strlen(s);\n",
    "    \n",
    "#     for(int i = 0; i < str_len; i++){\n",
    "    \n",
    "#         while(!isalnum(s[i + bias_left])){\n",
    "#             bias_left++;\n",
    "#             if(i + bias_left == str_len)\n",
    "#                 return true;\n",
    "#         }\n",
    "        \n",
    "#         while(!isalnum(s[str_len - i - bias_right])){\n",
    "#             bias_right++;\n",
    "#         }\n",
    "        \n",
    "#         if(i + bias_left >= str_len - i - bias_right)\n",
    "#             break;\n",
    "            \n",
    "#         // 팰린드롬 비교\n",
    "#         if(tolower(s[i + bias_left]) != tolower(s[str_len - i - bias_right]))\n",
    "#             return false;\n",
    "#     }\n",
    "    \n",
    "#     return true;\n",
    "# }"
   ]
  },
  {
   "cell_type": "code",
   "execution_count": 65,
   "metadata": {},
   "outputs": [],
   "source": [
    "## **** 참고 ****\n",
    "\n",
    "    ## 문자열 '안녕하세요'를 슬라이싱 해보는 예제\n",
    "    \n",
    "        ## S[1:4] == 녕하세\n",
    "        ## S[1:-2] == 녕하\n",
    "        ## S[1:] == 녕하세요\n",
    "        ## S[:] == 안녕하세요\n",
    "        ## S[1:100] == 녕하세요\n",
    "        ## S[-1] == 요\n",
    "        ## S[-4] == 녕\n",
    "        ## S[:-3] == 안녕\n",
    "        ## S[-3:] == 하세요\n",
    "        ## S[::1] == 안녕하세요\n",
    "        ## S[::-1] == 요세하녕안\n",
    "        ## S[::2] == 안하요"
   ]
  },
  {
   "cell_type": "markdown",
   "metadata": {},
   "source": [
    "# 2. 문자열 뒤집기"
   ]
  },
  {
   "cell_type": "markdown",
   "metadata": {},
   "source": [
    "### LeetCode 344. Reverse String"
   ]
  },
  {
   "cell_type": "markdown",
   "metadata": {},
   "source": [
    "##### 문자열을 뒤집는 함수를 작성하라. 입력값은 문자 배열이며, 리턴 없이 리스트 내부를 직접 조작하라."
   ]
  },
  {
   "cell_type": "code",
   "execution_count": 66,
   "metadata": {},
   "outputs": [],
   "source": [
    "## 예제 1\n",
    "    ## input : [\"h\", \"e\", \"l\", \"l\", \"o\"]\n",
    "    ## output : [\"o\", \"l\", \"l\", \"e\", \"h\"]\n",
    "    \n",
    "## 예제 2\n",
    "    ## input : [\"H\", \"a\", \"n\", \"n\", \"a\", \"h\"]\n",
    "    ## output : [\"h\", \"a\", \"n\", \"n\", \"a\", \"H\"]"
   ]
  },
  {
   "cell_type": "markdown",
   "metadata": {},
   "source": [
    "##### 풀이 1 투 포인터를 이용한 스왑"
   ]
  },
  {
   "cell_type": "code",
   "execution_count": 67,
   "metadata": {},
   "outputs": [],
   "source": [
    "## 두 개의 포인터를 이용해 범위를 조정해가며 풀이하는 방식"
   ]
  },
  {
   "cell_type": "code",
   "execution_count": 69,
   "metadata": {},
   "outputs": [],
   "source": [
    "from typing import List\n",
    "\n",
    "def reverseString(s: List[str]) -> None:\n",
    "    left, right = 0, len(s) - 1\n",
    "    while left < right:\n",
    "        s[left], s[right] = s[right], s[left]\n",
    "        left += 1\n",
    "        right -= 1"
   ]
  },
  {
   "cell_type": "markdown",
   "metadata": {},
   "source": [
    "##### 풀이 2 파이썬다운 방식"
   ]
  },
  {
   "cell_type": "code",
   "execution_count": 70,
   "metadata": {},
   "outputs": [],
   "source": [
    "## 이 문제는 파이썬의 기본 기능을 이용하면 단 한 줄로 쉽게 풀이할 수 있다.\n",
    "## 이러한 방식들을 흔히 Pythonic way 라 부른다.\n",
    "## 입력값이 리스트로 제공되므로 reverse() 함수를 이용하면 뒤집을 수 있다."
   ]
  },
  {
   "cell_type": "code",
   "execution_count": 71,
   "metadata": {},
   "outputs": [],
   "source": [
    "def reverseString(s: List[str]) -> None:\n",
    "    s.reverse()"
   ]
  },
  {
   "cell_type": "code",
   "execution_count": 72,
   "metadata": {},
   "outputs": [],
   "source": [
    "## reverse()는 리스트에만 제공된다. 만약 입력값이 문자열이라면 문자열 슬라이싱을 사용할 수 있다.\n",
    "## s = s[::-1]\n",
    "## 그러나 leetcode에서는 오루가 발생한다. 원래는 [::-1]도 정상적으로 처리되어야 하지만 \n",
    "## 이 문제의 경우 처리되지 않는데, 공간 복잡도를 O(1)로 제한하다 보니 변수 할당을 처리하는데\n",
    "## 다소 제약이 있다. 이때는 다음과 같은 트릭을 사용하면 잘 동작한다.\n",
    "## s[:] = s[::-1]\n",
    "## 이런 트릭은 쉽게 알아내기 어려우며, 실제 코딩 테스트 시에도 이 같은 문제가 발생하면\n",
    "## 디버깅에 상당히 애를 먹을 수 있으므로 플랫폼의 특징에 대해 충분한 숙지가 필요하다."
   ]
  },
  {
   "cell_type": "markdown",
   "metadata": {},
   "source": [
    "# 3. 로그파일 재정렬"
   ]
  },
  {
   "cell_type": "markdown",
   "metadata": {},
   "source": [
    "### LeetCode 937. Reorder Log Files"
   ]
  },
  {
   "cell_type": "markdown",
   "metadata": {},
   "source": [
    "#### 로그를 재정렬하라. 기준은 다음과 같다.\n",
    "\n",
    "#####         - 1. 로그의 가장 앞 부분은 식별자다\n",
    "#####         - 2. 문자로 구성된 로그가 숫자 로그보다 앞에 온다.\n",
    "#####         - 3. 식별자는 순서에 영향을 끼치지 않지만, 문자가 동일한 경우 식별자 순으로 한다.\n",
    "#####         - 4. 숫자 로그는 입력 순서대로 한다."
   ]
  },
  {
   "cell_type": "markdown",
   "metadata": {},
   "source": [
    "##### 풀이 1 람다와  +연산자를 이용"
   ]
  },
  {
   "cell_type": "code",
   "execution_count": 77,
   "metadata": {},
   "outputs": [],
   "source": [
    "## 예제 1\n",
    "    ## input : logs = [\"dig1 8 1 5 1\", \"let1 art can\", \"dig2 3 6\", \"let2 own kit dig\", \"let3 art zero\"]\n",
    "    ## output : [\"let1 art can\", \"let3 art zero\", \"let2 own kit dig\", \"dig1 8 1 5 1\", \"dig2 3 6\"]"
   ]
  },
  {
   "cell_type": "code",
   "execution_count": 83,
   "metadata": {},
   "outputs": [],
   "source": [
    "def reoderLogFiles(logs: List[str]) -> List[str]:\n",
    "    letters, digits = [], []\n",
    "    for log in logs:\n",
    "        if log.split()[1].isdigit():\n",
    "            digits.append(log)\n",
    "        else:\n",
    "            letters.append(log)\n",
    "    \n",
    "    # 2개의 키를 람다 표현식으로 정렬\n",
    "    letters.sort(key=lambda x: (x.split()[1:], x.split()[0]))\n",
    "    return letters + digits"
   ]
  },
  {
   "cell_type": "code",
   "execution_count": 84,
   "metadata": {},
   "outputs": [],
   "source": [
    "## **** 람다 표현식 ****\n",
    "    \n",
    "    ## 람다 표현식이란 식별자 없이 실행 가능한 함수를 말하며, 함수 선언 없이도 하나의 식으로 \n",
    "    ## 함수를 단순하게 표현할 수 있다. \n",
    "    ## 그러나 이 책에서는 람다 표현식보다 훨씬 더 간결하고 가독성이 높은 리스트 컴프리헨션을\n",
    "    ## 주로 사용할 것이다. 그러나 람다로 풀이하는 게 더 편할 경우에 한해 일부 사용할 것이다.\n",
    "    \n",
    "    ## s = ['2 A', '1 B', '4 C', '1 A']\n",
    "    ## sorted(s)\n",
    "    ## ['1 A', '1 B', '2 A', '4 C']\n",
    "    \n",
    "    ## 그러나 우리가 원하는 결과는 각 요소의 번호 순 정렬이 아니라 문자 순 정렬이며, \n",
    "    ## 문자가 동일한 경우에만 그 앞 번호순으로 정렬되는 형태를 희망한다.\n",
    "    ## 이때 리스트의 각 요소를 풀어서 별도 처리를 해줘야 하는데, 이때 람다 표현식을 사용할 수 있다.\n",
    "    ## 만약 람다 표현식을 사용하지 않고 직접 함수를 선언하면 다음과 같은 형태가 된다.\n",
    "    \n",
    "    ## def func(x):\n",
    "    ##     return x.split()[1], x.split()[0]\n",
    "    \n",
    "    ## s.sort(key=func)\n",
    "    ## ['1 A', '2 A', '1 B', '4 C']\n",
    "    \n",
    "    ## 이제 람다 표현식을 사용하면, 다음과 같이 처리할 수 있다.\n",
    "    \n",
    "    ## s.sort(key=lambda x: (x.split()[1], x.split()[0]))\n",
    "    ## ['1 A', '2 A', '1 B', '4 C']\n",
    "    \n",
    "    ## 그러나 람다 표현식은 코드가 길어지고 map이나 filter와 함께 섞어서 사용하기 시작하면 가독성이 매우 떨어질 수 있다."
   ]
  },
  {
   "cell_type": "code",
   "execution_count": 74,
   "metadata": {},
   "outputs": [],
   "source": [
    "## 요구 조건을 얼마나 깔끔하게 처리할 수 있는지를 묻는 문제이다.\n",
    "## 실무에서도 이 같은 로직은 자주 쓰이는 만큼 매우 실용적인 문제로 볼 수 있다."
   ]
  },
  {
   "cell_type": "code",
   "execution_count": 85,
   "metadata": {},
   "outputs": [],
   "source": [
    "## 먼저 문자로 구성된 로그가 숫자 로그보다 이전에 오며, 숫자 로그는 입력 순서대로 둔다.\n",
    "## 그렇다면 문자와 숫자를 구분하고, 숫자는 나중에 그대로 이어 붙인다.\n",
    "## 로그 자체는 숫자 로그도 모두 문자열로 지정되어 있으므로, 타입을 확인하면 모두 문자로 출력된다.\n",
    "## 따라서 isdigit()을 이용해서 숫자 여부인지를 판별해 구분해본다."
   ]
  },
  {
   "cell_type": "markdown",
   "metadata": {},
   "source": [
    "# 4. 가장 흔한 단어"
   ]
  },
  {
   "cell_type": "markdown",
   "metadata": {},
   "source": [
    "### LeetCode 819. Most Common Word"
   ]
  },
  {
   "cell_type": "markdown",
   "metadata": {},
   "source": [
    "##### 금지된 단어를 제외한 가장 흔하게 등장하는 단어를 출력하라. 대소문자 구분을 하지 않으며, 구두점(마침표, 쉼표 등) 또한 무시한다."
   ]
  },
  {
   "cell_type": "code",
   "execution_count": 87,
   "metadata": {},
   "outputs": [],
   "source": [
    "## 예제 1\n",
    "    ## input : paragraph = \"Bob hit a ball, the hit BALL flew far after it was hit.\"\n",
    "    ##         banned = [\"hit\"]\n",
    "    ## output: \"ball\""
   ]
  },
  {
   "cell_type": "markdown",
   "metadata": {},
   "source": [
    "##### 풀이 1 리스트 컴프리헨션, Counter 객체 사용"
   ]
  },
  {
   "cell_type": "code",
   "execution_count": 90,
   "metadata": {},
   "outputs": [],
   "source": [
    "## 입력값에는 대소문자가 섞여 있으며 쉼표 등 구두점이 존재한다.\n",
    "## 따라서 데이터 클렌징이라 부르는 입력값에 대한 전처리 작업이 필요하다."
   ]
  },
  {
   "cell_type": "code",
   "execution_count": 91,
   "metadata": {},
   "outputs": [],
   "source": [
    "## 편하게 처리하기 위해 정규식을 섞어 쓸 수 있다.\n",
    "## 정규 표현식이란 특정한 규칙을 가진 문자열의 집합을 표현하는 데 사용하는 형식 언어이다.\n",
    "\n",
    "## Meta characters, 메타 문자는 문자가 가진 원래의 의미가 아닌 특별한 용도로 사용되는 문자를 말한다.\n",
    "## 정규 표현식에서 사용되는 메타 문자는 다음과 같다.\n",
    "\n",
    "## ^ $ . * + ? \\ | ( ) { } [ ] \n",
    "\n",
    "## 정규 표현식에서 대괄호는 대괄호 안에 포함된 문자들 중 하나와 매치를 뜻한다.\n",
    "## 자주 사용하는 문자 클래스\n",
    "## \\d : 숫자 [0-9]와 같다\n",
    "## \\D : 비숫자 [^0-9]와 같다\n",
    "## \\w : 숫자 + 문자 [a-zA-Z0-9]와 같다\n",
    "## \\W : 비숫자 + 비문자 [^a-zA-Z0-9]와 같다\n",
    "## \\s : 공백 [\\t\\n\\r\\f\\v]와 같다.\n",
    "## \\S : 비공백 [^\\t\\n\\r\\f\\v]와 같다.\n",
    "\n",
    "## 파이썬 정규 표현식 모듈\n",
    "## import re\n",
    "\n",
    "## raw string\n",
    "## 문자열 앞에 r이 붙으면 해당 문자열이 구성된 그대로의 문자열로 반환\n",
    "## a = 'abcdef\\n'\n",
    "## print(a)\n",
    "## abcdef\n",
    "## b = 'abcedf\\n'\n",
    "## print(b)\n",
    "## abcdef\\n\n",
    "\n"
   ]
  },
  {
   "cell_type": "code",
   "execution_count": 109,
   "metadata": {},
   "outputs": [],
   "source": [
    "import collections\n",
    "\n",
    "def mostCommonWord(paragraph: str, banned: List[str]) -> str:\n",
    "    # 문자와 숫자가 아닌 것 공백으로 치환하고, 소문자로 변경, 그리고 banned에 포함되지 않는 단어 스플릿해서 리스트에 담는다\n",
    "    words = [word for word in re.sub(r'[^\\w]', ' ', paragraph).lower().split() if word not in banned]\n",
    "    \n",
    "    counts = collections.Counter(words)\n",
    "    #print(counts)\n",
    "    # 가장 흔하게 등장하는 단어의 첫 번째 인덱스 리턴\n",
    "    return counts.most_common(1)[0][0]"
   ]
  },
  {
   "cell_type": "code",
   "execution_count": 93,
   "metadata": {},
   "outputs": [],
   "source": [
    "paragraph = \"Bob hit a ball, the hit BALL flew far after it was hit.\"\n",
    "banned = [\"hit\"]"
   ]
  },
  {
   "cell_type": "code",
   "execution_count": 108,
   "metadata": {},
   "outputs": [
    {
     "data": {
      "text/plain": [
       "'ball'"
      ]
     },
     "execution_count": 108,
     "metadata": {},
     "output_type": "execute_result"
    }
   ],
   "source": [
    "mostCommonWord(paragraph, banned)"
   ]
  },
  {
   "cell_type": "markdown",
   "metadata": {},
   "source": [
    "# 5. 그룹 애너그램"
   ]
  },
  {
   "cell_type": "markdown",
   "metadata": {},
   "source": [
    "### LeetCode 49. Group Anagrams"
   ]
  },
  {
   "cell_type": "markdown",
   "metadata": {},
   "source": [
    "##### 문자열 배열을 받아 애너그램 단위로 그룹핑하라."
   ]
  },
  {
   "cell_type": "code",
   "execution_count": 110,
   "metadata": {},
   "outputs": [],
   "source": [
    "## 예제 1\n",
    "    ## input : [\"eat\", \"tea\", \"tan\", \"ate\", \"nat\", \"bat\"]\n",
    "    ## output : [\n",
    "    ##              [\"ate\", \"eat\", \"tea\"],\n",
    "    ##             [\"nat\", \"tan\"],\n",
    "    ##            [\"bat\"]\n",
    "    ##          ]"
   ]
  },
  {
   "cell_type": "code",
   "execution_count": 112,
   "metadata": {},
   "outputs": [],
   "source": [
    "## **** 참고 ****\n",
    "    ## 애너그램이란 일종의 언어유희로 문자를 재배열하여 다른 뜻을 가진 단어로 바꾸는 것을 말한다."
   ]
  },
  {
   "cell_type": "markdown",
   "metadata": {},
   "source": [
    "##### 풀이 1 정렬하여 딕셔너리에 추가"
   ]
  },
  {
   "cell_type": "code",
   "execution_count": 114,
   "metadata": {},
   "outputs": [],
   "source": [
    "## 애너그램을 판단하는 가장 간단한 방법은 정렬하여 비교하는 것이다.\n",
    "## 애너그램 관계인 단어들을 정렬하면, 서로 같은 값을 갖게 되기 때문이다."
   ]
  },
  {
   "cell_type": "code",
   "execution_count": 158,
   "metadata": {},
   "outputs": [],
   "source": [
    "def groupAnagrams(strs: List[str]) -> List[List[str]]:\n",
    "    anagrams = collections.defaultdict(list)\n",
    "    \n",
    "    for word in strs:\n",
    "        # 정렬하여 딕셔너리에 추가\n",
    "        anagrams[''.join(sorted(word))].append(word)\n",
    "    return anagrams.values()"
   ]
  },
  {
   "cell_type": "markdown",
   "metadata": {},
   "source": [
    "# 여러 가지 정렬 방법"
   ]
  },
  {
   "cell_type": "code",
   "execution_count": 159,
   "metadata": {},
   "outputs": [],
   "source": [
    "## 파이썬은 정렬 함수를 기본으로 제공한다. \n",
    "## 여기서는 정렬 알고리즘 자체보다는 파이썬 정렬 함수의 기능과 관련한 내용을 간단히 다룬다."
   ]
  },
  {
   "cell_type": "code",
   "execution_count": 160,
   "metadata": {},
   "outputs": [
    {
     "data": {
      "text/plain": [
       "[1, 2, 5, 7, 9]"
      ]
     },
     "execution_count": 160,
     "metadata": {},
     "output_type": "execute_result"
    }
   ],
   "source": [
    "a = [2, 5, 1, 9, 7]\n",
    "sorted(a)"
   ]
  },
  {
   "cell_type": "code",
   "execution_count": 161,
   "metadata": {},
   "outputs": [],
   "source": [
    "## 당연하게도 이처럼 리스트를 잘 정렬하며, 비단 숫자뿐만 아니라 문자도 정렬이 가능하다."
   ]
  },
  {
   "cell_type": "code",
   "execution_count": 162,
   "metadata": {},
   "outputs": [
    {
     "data": {
      "text/plain": [
       "['a', 'b', 'd', 'f', 'z']"
      ]
     },
     "execution_count": 162,
     "metadata": {},
     "output_type": "execute_result"
    }
   ],
   "source": [
    "b = 'zbdaf'\n",
    "sorted(b)"
   ]
  },
  {
   "cell_type": "code",
   "execution_count": 163,
   "metadata": {},
   "outputs": [],
   "source": [
    "## 문자열을 알파벳 순서대로 정렬한 리스트를 결과로 리턴한다.\n",
    "## 다시 문자열로 결합하려면 다음과 같이 join()을 이용하면 된다."
   ]
  },
  {
   "cell_type": "code",
   "execution_count": 164,
   "metadata": {},
   "outputs": [
    {
     "data": {
      "text/plain": [
       "'abdfz'"
      ]
     },
     "execution_count": 164,
     "metadata": {},
     "output_type": "execute_result"
    }
   ],
   "source": [
    "\"\".join(sorted(b))"
   ]
  },
  {
   "cell_type": "code",
   "execution_count": 165,
   "metadata": {},
   "outputs": [],
   "source": [
    "## sorted()라는 별도 함수 외에도 리스트 자료형은 sort() 메소드를 함께 제공하며, 리스트 자체를 정렬할 수 있다.\n",
    "## 이를 제자리 정렬(In-place Sort)이라고 부르는데, 일반적으로 제자리 정렬 알고리즘은\n",
    "## 입력을 출력으로 덮어 쓰기 때문에 별도의 추가 공간이 필요하지 않으며,\n",
    "## 리턴값이 없다. 따라서 정렬 결과를 별도로 리턴하는 sorted()와 다르므로 주의가 필요하다."
   ]
  },
  {
   "cell_type": "code",
   "execution_count": 166,
   "metadata": {},
   "outputs": [],
   "source": [
    "## alist.sort() \n",
    "## sort()는 리스트 자체를 제자리 정렬\n",
    "## alist = blist.sort() --> 잘못된 구문, sort()는 None을 리턴하므로 주의 필요"
   ]
  },
  {
   "cell_type": "code",
   "execution_count": 167,
   "metadata": {},
   "outputs": [],
   "source": [
    "## sorted()는 또한 key= 옵션을 지정해 정렬을 위한 키 또는 함수를 별도로 지정할 수 있다."
   ]
  },
  {
   "cell_type": "code",
   "execution_count": 169,
   "metadata": {},
   "outputs": [
    {
     "data": {
      "text/plain": [
       "['d', 'bb', 'ccc', 'aaaa']"
      ]
     },
     "execution_count": 169,
     "metadata": {},
     "output_type": "execute_result"
    }
   ],
   "source": [
    "## 정렬을 휘한 함수로 길이를 구하는 len 함수를 지정한 경우\n",
    "\n",
    "c = ['ccc', 'aaaa', 'd', 'bb']\n",
    "sorted(c, key=len)"
   ]
  },
  {
   "cell_type": "code",
   "execution_count": 170,
   "metadata": {},
   "outputs": [],
   "source": [
    "## 이 경우 알파벳 순서가 아닌 문자열의 길이 순서로 정렬된다."
   ]
  },
  {
   "cell_type": "code",
   "execution_count": 171,
   "metadata": {},
   "outputs": [],
   "source": [
    "## 다음은 함수를 이용해 첫 문자열과 마지막 문자열 순으로 정렬하도록 지정했다."
   ]
  },
  {
   "cell_type": "code",
   "execution_count": 172,
   "metadata": {},
   "outputs": [
    {
     "name": "stdout",
     "output_type": "stream",
     "text": [
      "['abc', 'cfc', 'cde']\n"
     ]
    }
   ],
   "source": [
    "a = ['cde', 'cfc', 'abc']\n",
    "\n",
    "def fn(s):\n",
    "    return s[0], s[-1]\n",
    "\n",
    "print(sorted(a, key=fn))"
   ]
  },
  {
   "cell_type": "code",
   "execution_count": 173,
   "metadata": {},
   "outputs": [],
   "source": [
    "## 만약 그냥 sorted()로 처리했다면 c가 동일해 다음 문자열인 d와 f를 비교해 \n",
    "## ['abc', 'cde', 'cfc'] 순으로 출력됐을 것이다."
   ]
  },
  {
   "cell_type": "code",
   "execution_count": 174,
   "metadata": {},
   "outputs": [],
   "source": [
    "## 다음과 같이 람다 표현식을 이용하면 함수를 별도로 정의하지 않고 한 줄로 처리할 수 있다."
   ]
  },
  {
   "cell_type": "code",
   "execution_count": 175,
   "metadata": {},
   "outputs": [
    {
     "data": {
      "text/plain": [
       "['abc', 'cfc', 'cde']"
      ]
     },
     "execution_count": 175,
     "metadata": {},
     "output_type": "execute_result"
    }
   ],
   "source": [
    "a = ['cde', 'cfc', 'abc']\n",
    "\n",
    "sorted(a, key=lambda s: (s[0], s[-1]))"
   ]
  },
  {
   "cell_type": "markdown",
   "metadata": {},
   "source": [
    "# 6. 가장 긴 팰린드롬 부분 문자열"
   ]
  },
  {
   "cell_type": "markdown",
   "metadata": {},
   "source": [
    "### LeetCode 5. Longest Palindrome Substring"
   ]
  },
  {
   "cell_type": "markdown",
   "metadata": {},
   "source": [
    "##### 가장 긴 팰린드롬 부분 문자열을 출력하라"
   ]
  },
  {
   "cell_type": "code",
   "execution_count": 176,
   "metadata": {},
   "outputs": [],
   "source": [
    "## 예제 1\n",
    "    ## input : \"babad\"\n",
    "    ## output: \"bab\"\n",
    "    \n",
    "## 예제 2\n",
    "    ## input : \"cbbd\"\n",
    "    ## output : \"bb\"\n"
   ]
  },
  {
   "cell_type": "code",
   "execution_count": 181,
   "metadata": {},
   "outputs": [],
   "source": [
    "## 컴퓨터과학의 오랜 문제 중에 '최장 공통 부분 문자열(Longest Common Substring)'이라는 문제가 있다.\n",
    "## 여러 개의 입력 문자열이 있을 때 서로 공통된 가장 긴 부분 문자열을 찾는 문제로\n",
    "## 다이내믹 프로그래밍으로 풀 수 있는 전형적인 문제다\n",
    "## 이 문제 또한 동일한 유형의 문제로서, 다이내믹 프로그래밍으로 풀 수 있다.\n",
    "## 그러나 이 문제의 경우 일반적인 예상과는 달리 실행 속도가 늦다.\n",
    "## 따라서 여기서는 좀 더 직관적이면서도 훨씬 더 성능이 좋은\n",
    "## 투 포인터가 중앙을 중심으로 확장하는 형태로 풀이한다."
   ]
  },
  {
   "cell_type": "code",
   "execution_count": 182,
   "metadata": {},
   "outputs": [],
   "source": [
    "def longestPalindrome(s: str) -> str:\n",
    "    # 팰린드롬 판별 및 투 포인터 확장\n",
    "    def expand(left: int, right: int) -> str:\n",
    "        while left >= 0 and right <= len(s) and s[left] == s[right-1]:\n",
    "            left -= 1\n",
    "            right += 1\n",
    "        return s[left + 1:right-1]\n",
    "    \n",
    "    # 해당 사항이 없을 때 빠르게 리턴\n",
    "    if len(s) < 2 or s == s[::-1]:\n",
    "        return s\n",
    "    \n",
    "    result = ''\n",
    "    # 슬라이딩 윈도우 우측으로 이동\n",
    "    ## 홀수(3칸), 짝수(2칸)의 2개의 포인터\n",
    "    for i in range(len(s) - 1):\n",
    "        result = max(result, expand(i, i + 1), expand(i, i + 2), key=len)\n",
    "        \n",
    "    return result"
   ]
  },
  {
   "cell_type": "code",
   "execution_count": 183,
   "metadata": {},
   "outputs": [
    {
     "data": {
      "text/plain": [
       "'bab'"
      ]
     },
     "execution_count": 183,
     "metadata": {},
     "output_type": "execute_result"
    }
   ],
   "source": [
    "strs = \"babad\"\n",
    "\n",
    "longestPalindrome(strs)"
   ]
  },
  {
   "cell_type": "markdown",
   "metadata": {},
   "source": [
    "# 유니코드와 UTF-8"
   ]
  },
  {
   "cell_type": "code",
   "execution_count": 177,
   "metadata": {},
   "outputs": [],
   "source": [
    "## 초기에 문자를 표현하던 대표적인 방식은 ASCII 인코딩 방식으로 \n",
    "## 1 byte에 모든 문자를 표현했다.\n",
    "## 게다가 1 bit는 checksum으로 제외하여 7 bit, 즉 128글자로 문자를 표현했다.\n",
    "## 그러다 보니 한글이나 한자 같은 문자는 2개 이상의 특수 문자를 합쳐서 표현하곤 했는데\n",
    "## 이러한 방식은 비정상적이며, 경우에 따라서는 깨지거나 제대로 표현되지 않는 경우가 잦았다."
   ]
  },
  {
   "cell_type": "code",
   "execution_count": 178,
   "metadata": {},
   "outputs": [],
   "source": [
    "## 이런 문제를 해결하기 위해 2~4 byte의 공간에 여유 있게 문자를 할당하고자 등장한 방식이 바로 유니코드다.\n",
    "## 그러나 유니코드 자체는 1 byte로 표현이 가능한 영문자도 2 byte 이상의 공간을 사용하기 때문에\n",
    "## 메모리 낭비가 심하고 따라서 이를 가변 길이 문자 인코딩 방식으로 효율적으로 인코딩하는 \n",
    "## 대표적인 방식이 바로 우리가 잘 아는 UTF-8이다. "
   ]
  },
  {
   "cell_type": "code",
   "execution_count": 180,
   "metadata": {},
   "outputs": [],
   "source": [
    "## 만약 모든 문자를 4 byte로 표현한다면 python이라는 영문자열은 24 byte의 메모리를 차지하게 된다.\n",
    "## 영문자는 ASCII 코드로도 충분히 표현이 가능하기 때문에 각 문자당 1 byte로 충분한데,\n",
    "## 사실상 문자당 3 byte씩 낭비되고 있는 것이다.\n",
    "## 이런 문제를 해결하기 위한 여러가지 가변 인코딩 방식이 등장했고 그중 가장 유명한 방식이 바로 UTF-8이다."
   ]
  },
  {
   "cell_type": "code",
   "execution_count": null,
   "metadata": {},
   "outputs": [],
   "source": []
  }
 ],
 "metadata": {
  "kernelspec": {
   "display_name": "Python 3",
   "language": "python",
   "name": "python3"
  },
  "language_info": {
   "codemirror_mode": {
    "name": "ipython",
    "version": 3
   },
   "file_extension": ".py",
   "mimetype": "text/x-python",
   "name": "python",
   "nbconvert_exporter": "python",
   "pygments_lexer": "ipython3",
   "version": "3.8.3"
  }
 },
 "nbformat": 4,
 "nbformat_minor": 4
}
