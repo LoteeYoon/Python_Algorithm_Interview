{
 "cells": [
  {
   "cell_type": "code",
   "execution_count": 4,
   "metadata": {},
   "outputs": [],
   "source": [
    "## 자료구조는 크게 메모리 공간 기반의 continuous 방식과 포인터 기반의 link 방식으로 나뉜다.\n",
    "## 배열은 이 중에서 continuous 방식의 가장 기본이 되는 자료형이다.\n",
    "## ADT의 실제 구현 대부분은 배열 또는 연결 리스트를 기반으로 한다."
   ]
  },
  {
   "cell_type": "code",
   "execution_count": 5,
   "metadata": {},
   "outputs": [],
   "source": [
    "## 메모리에 대한 접근은 바이트 단위로 한다. 따라서 가리키는 주소는 1 바이트마다 1씩 증가한다."
   ]
  },
  {
   "cell_type": "code",
   "execution_count": 6,
   "metadata": {},
   "outputs": [],
   "source": [
    "## 배열은 어느 위치에나 O(1)에 조회가 가능하다는 장점이 있다."
   ]
  },
  {
   "cell_type": "code",
   "execution_count": 7,
   "metadata": {},
   "outputs": [],
   "source": [
    "## **** 참고 ****\n",
    "    ## 메모리와 포인터\n",
    "        ## 32비트 머신의 포인터는 32 비트이며, 64비트 머신의 포인터는 64비트다. \n",
    "        ## 포인터는 메모리 영역을 1 바이트 단위로 가리키는 주소이다."
   ]
  },
  {
   "cell_type": "code",
   "execution_count": 8,
   "metadata": {},
   "outputs": [],
   "source": [
    "## 배열이란 고정된 크기만큼의 연속된 메모리 할당이다.\n",
    "## 그렇다면 미리 크기를 지정하지 않고 자동으로 조정할 수 있다면 좋지 않을까?\n",
    "## 이러한 고민을 해결하고자 크기를 지정하지 않고 자동으로 리사이징하는 배열인 동적 배열이 등장했다.\n",
    "## 파이썬에서는 정적 배열은 따로 제공하지 않으며 동적 배열인 리스트만 제공한다."
   ]
  },
  {
   "cell_type": "code",
   "execution_count": 9,
   "metadata": {},
   "outputs": [],
   "source": [
    "## 동적 배열의 원리는 미리 초깃값을 작게 잡아 배열을 생성하고, \n",
    "## 꽉 차면, 늘려주고 모두 복사하는 식이다.\n",
    "## 동적 배열은 정적 배열과 달리 크기를 지정할 필요가 없어 매우 편리하게 활용할 수 있으며\n",
    "## 조회 또한 기존의 배열과 동일하게 O(1)에 가능하다. \n",
    "## 그러나 더블링이 일어나면 새로운 메모리 공간에 더 큰 크기의 배열을 할당하고\n",
    "## 기존 데이터를 복사하는 작업이 필요하므로 O(n)의 비용이 발생한다.\n",
    "## 최악의 경우 삽입 시 O(n)이 되지만 자주 일어나지 않으므로\n",
    "## 분할 상환 분석(Amortized Analysis)에 따르면 여전히 O(1)이다."
   ]
  },
  {
   "cell_type": "markdown",
   "metadata": {},
   "source": [
    "# 7. 두 수의 합"
   ]
  },
  {
   "cell_type": "markdown",
   "metadata": {},
   "source": [
    "### LeetCode 1. Two Sum"
   ]
  },
  {
   "cell_type": "markdown",
   "metadata": {},
   "source": [
    "##### 덧셈하여 타겟을 만들 수 있는 배열의 두 숫자 인덱스를 리턴하라."
   ]
  },
  {
   "cell_type": "code",
   "execution_count": 10,
   "metadata": {},
   "outputs": [],
   "source": [
    "## 예제 1\n",
    "    ## input : [2, 7, 11, 15], target = 9\n",
    "    ## output : [0, 1]"
   ]
  },
  {
   "cell_type": "markdown",
   "metadata": {},
   "source": [
    "##### 풀이 1 브루트포스로 계산"
   ]
  },
  {
   "cell_type": "code",
   "execution_count": 11,
   "metadata": {},
   "outputs": [],
   "source": [
    "## 이 문제는 매우 쉽다. 그러나 최적화할 수 있는 여러 가지 방법이 숨어 있어서,\n",
    "## 코딩 인터뷰 시 높은 빈도로 출제되는 문제다."
   ]
  },
  {
   "cell_type": "code",
   "execution_count": 12,
   "metadata": {},
   "outputs": [],
   "source": [
    "## 배열을 2번 반복하면서 모든 조합을 더해서 일일이 확인해보는 브루트 포스 방법이 있다."
   ]
  },
  {
   "cell_type": "code",
   "execution_count": 13,
   "metadata": {},
   "outputs": [],
   "source": [
    "from typing import List\n",
    "\n",
    "def twoSum(nums: List[int], target: int) -> List[int]:\n",
    "    for i in range(len(nums)):  ## O(n)\n",
    "        for j in range(i + 1, len(nums)):  ## O(n)\n",
    "            if nums[i] + nums[j] == target:\n",
    "                return [i, j]"
   ]
  },
  {
   "cell_type": "code",
   "execution_count": 14,
   "metadata": {},
   "outputs": [],
   "source": [
    "## 이 경우 풀이 시간 복잡도는 O(n^2)이다. \n",
    "## 문제가 풀리기는 하지만 브루트 포스 방식은 지나치게 느리다\n",
    "## 좀 더 최적화할 수 있는 방안을 고민해야 한다."
   ]
  },
  {
   "cell_type": "markdown",
   "metadata": {},
   "source": [
    "##### 풀이 2 in을 이용한 방식"
   ]
  },
  {
   "cell_type": "code",
   "execution_count": 15,
   "metadata": {},
   "outputs": [],
   "source": [
    "## 모든 조합을 비교하지 않고 정답, 즉 타겟에서 첫 번째 값을 뺀 값 target - n이 존재하는지 탐색하는 문제로 변경해보자"
   ]
  },
  {
   "cell_type": "code",
   "execution_count": 16,
   "metadata": {},
   "outputs": [],
   "source": [
    "def twoSum(nums: List[int], target: int) -> List[int]:\n",
    "    for i, n in enumerate(nums): ## O(n)\n",
    "        complement = target - n\n",
    "        \n",
    "        if complement in nums[i + 1:]: ## O(n)\n",
    "            return nums.index(n), nums[i + 1:].index(complement) + (i + 1)"
   ]
  },
  {
   "cell_type": "code",
   "execution_count": 17,
   "metadata": {},
   "outputs": [],
   "source": [
    "## 여기서 in의 시간 복잡도는 O(n)이고 따라서 전체 시간 복잡도는이전과 동일한 O(n^2)이다.\n",
    "## 그런데 여기서는 같은 시간 복잡도라도 in 연산 쪽이 훨씬 더 가볍고 빠르다. "
   ]
  },
  {
   "cell_type": "markdown",
   "metadata": {},
   "source": [
    "##### 풀이 3 첫 번째 수를 뺀 결과 키 조회"
   ]
  },
  {
   "cell_type": "code",
   "execution_count": 18,
   "metadata": {},
   "outputs": [],
   "source": [
    "## 이번에는 시간 복잡도를 개선해 속도를 높여보자\n",
    "## 비교나 탐색 대신 한 번에 정답을 찾을 수 있는 방법은 없을까?"
   ]
  },
  {
   "cell_type": "code",
   "execution_count": 19,
   "metadata": {},
   "outputs": [],
   "source": [
    "def twoSum(nums: List[int], target: int) -> List[int]:\n",
    "    nums_map = {}\n",
    "    # 키와 값을 바꿔서 딕셔너리로 저장\n",
    "    for i, num in enumerate(nums):\n",
    "        nums_map[num] = i\n",
    "        \n",
    "    # 타겟에서 첫 번째 수를 뺀 결과를 키로 조회\n",
    "    for i, num in enumerate(nums):\n",
    "        if target - num in nums_map and i != nums_map[target - num]:   ## O(n)\n",
    "            return nums.index(num), nums_map[target - num]\n",
    "        \n",
    "         ## return nums.index(n), nums[i + 1:].index(complement) + (i + 1)  --> #2의 풀이"
   ]
  },
  {
   "cell_type": "code",
   "execution_count": 20,
   "metadata": {},
   "outputs": [],
   "source": [
    "## 두 번째 수를 키로 하고 기존의 인덱스는 값으로 바꿔서 딕셔너리로 저장해두면,\n",
    "## 나중에 두 번째 수를 키로 조회해서 정답을 즉시 찾아낼 수 있을 것이다.\n",
    "## 이제 타겟에서 첫 번째 수를 뺀 결과를 키로 조회해보면 두 번째 수의 인덱스를 즉시 조회할 수 있다.\n",
    "## 딕셔너리는 해시 테이블로 구현되어 있고, 이 경우 조회는 평균적으로 O(1)에 가능하다.\n",
    "## 전체는 O(n)이 된다."
   ]
  },
  {
   "cell_type": "markdown",
   "metadata": {},
   "source": [
    "##### 풀이 4 조회 구조 개선"
   ]
  },
  {
   "cell_type": "code",
   "execution_count": 21,
   "metadata": {},
   "outputs": [],
   "source": [
    "## 딕셔너리 저장과 조회를 2개의 for 문으로 각각 처리했던 방식을 좀 더 개선해서 이번에는\n",
    "## 하나의 for로 합쳐서 처리해보자.\n",
    "## 이 경우 전체를 모두 저장할 필요없이 정답을 찾게 되면 함수를 바로 빠져나올 수 있다.\n",
    "## 그러나 두 번째 값을 찾기 위해 어차피 매번 비교해야 하기 때문에 앞 풀이에 비해 성능상의 큰 이점은 없을 것 같다."
   ]
  },
  {
   "cell_type": "code",
   "execution_count": 22,
   "metadata": {},
   "outputs": [],
   "source": [
    "def twoSum(nums: List[int], target: int) -> List[int]:\n",
    "    nums_map = {}\n",
    "    # 하나의 for 문으로 통합\n",
    "    for i, num in enumerate(nums):\n",
    "        if target - num in nums_map:   ## O(n)\n",
    "            return [nums_map[taraget - num], i]\n",
    "        nums_map[num] = i"
   ]
  },
  {
   "cell_type": "code",
   "execution_count": 23,
   "metadata": {},
   "outputs": [],
   "source": [
    "## 실행 속도를 봐도 앞서 풀이와 큰 차이는 없다. O(n)"
   ]
  },
  {
   "cell_type": "markdown",
   "metadata": {},
   "source": [
    "##### 풀이 5 투 포인터 이용"
   ]
  },
  {
   "cell_type": "code",
   "execution_count": 24,
   "metadata": {},
   "outputs": [],
   "source": [
    "## 이 문제를 투 포인터로 풀 수 있을까?\n",
    "## 왼쪽 포인터와 오른쪽 포인터의 합이 타겟보다 크면 오른쪽 포인터를 왼쪽으로\n",
    "## 작다면 왼쪽 포인터를 오른쪽으로 옮기면서 값을 조정하는 방식이다."
   ]
  },
  {
   "cell_type": "code",
   "execution_count": 25,
   "metadata": {},
   "outputs": [],
   "source": [
    "def twoSum(nums: List[int], target: int) -> List[int]:\n",
    "    left, right = 0, len(nums) - 1\n",
    "    while not left == right:\n",
    "        if nums[left] + nums[right] < target:\n",
    "            left += 1\n",
    "        elif nums[left] + nums[right] > target:\n",
    "            right -= 1\n",
    "        else:\n",
    "            return left, right"
   ]
  },
  {
   "cell_type": "code",
   "execution_count": 26,
   "metadata": {},
   "outputs": [],
   "source": [
    "## 직접 코드로 구현해도 간결하고 이해하기가 쉽다.\n",
    "## 투 포인터의 시간 복잡도  O(n)이고, 추가 계산도 필요 없어, 매우 빠른 속도가 기대된다.\n",
    "\n",
    "\n",
    "## 그러나 이 문제는 투 포인터로 풀 수 없다.\n",
    "## 입력값인 nums는 정렬된 상태가 아니기 때문이다\n",
    "## 제대로 풀이하려면 정렬이 필요한데, 정렬을 해버리면 원래 인덱스가 엉망이 되어 \n",
    "## 나중에 원래 인덱스를 찾을 수가 없다\n",
    "## 이 문제가 인덱스가 아니라 값을 찾는 문제라면, 얼마든지 정렬하고 투 포인터로 풀이할 수 있다."
   ]
  },
  {
   "cell_type": "markdown",
   "metadata": {},
   "source": [
    "##### 풀이 6 고(Go)  구현"
   ]
  },
  {
   "cell_type": "code",
   "execution_count": 27,
   "metadata": {},
   "outputs": [],
   "source": [
    "## 동일한 로직을 좀 더 빠른 언어로 작성해보면 어떨까?\n",
    "## Go 언어로 #3 알고리즘을 동일하게 작성했더니 무려 8ms 만에 실행됐다.\n",
    "## 파이썬과 같은 알고리즘으로 6배나 빠르게 실행되었다."
   ]
  },
  {
   "cell_type": "code",
   "execution_count": 28,
   "metadata": {},
   "outputs": [],
   "source": [
    "## 이번 문제는 파이썬에서도 아무런 문제가 없었지만 어떤 문제들은 언어별로 타임아웃이 발생하는 경우도 있다.\n",
    "## 만약 파이썬 풀이에서 계속 타임아웃이 발생하고 그 원인을 찾기 어렵다면,\n",
    "## 다른 언어로 재작성해 성능을 확인해볼 필요가 있다.\n",
    "## 아직까지 코딩 테스트 플랫폼들이 완벽하지는 않기 때문에, 이 같은 특징들은 잘 숙지해두었다가\n",
    "## 적절히 대응할 수 있어야한다. "
   ]
  },
  {
   "cell_type": "markdown",
   "metadata": {},
   "source": [
    "# 8. 빗물 트래핑"
   ]
  },
  {
   "cell_type": "markdown",
   "metadata": {},
   "source": [
    "### LeetCode 42. Trapping Rain Water"
   ]
  },
  {
   "cell_type": "markdown",
   "metadata": {},
   "source": [
    "##### 높이를 입력받아 비 온 후 얼마나 많은 물이 쌓일 수 있는지를 계산하라."
   ]
  },
  {
   "cell_type": "code",
   "execution_count": 29,
   "metadata": {},
   "outputs": [],
   "source": [
    "## 예제 1\n",
    "    ## input : [0, 1, 0, 2, 1, 0, 1, 3, 2, 1, 2, 1]\n",
    "    ## output : 6"
   ]
  },
  {
   "cell_type": "markdown",
   "metadata": {},
   "source": [
    "##### 풀이 1 투 포인터를 최대로 이동"
   ]
  },
  {
   "cell_type": "code",
   "execution_count": 30,
   "metadata": {},
   "outputs": [],
   "source": [
    "## 이 문제는 높이와 너비 모든 공간을 차례대로 모두 살펴보면 O(n^2)에 풀이가 가능하다.\n",
    "## 그러나 시간 복잡도가 너무 높기 때문에 좀 더 효율적인 풀이를 찾아야한다.\n",
    "## 투 포인터나 스택으로 O(n)에 풀이가 가능할 것 같다.\n",
    "## 먼저 투 포인터 방식을 살펴보자."
   ]
  },
  {
   "cell_type": "code",
   "execution_count": 31,
   "metadata": {},
   "outputs": [],
   "source": [
    "from typing import List\n",
    "\n",
    "def trap(height: List[int]) -> int:\n",
    "    if not height:\n",
    "        return 0\n",
    "    \n",
    "    volume = 0\n",
    "    left, right = 0, len(height) - 1\n",
    "    left_max, right_max = height[left], height[right]\n",
    "    \n",
    "    while left < right:  ## O(n)\n",
    "        left_max, right_max = max(height[left], left_max), max(height[right], right_max) ## 각 포인터에서 높이와 비교해 max를 옮김\n",
    "        \n",
    "        # 더 높은 쪽을 향해 투 포인터 이동\n",
    "        if left_max <= right_max:\n",
    "            volume += left_max - height[left] ## left 쪽의 max 값이므로 음수가 나올 일은 없다. 같은 값이면 0을 더해준다.\n",
    "            left += 1\n",
    "        else:\n",
    "            volume += right_max - height[right] ## left와 마찬가지\n",
    "            right -= 1\n",
    "            \n",
    "    return volume"
   ]
  },
  {
   "cell_type": "code",
   "execution_count": 32,
   "metadata": {},
   "outputs": [],
   "source": [
    "## 이처럼 최대 높이의 막대까지 각각 좌우 기둥 최대 높이 left_max, right_max가\n",
    "## 현재 높이와의 차이만큼 물 높이 volume을 더해 나간다.\n",
    "## 이렇게 하면 가장 높이가 높은 막대에서 좌우 포인터가 서로 만나게 되며\n",
    "## O(n)에 풀이가 가능하다."
   ]
  },
  {
   "cell_type": "markdown",
   "metadata": {},
   "source": [
    "##### 풀이 2 스택 쌓기"
   ]
  },
  {
   "cell_type": "code",
   "execution_count": 33,
   "metadata": {},
   "outputs": [],
   "source": [
    "## 스택에 쌓아 나가면서 현재 높이가 이전 높이보다 높을 떄, 즉 꺾이는 부분을 기준으로\n",
    "## 격차만큼 물 높이 volume을 채운다."
   ]
  },
  {
   "cell_type": "code",
   "execution_count": 34,
   "metadata": {},
   "outputs": [],
   "source": [
    "def trap(height: List[int]) -> int:\n",
    "    stack = []\n",
    "    volume = 0\n",
    "    \n",
    "    for i in range(len(height)): ## 리스트 요소 길이만큼 순회 \n",
    "        # 변곡점을 만나는 경우\n",
    "        while stack and height[i] > height[stack[-1]]:\n",
    "            # 스택에서 꺼낸다\n",
    "            top = stack.pop()\n",
    "            \n",
    "            if not len(stack):\n",
    "                break\n",
    "                \n",
    "            # 이전과의 차이만큼 물 높이 처리\n",
    "            distance = i - stack[-1] - 1\n",
    "            waters = min(height[i], height[stack[-1]]) - height[top]\n",
    "            \n",
    "            volumes += distance * waters\n",
    "            \n",
    "        stack.append(i)\n",
    "    return volume"
   ]
  },
  {
   "cell_type": "code",
   "execution_count": 35,
   "metadata": {},
   "outputs": [],
   "source": [
    "## 이 문제는 상당히 어려운 문제다. 특히 스택 쌓기 풀이는 직관적으로 떠올리기가 쉽지 않을 뿐더러\n",
    "## 풀이 방법 또한 많이 고민해봐야 하는 문제로,\n",
    "## 만약 코딩 테스트에서 마주치게 된다면 제대로 동작하는 코드를 작성하기 위해서는\n",
    "## 적지 않은 시간이 필요할 것이다. "
   ]
  },
  {
   "cell_type": "code",
   "execution_count": 36,
   "metadata": {},
   "outputs": [
    {
     "name": "stdout",
     "output_type": "stream",
     "text": [
      "stack: [0]\n",
      "top: 0\n",
      "stack: []\n",
      "stack: [1]\n",
      "stack: [1, 2]\n",
      "top: 2\n",
      "stack: [1]\n",
      "물 부피: 1\n",
      "top: 1\n",
      "stack: []\n",
      "stack: [3]\n",
      "stack: [3, 4]\n",
      "stack: [3, 4, 5]\n",
      "top: 5\n",
      "stack: [3, 4]\n",
      "물 부피: 2\n",
      "stack: [3, 4, 6]\n",
      "top: 6\n",
      "stack: [3, 4]\n",
      "물 부피: 2\n",
      "top: 4\n",
      "stack: [3]\n",
      "물 부피: 5\n",
      "top: 3\n",
      "stack: []\n",
      "stack: [7]\n",
      "stack: [7, 8]\n",
      "stack: [7, 8, 9]\n",
      "top: 9\n",
      "stack: [7, 8]\n",
      "물 부피: 6\n",
      "stack: [7, 8, 10]\n",
      "stack: [7, 8, 10, 11]\n"
     ]
    }
   ],
   "source": [
    "height = [0, 1, 0, 2, 1, 0, 1, 3, 2, 1, 2, 1]\n",
    "stack = []\n",
    "volume = 0\n",
    "\n",
    "for i in range(len(height)): ## 리스트 요소 길이만큼 순회 \n",
    "    # 현재 높이가 이전 높이보다 높을 때인 변곡점을 만나는 경우\n",
    "    while stack and height[i] > height[stack[-1]]:\n",
    "        # 스택에서 꺼낸다\n",
    "        top = stack.pop()\n",
    "        print('top: %s' % top)\n",
    "        print('stack: %s' % stack)\n",
    "#         print('길이: %s' % len(stack))\n",
    "        if not len(stack): ## stack 비었으면 break\n",
    "            break\n",
    "\n",
    "        # 이전과의 차이만큼 물 높이 처리\n",
    "        distance = i - stack[-1] - 1\n",
    "        waters = min(height[i], height[stack[-1]]) - height[top]\n",
    "\n",
    "        volume += distance * waters\n",
    "        print('물 부피: %s' % volume)\n",
    "        \n",
    "    stack.append(i)\n",
    "    print('stack: %s' % stack)\n",
    "    \n",
    "    "
   ]
  },
  {
   "cell_type": "markdown",
   "metadata": {},
   "source": [
    "# 9. 세 수의 합"
   ]
  },
  {
   "cell_type": "markdown",
   "metadata": {},
   "source": [
    "### LeetCode 15. 3Sum"
   ]
  },
  {
   "cell_type": "markdown",
   "metadata": {},
   "source": [
    "##### 배열을 입력받아 합으로 0을 만들 수 있는 3개의 엘리먼트를 출력하라."
   ]
  },
  {
   "cell_type": "code",
   "execution_count": 37,
   "metadata": {},
   "outputs": [],
   "source": [
    "## 예제 1\n",
    "    ## input : nums = [-1, 0, 1, 2, -1, -4]\n",
    "    ## output : [[-1, 0, 1], \n",
    "    ##          [-1, -1, 2]]"
   ]
  },
  {
   "cell_type": "markdown",
   "metadata": {},
   "source": [
    "##### 풀이 1 브루트 포스로 계산"
   ]
  },
  {
   "cell_type": "code",
   "execution_count": 38,
   "metadata": {},
   "outputs": [],
   "source": [
    "def threeSum(nums: List[int]) -> List[List[int]]:\n",
    "    results = []\n",
    "    nums.sort()\n",
    "    \n",
    "    # 브루트포스 O(n^3) 반복\n",
    "    for i in range(len(nums) - 2):\n",
    "        # 중복된 값 건너뛰기\n",
    "        if i > 0 and nums[i] == nums[i-1]:\n",
    "            continue\n",
    "        \n",
    "        for j in range(i + 1, len(nums) - 1):\n",
    "            if j > i + 1 and nums[j] == nums[j - 1]:\n",
    "                continue\n",
    "            \n",
    "            for k in range(j + 1, len(nums)):\n",
    "                if k > j + 1 and nums[k] == nums[k - 1]:\n",
    "                    continue\n",
    "                if nums[i] + nums[j] + nums[k] == 0:\n",
    "                    results.append([nums[i], nums[j], nums[k]])\n",
    "    \n",
    "    return results"
   ]
  },
  {
   "cell_type": "code",
   "execution_count": 39,
   "metadata": {},
   "outputs": [],
   "source": [
    "## 틀린 부분은 없지만 이 방식으로는 타임아웃으로 풀이에 실패한다."
   ]
  },
  {
   "cell_type": "markdown",
   "metadata": {},
   "source": [
    "##### 풀이 2 투 포인터로 합 계산"
   ]
  },
  {
   "cell_type": "code",
   "execution_count": 40,
   "metadata": {},
   "outputs": [],
   "source": [
    "def threeSum(nums: List[int]) -> List[List[int]]:\n",
    "    results = []\n",
    "    nums.sort()\n",
    "    \n",
    "    for i in range(len(nums) - 2):\n",
    "        # 중복된 값 건너뛰기\n",
    "        if i > 0 and nums[i] == nums[i - 1]:\n",
    "            continue\n",
    "            \n",
    "        # 간격을 좁혀가며 합 sum 계산\n",
    "        left, right = i + 1, len(nums) - 1\n",
    "        while left < right:\n",
    "            Sum = nums[i] + nums[left] + nums[right]\n",
    "            if Sum < 0:\n",
    "                left += 1\n",
    "            elif Sum > 0:\n",
    "                right -= 1\n",
    "            else:\n",
    "                # sum = 0인 경우이므로 정답 및 스킵 처리\n",
    "                results.append([nums[i], nums[left], nums[right]])\n",
    "                \n",
    "                while left < right and nums[left] == nums[left + 1]:\n",
    "                    left += 1\n",
    "                while left < right and nums[right] == nums[right - 1]:\n",
    "                    right -= 1\n",
    "                    \n",
    "                left += 1\n",
    "                right -= 1\n",
    "    \n",
    "    return results"
   ]
  },
  {
   "cell_type": "code",
   "execution_count": 41,
   "metadata": {},
   "outputs": [
    {
     "name": "stdout",
     "output_type": "stream",
     "text": [
      "[[-1, -1, 2], [-1, 0, 1]]\n"
     ]
    }
   ],
   "source": [
    "nums = [-1, 0, 1, 2, -1, -4]\n",
    "\n",
    "print(threeSum(nums))"
   ]
  },
  {
   "cell_type": "code",
   "execution_count": 42,
   "metadata": {},
   "outputs": [],
   "source": [
    "results = []\n",
    "nums.sort()\n",
    "\n",
    "for i in range(len(nums) - 2):\n",
    "    # 중복된 값 건너뛰기\n",
    "    if i > 0 and nums[i] == nums[i - 1]:\n",
    "        continue\n",
    "\n",
    "    # 간격을 좁혀가며 합 sum 계산\n",
    "    left, right = i + 1, len(nums) - 1\n",
    "    while left < right:\n",
    "        Sum = nums[i] + nums[left] + nums[right]\n",
    "        if Sum < 0:\n",
    "            left += 1\n",
    "        elif Sum > 0:\n",
    "            right -= 1\n",
    "        else:\n",
    "            # sum = 0인 경우이므로 정답 및 스킵 처리\n",
    "            results.append([nums[i], nums[left], nums[right]])\n",
    "            #### 중복된 값이 있으면 포인터 이동 처리\n",
    "            while left < right and nums[left] == nums[left + 1]:\n",
    "                left += 1\n",
    "            while left < right and nums[right] == nums[right - 1]:\n",
    "                right -= 1\n",
    "            #### 없으면 한 칸씩만 이동 처리 \n",
    "            left += 1\n",
    "            right -= 1"
   ]
  },
  {
   "cell_type": "markdown",
   "metadata": {},
   "source": [
    "# 10. 배열 파티션 - (1)"
   ]
  },
  {
   "cell_type": "markdown",
   "metadata": {},
   "source": [
    "### LeetCode 561. Array Partition - (1)"
   ]
  },
  {
   "cell_type": "markdown",
   "metadata": {},
   "source": [
    "##### n 개의 페어를 이용한 min(a, b)의 합으로 만들 수  있는 가장 큰 수를 출력하라"
   ]
  },
  {
   "cell_type": "code",
   "execution_count": 43,
   "metadata": {},
   "outputs": [],
   "source": [
    "## 예제 1\n",
    "    ## input : [1, 4, 3, 2]\n",
    "    ## output : 4"
   ]
  },
  {
   "cell_type": "markdown",
   "metadata": {},
   "source": [
    "##### 풀이 1 오름차순 풀이"
   ]
  },
  {
   "cell_type": "code",
   "execution_count": 44,
   "metadata": {},
   "outputs": [],
   "source": [
    "## 페어의 min()을 합산했을 때 최대를 만드는 것은 결국 min()이 되도록 커야 한다는 뜻이고\n",
    "## 뒤에서부터 내림차순으로 집어넣으면 항상 최대 min() 페어를 유지할 수 있다.\n",
    "## 이 문제에서 배열 입력값은 항상 2n개일 것이므로 앞에서부터 오름차순으로 집어넣어도 결과는 같을 것이다."
   ]
  },
  {
   "cell_type": "code",
   "execution_count": 45,
   "metadata": {},
   "outputs": [],
   "source": [
    "def arrayPairSum(nums: List[int]) -> int:\n",
    "    Sum = 0\n",
    "    pair = []\n",
    "    nums.sort()\n",
    "    \n",
    "    for n in nums:\n",
    "        pair.append(n)\n",
    "        if len(pair) == 2:\n",
    "            Sum += min(pair) ## min() 함수에 바로 list 적용해도 되는구나\n",
    "            pair = []\n",
    "            \n",
    "    return Sum"
   ]
  },
  {
   "cell_type": "markdown",
   "metadata": {},
   "source": [
    "##### 풀이 2 짝수 번째 값 계산"
   ]
  },
  {
   "cell_type": "code",
   "execution_count": 46,
   "metadata": {},
   "outputs": [],
   "source": [
    "## 페어에 대해 일일이 min() 값을 구하지 않아도 짝수 번째 값(0부터 시작하므로)을 더하면 될 것 같다. \n",
    "## 정렬된 상태에서는 짝수 번째에 항상 작은 값이 위치하기 때문이다."
   ]
  },
  {
   "cell_type": "code",
   "execution_count": 47,
   "metadata": {},
   "outputs": [],
   "source": [
    "def arrayPairSum(nums: List[int]) -> int:\n",
    "    Sum = 0\n",
    "    nums.sort()\n",
    "    \n",
    "    for i, n in enumerate(nums):\n",
    "        if i % 2 == 0:\n",
    "            Sum += n\n",
    "            \n",
    "    return Sum"
   ]
  },
  {
   "cell_type": "markdown",
   "metadata": {},
   "source": [
    "##### 풀이 3 파이썬다운 방식"
   ]
  },
  {
   "cell_type": "code",
   "execution_count": 48,
   "metadata": {},
   "outputs": [],
   "source": [
    "## 이 코드를 좀 더 정리할 순 없을까?\n",
    "## 앞서 살펴본 슬라이싱을 이용하면 단 한 줄로도 풀이가 가능하다."
   ]
  },
  {
   "cell_type": "code",
   "execution_count": 51,
   "metadata": {},
   "outputs": [],
   "source": [
    "def arrayPairSum(nums: List[int]) -> int:\n",
    "    return sum(sorted(nums)[::2])"
   ]
  },
  {
   "cell_type": "code",
   "execution_count": 56,
   "metadata": {},
   "outputs": [],
   "source": [
    "## 파이썬 다운 방식이 가장 코드가 짧으면서도 슬라이싱을 사용한 덕분에 성능 또한 가장 좋다."
   ]
  },
  {
   "cell_type": "markdown",
   "metadata": {},
   "source": [
    "# 11. 자신을 제외한 배열의 곱"
   ]
  },
  {
   "cell_type": "markdown",
   "metadata": {},
   "source": [
    "### LeetCode 238. Product of Array Except Self"
   ]
  },
  {
   "cell_type": "markdown",
   "metadata": {},
   "source": [
    "##### 배열을 입력받아 output[i]가 자신을 제외한 나머지 모든 요소의 곱셈 결과가 되도록 출력하라"
   ]
  },
  {
   "cell_type": "code",
   "execution_count": 58,
   "metadata": {},
   "outputs": [],
   "source": [
    "## 예제 1\n",
    "    ## input : [1, 2, 3, 4]\n",
    "    ## output : [24, 12, 8, 6]\n",
    "    \n",
    "## 나눗셈을 하지 않고 O(n)에 풀이하라"
   ]
  },
  {
   "cell_type": "code",
   "execution_count": 59,
   "metadata": {},
   "outputs": [],
   "source": [
    "## 이 문제에는 중요한 제약사항이 있다.\n",
    "## 나눗셈을 하지 않고 O(n)에 풀이하라는 점인데 이 말은 \n",
    "## 미리 전체 곱셈 값을 구해놓고 각 항목별로 자기 자신을 나눠서 풀이하는 방법은 안 된다는 뜻이다."
   ]
  },
  {
   "cell_type": "code",
   "execution_count": 60,
   "metadata": {},
   "outputs": [],
   "source": [
    "## 그렇다면 풀이 방법은 한 가지 뿐이다. \n",
    "## 자기 자신을 제외하고 왼쪽의 곱셈 결과와 오른쪽의 곱셈 결과를 곱해야 한다."
   ]
  },
  {
   "cell_type": "code",
   "execution_count": 61,
   "metadata": {},
   "outputs": [],
   "source": [
    "def productExceptSelf(nums: List[int]) -> List[int]:\n",
    "    out = []\n",
    "    p = 1\n",
    "    \n",
    "    for i in range(0, len(nums)):\n",
    "        out.append(p)\n",
    "        p = p * nums[i]\n",
    "    p = 1\n",
    "                                ## out = [1, 1, 2, 6]\n",
    "    for i in range(len(nums) - 1, 0 - 1, -1):\n",
    "        out[i] = out[i] * p\n",
    "        p = p * nums[i]\n",
    "                                ## out = [24, 12, 8, 6]\n",
    "    return out"
   ]
  },
  {
   "cell_type": "code",
   "execution_count": 62,
   "metadata": {},
   "outputs": [],
   "source": [
    "## 하... 진짜 이런 방법은 어케 생각해내냐?"
   ]
  },
  {
   "cell_type": "markdown",
   "metadata": {},
   "source": [
    "# 12. 주식을 사고팔기 가장 좋은 시점"
   ]
  },
  {
   "cell_type": "markdown",
   "metadata": {},
   "source": [
    "### LeetCode 121. Best Time to Buy and Sell Stock"
   ]
  },
  {
   "cell_type": "markdown",
   "metadata": {},
   "source": [
    "##### 한 번의 거래로 낼 수 있는 최대 이익을 산출하라"
   ]
  },
  {
   "cell_type": "code",
   "execution_count": 64,
   "metadata": {},
   "outputs": [],
   "source": [
    "## 예제 1\n",
    "    ## input : [7, 1, 5, 3, 4]\n",
    "    ## output : 5\n",
    "    \n",
    "## 1일 때 사서 6일 때 팔면 5의 이익을 얻는다."
   ]
  },
  {
   "cell_type": "markdown",
   "metadata": {},
   "source": [
    "##### 풀이 1 브루트포스로 계산"
   ]
  },
  {
   "cell_type": "code",
   "execution_count": 65,
   "metadata": {},
   "outputs": [],
   "source": [
    "## 가장 먼저 접근할 풀이법은 당연히 브루트 포스다. 처음부터 O(n^2)으로 사고 팔고를 반복하면\n",
    "## 마지막에 최대 이익을 산출할 수 있을 것이다."
   ]
  },
  {
   "cell_type": "code",
   "execution_count": 66,
   "metadata": {},
   "outputs": [],
   "source": [
    "def maxProfit(prices: List[int]) -> int:\n",
    "    max_price = 0\n",
    "    \n",
    "    for i, price in enumerate(prices):\n",
    "        for j in range(i, len(prices)):\n",
    "            max_price = max(prices[j] - price, max_price)\n",
    "    \n",
    "    return max_price"
   ]
  },
  {
   "cell_type": "code",
   "execution_count": 67,
   "metadata": {},
   "outputs": [],
   "source": [
    "## 안타깝게도 이 풀이는 타임아웃으로 풀리지 않는다. "
   ]
  },
  {
   "cell_type": "markdown",
   "metadata": {},
   "source": [
    "##### 풀이 2 저점과 현재 값과의 차이 계산"
   ]
  },
  {
   "cell_type": "code",
   "execution_count": 68,
   "metadata": {},
   "outputs": [],
   "source": [
    "## 여기서는 현재값을 가리키는 포인터가 우측으로 이동하면서 이전 상태의 저점을 기준으로 가격 차이를 계산하고\n",
    "## 만약 클 경우 최댓값을 계속 교체해나가는 형태로 O(n)  풀이가 가능하다."
   ]
  },
  {
   "cell_type": "code",
   "execution_count": 72,
   "metadata": {},
   "outputs": [],
   "source": [
    "import sys\n",
    "\n",
    "def maxProfit(prices: List[int]) -> int:\n",
    "    profit = 0\n",
    "    min_price = sys.maxsize\n",
    "    \n",
    "    # 최솟값과 최댓값을 계속 갱신\n",
    "    for price in prices:\n",
    "        min_price = min(min_price, price)\n",
    "        profit = max(profit, price - min_price)\n",
    "        \n",
    "    return profit"
   ]
  },
  {
   "cell_type": "code",
   "execution_count": 74,
   "metadata": {},
   "outputs": [],
   "source": [
    "## profit = -sys.maxsize\n",
    "## min_price = sys.maxsize\n",
    "\n",
    "## 최댓값이 되어야할 변수는 최솟값으로, 최솟값이 되어야할 변수는 최댓값으로 지정한다\n",
    "## 그래야 어떤 값이 들어오든 바로 교체될 수 있기 때문이다.\n",
    "## 만약 None으로 잡아두게 되면 비교 시 TypeError가 발생할 수 있다.\n",
    "## 단 이 문제에서는 profit이 나중에 최종 결과로 리턴되는데\n",
    "## 입력값이 []인 경우 -sys.maxsize가 그대로 리턴될 수 있기 때문에 0으로 해준다."
   ]
  },
  {
   "cell_type": "code",
   "execution_count": 77,
   "metadata": {},
   "outputs": [],
   "source": [
    "## **** 최댓값과 최솟값 ****\n",
    "\n",
    "    ## 최댓값과 최솟값의 초깃값을 지정하는 방법에는 여러 가지가 있다.\n",
    "    ## 최댓값에는 가장 낮은 값을 지정해야 어떤 값이든 최댓값이 교체될 수 있고\n",
    "    ## 최솟값에는 가장 높은 값을 지정해야 어떤 값이든 교체될 수 있다.\n",
    "    \n",
    "    ## sys 모듈을 사용하면 시스템이 지정할 수 있는 가장 높은 값, 낮은 값을 활용할 수 있다.\n",
    "    ## mx = float('-inf')\n",
    "    ## mn = float('inf')\n",
    "    ## float()을 이용해 위와같이 무한대 값을 지정하는 방법도 있다.\n",
    "    \n",
    "    ## 가장 좋지 않은 방법은 다음과 같이 가장 큰 값을 설정해야 하는데 99999와 같은 임의의 값을 지정하는 것이다.\n",
    "    ## mn = 999999\n",
    "    ## 이렇게 할 경우 문제가 생길 수 있다.\n",
    "    ## 파이썬의 숫자형은 임의 정밀도를 지원하며 사실상 무한대의 값을 지정할 수 있다.\n",
    "    ## 아무리 큰 수라 할지라도 얼마든지 더 큰 수가 지정될 수 있으므로\n",
    "    ## 이런 식으로 최솟값 변수에 임의의 값을 지정하는 것은 지양해야 한다.\n",
    "    ## 얼마든지 더 큰 값이 들어와 최솟값이 교체되지 않을 수 있기 때문이다.\n",
    "    ## 사실상 sys.maxsize로 선언하는 것도 파이선에서는 큰 의미가 없다.\n",
    "    ## 하지만 일반적인 코딩테스트의 경우, 모든 언어에 대응하는 공통된 케이스로 구성되어 있고,\n",
    "    ## 따라서 파이썬에서 sys.maxsize로 처리하는 정도만으로도 충분히 가능할 것이다."
   ]
  },
  {
   "cell_type": "code",
   "execution_count": null,
   "metadata": {},
   "outputs": [],
   "source": []
  }
 ],
 "metadata": {
  "kernelspec": {
   "display_name": "Python 3",
   "language": "python",
   "name": "python3"
  },
  "language_info": {
   "codemirror_mode": {
    "name": "ipython",
    "version": 3
   },
   "file_extension": ".py",
   "mimetype": "text/x-python",
   "name": "python",
   "nbconvert_exporter": "python",
   "pygments_lexer": "ipython3",
   "version": "3.8.3"
  }
 },
 "nbformat": 4,
 "nbformat_minor": 4
}
