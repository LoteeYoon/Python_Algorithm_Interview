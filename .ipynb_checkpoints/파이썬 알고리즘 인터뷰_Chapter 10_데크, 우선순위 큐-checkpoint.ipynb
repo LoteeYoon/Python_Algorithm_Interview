{
 "cells": [
  {
   "cell_type": "code",
   "execution_count": 1,
   "metadata": {},
   "outputs": [],
   "source": [
    "## 9장에서는 스택과 큐를 구분해서 살펴봤다. \n",
    "## 각각 특징이 뚜렷하지만 별도로 구분해 사용하기가 번거로운 만큼,\n",
    "## 한 번에 두 자료형의 특징을 모두 갖고 있는 복합 자료형이 있다면 훨씬 더 간편하게 사용할 수 있을 것 같다.\n",
    "\n",
    "## 10장에서는 스택과 큐의 연산을 모두 갖고 있는 복합 자료형인 데크와 추출 순서가 일정하게 정해져 있지 않은\n",
    "## 우선순위 큐에 대해 살펴본다."
   ]
  },
  {
   "cell_type": "markdown",
   "metadata": {},
   "source": [
    "# 데크"
   ]
  },
  {
   "cell_type": "code",
   "execution_count": 2,
   "metadata": {},
   "outputs": [],
   "source": [
    "## 이전 장에서 원형 큐를 구현하면서 Front()와 Rear()를 모두 구현한 바 있다.\n",
    "## 사실 Front()는 큐의 연산이 맞지만 Rear()는 큐에 정의되어 있지 않은 연산이라는 점도 얘기한 바 있다.\n",
    "## 이 연산은 데크에 존재하는 연산으로, 데크의 정의는 다음과 같다.\n",
    "\n",
    "## 데크는 Double Ended Queue의 줄임말로, 글자 그대로 양쪽 끝을 모두 추출할 수 있는, \n",
    "## 큐를 일반화한 형태의 추상자료형이다."
   ]
  },
  {
   "cell_type": "code",
   "execution_count": 3,
   "metadata": {},
   "outputs": [],
   "source": [
    "## 데크는 양쪽에서 삭제와 삽입을 모두 처리할 수 있으며, 스택과 큐의 특징을 모두 갖고 있다.\n",
    "## 이 추상 자료형의 구현은 배열이나 연결리스트 모두 가능하지만,\n",
    "## 이중 연결리스트로 구현하는 편이 가장 잘 어울린다."
   ]
  },
  {
   "cell_type": "code",
   "execution_count": 6,
   "metadata": {},
   "outputs": [],
   "source": [
    "## 이중 연결리스트로 구현하게 되면 양쪽으로 head와 tail이라는 이름의 두 포인터를 갖고 있다가\n",
    "## 새로운 아이템이 추가될 때마다 앞쪽 또는 뒤쪽으로 연결시켜 주기만 하면 된다.\n",
    "## 연결 후에는 포인터를 이동하면 된다.\n",
    "## 파이썬은 데크 자료형을 다음과 같이 collections 모듈에서 deque라는 이름으로 지원한다.\n",
    "\n",
    "## 이제 이중 연결 리스트를 이용해 데크 자료형을 직접 구현하는 문제를 풀이해보자."
   ]
  },
  {
   "cell_type": "markdown",
   "metadata": {},
   "source": [
    "# 26. 원형 데크 디자인"
   ]
  },
  {
   "cell_type": "markdown",
   "metadata": {},
   "source": [
    "### LeetCode 641. Design Circular Deque"
   ]
  },
  {
   "cell_type": "markdown",
   "metadata": {},
   "source": [
    "##### 다음 연산을 제공하는 원형 데크를 디자인하라"
   ]
  },
  {
   "cell_type": "code",
   "execution_count": null,
   "metadata": {},
   "outputs": [],
   "source": []
  }
 ],
 "metadata": {
  "kernelspec": {
   "display_name": "Python 3",
   "language": "python",
   "name": "python3"
  },
  "language_info": {
   "codemirror_mode": {
    "name": "ipython",
    "version": 3
   },
   "file_extension": ".py",
   "mimetype": "text/x-python",
   "name": "python",
   "nbconvert_exporter": "python",
   "pygments_lexer": "ipython3",
   "version": "3.8.3"
  }
 },
 "nbformat": 4,
 "nbformat_minor": 4
}
